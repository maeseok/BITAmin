{
  "cells": [
    {
      "cell_type": "markdown",
      "metadata": {
        "id": "Kk6SiQlT2tD5"
      },
      "source": [
        "# **🍋딥러닝 세션 - 14주 예습과제🍋**"
      ]
    },
    {
      "cell_type": "markdown",
      "metadata": {
        "id": "A8wt8Od14huj"
      },
      "source": [
        "## **4조**\n",
        "**오차역전파(계산 그래프, 연쇄법칙, 역전파)**"
      ]
    },
    {
      "cell_type": "markdown",
      "metadata": {
        "id": "PMb0HYe44mAa"
      },
      "source": [
        "## 1. 계산 그래프 및 연쇄법칙"
      ]
    },
    {
      "cell_type": "markdown",
      "metadata": {
        "id": "E2ak9pYW4nyp"
      },
      "source": [
        "계산 그래프는 계산 과정을 복수의 노드와 엣지로 표현되는 자료구조인 그래프로 나타낸 것으로, 노드는 원으로 표기하고 원 안에 연산 내용을 적습니다. 또한, 계산 결과는 화살표 위에 표기하여 각 노드의 계산 결과가 왼쪽에서 오른쪽으로 전해지게 됩니다. <br>\n",
        "\n",
        "문제 1 : 계산 그래프를 사용하는 장점은 무엇일까요? (힌트 : 국소적 계산) (5점)"
      ]
    },
    {
      "cell_type": "markdown",
      "metadata": {
        "id": "8ReKPPZ04o0F"
      },
      "source": [
        "정답 : 국소적 계산으로 인해 연산을 개별적으로 계산할 수 있고 복잡한 수식을 단순하게 만든다. 또한 메모리를 효율적으로 사용할 수 있다."
      ]
    },
    {
      "cell_type": "markdown",
      "metadata": {
        "id": "PKEqpZrh4peg"
      },
      "source": [
        "계산 그래프를 활용하여 간단한 예제를 풀어보겠습니다.\n",
        "\n",
        "예제 : 마트에서 사과 1개의 가격은 100원이며, 사과를 2개 구매하였을 때의 지불 금액은 얼마일까요? 단, 소비세는 10%입니다. <br>\n",
        "풀이 : 첫 번째 연산은 사과 1개의 가격과 사과의 개수의 곱셈입니다. 두 번째 연산은 첫 번째 연산의 결과와 소비세의 곱셈입니다. 따라서, 지불 금액은 (100 * 2) * 1.1 = 220(원)입니다.\n",
        "\n",
        "계산 그래프는 하단과 같습니다."
      ]
    },
    {
      "cell_type": "markdown",
      "metadata": {
        "id": "8Jowiyuo4qg5"
      },
      "source": [
        "문제 2 : 마트에서 사과 1개의 가격은 100원, 귤 1개의 가격은 150원일 때, 사과 2개와 귤 3개를 구매하였을 때의 지불 금액은 얼마일까요? 단, 소비세는 10%입니다. 계산 그래프를 활용하여 문제를 풀어주세요. (5점) <br>\n",
        "\n",
        "(노드와 화살표로 답안 작성에 어려움이 있어 예제의 풀이와 같이 적어주시면 됩니다.)"
      ]
    },
    {
      "cell_type": "markdown",
      "metadata": {
        "id": "ZZbNUabl4rpz"
      },
      "source": [
        "정답 : (100 * 2+ 150 * 3)*1.1 = 715"
      ]
    },
    {
      "cell_type": "markdown",
      "metadata": {
        "id": "-oPE4klL4szo"
      },
      "source": [
        "문제 3 : 풀이한 문제의 정답 확인을 위해 하단 첫 번째 셀을 실행하고, 두 번째 셀의 코드를 마저 채워서 정답을 확인해주세요. (10점)"
      ]
    },
    {
      "cell_type": "code",
      "execution_count": 1,
      "metadata": {
        "id": "Wxd-X-of4hSP"
      },
      "outputs": [],
      "source": [
        "# 코드 수정없이 실행\n",
        "\n",
        "class MulLayer:\n",
        "    def __init__(self):\n",
        "        self.x = None\n",
        "        self.y = None\n",
        "\n",
        "    def forward(self, x, y):\n",
        "        self.x = x\n",
        "        self.y = y\n",
        "        out = x * y\n",
        "        return out\n",
        "\n",
        "class AddLayer:\n",
        "    def __init__(self):\n",
        "        pass\n",
        "\n",
        "    def forward(self, x, y):\n",
        "        out = x + y\n",
        "        return out"
      ]
    },
    {
      "cell_type": "code",
      "execution_count": 2,
      "metadata": {
        "id": "nhztoBKZ4ujJ"
      },
      "outputs": [
        {
          "name": "stdout",
          "output_type": "stream",
          "text": [
            "지불 금액 : 715원\n"
          ]
        }
      ],
      "source": [
        "# 공란 채우기\n",
        "\n",
        "# 입력 값 설정\n",
        "apple = 100\n",
        "apple_num = 2\n",
        "orange = 150\n",
        "orange_num = 3\n",
        "tax = 1.1\n",
        "\n",
        "# 계층 생성\n",
        "mul_apple_layer = MulLayer()\n",
        "mul_orange_layer = MulLayer()\n",
        "add_apple_orange_layer = AddLayer()\n",
        "mul_tax_layer = MulLayer()\n",
        "\n",
        "# 순전파\n",
        "apple_price = mul_apple_layer.forward(apple, apple_num) \n",
        "orange_price = mul_orange_layer.forward(orange, orange_num)  \n",
        "total_price = add_apple_orange_layer.forward(apple_price, orange_price)  \n",
        "price_with_tax = mul_tax_layer.forward(total_price, tax)  \n",
        "\n",
        "print(f\"지불 금액 : {price_with_tax:.0f}원\")"
      ]
    },
    {
      "cell_type": "markdown",
      "metadata": {
        "id": "nCK0lb464vsq"
      },
      "source": [
        "모범 답안) <br>\n",
        "지불 금액 : 715원"
      ]
    },
    {
      "cell_type": "markdown",
      "metadata": {
        "id": "I7ZmrK7c4yrG"
      },
      "source": [
        "문제 4 : 계산 그래프에서 왼쪽부터 오른쪽으로 진행하는 방식을 <>, 오른쪽에서 왼쪽으로 진행하는 방식을 <>라고 합니다. <>에 들어갈 단어를 순서대로 적어주세요. (5점)"
      ]
    },
    {
      "cell_type": "markdown",
      "metadata": {
        "id": "YDNVxQzM4zs4"
      },
      "source": [
        "정답 : 순전파, 역전파"
      ]
    },
    {
      "cell_type": "markdown",
      "metadata": {
        "id": "_SwoDTbT40lO"
      },
      "source": [
        "## 2. 연쇄 법칙 및 역전파"
      ]
    },
    {
      "cell_type": "markdown",
      "metadata": {
        "id": "oMv_JdPR41sI"
      },
      "source": [
        "문제 1 : 연쇄 법칙은 국소적인 미분을 오른쪽에서 왼쪽으로 진행하는 계산 그래프의 역전파와 같습니다. 즉, 합성 함수의 <>을 계산하는 방법으로 합성 함수를 구성하는 각 함수의 <>의 곱으로 나타낼 수 있습니다. <>에 들어갈 단어를 적어주세요. (<>은 모두 동일한 단어) (5점)"
      ]
    },
    {
      "cell_type": "markdown",
      "metadata": {
        "id": "ZM7weI0L43VS"
      },
      "source": [
        "정답 : 미분"
      ]
    },
    {
      "cell_type": "markdown",
      "metadata": {
        "id": "olGJC_ii437p"
      },
      "source": [
        "문제 2 : 역전파는 신경망의 학습 과정에서 사용됩니다. 역전파의 주요 목적은 무엇인가요? (5점)\n",
        "\n",
        "a) 새로운 데이터를 생성하기 위해서 <br>\n",
        "b) 입력 데이터의 차원을 줄이기 위해서 <br>\n",
        "c) 네트워크의 가중치를 업데이트하여 손실을 최소화하기 위해서 <br>\n",
        "d) 네트워크의 출력을 증가시키기 위해서 <br>"
      ]
    },
    {
      "cell_type": "markdown",
      "metadata": {
        "id": "OZzXW1gk443I"
      },
      "source": [
        "정답 : c"
      ]
    },
    {
      "cell_type": "markdown",
      "metadata": {
        "id": "hWqCqPr746ZF"
      },
      "source": [
        "문제 3 : 상단에서 풀이한 계산 그래프 예제입니다. 계산 그래프의 역전파를 이용하여 소비세에 대한 지불 금액의 미분을 구하면 200이라면, 사과 가격의 미분과 사과 개수의 미분은 얼마인가요? (5점)"
      ]
    },
    {
      "cell_type": "markdown",
      "metadata": {
        "id": "_0JuosBX468e"
      },
      "source": [
        "정답 : 200,100"
      ]
    },
    {
      "cell_type": "markdown",
      "metadata": {
        "id": "gThHQ7kD49Hl"
      },
      "source": [
        "문제 4 : 계산 그래프를 확인하고 사과 가격에 대한 미분, 사과 개수에 대한 미분, 귤 가격에 대한 미분, 귤 개수에 대한 미분, 소비세에 대한 미분을 구하시오. (5점)"
      ]
    },
    {
      "cell_type": "markdown",
      "metadata": {
        "id": "bMdAPZcd4_Yx"
      },
      "source": [
        "정답 : 440, 22000, 660, 33000, 200"
      ]
    },
    {
      "cell_type": "markdown",
      "metadata": {
        "id": "S2sNBvO65BO3"
      },
      "source": [
        "문제 5 : 풀이한 문제의 정답 확인을 위해 하단 첫 번째 셀을 실행하고, 두 번째 셀의 코드를 마저 채워서 정답을 확인해주세요. (5점)"
      ]
    },
    {
      "cell_type": "code",
      "execution_count": 3,
      "metadata": {
        "id": "u_3GxpNJ5Avn"
      },
      "outputs": [],
      "source": [
        "# 코드 수정없이 실행\n",
        "\n",
        "class MulLayer:\n",
        "    def __init__(self):\n",
        "        self.x = None\n",
        "        self.y = None\n",
        "\n",
        "    def forward(self, x, y):\n",
        "        self.x = x\n",
        "        self.y = y\n",
        "        out = x * y\n",
        "        return out\n",
        "\n",
        "    def backward(self, dout):\n",
        "        dx = dout * self.y  # x에 대한 미분\n",
        "        dy = dout * self.x  # y에 대한 미분\n",
        "        return dx, dy\n",
        "\n",
        "class AddLayer:\n",
        "    def __init__(self):\n",
        "        pass\n",
        "\n",
        "    def forward(self, x, y):\n",
        "        out = x + y\n",
        "        return out\n",
        "\n",
        "    def backward(self, dout):\n",
        "        dx = dout  # x에 대한 미분\n",
        "        dy = dout  # y에 대한 미분\n",
        "        return dx, dy"
      ]
    },
    {
      "cell_type": "code",
      "execution_count": 4,
      "metadata": {
        "id": "7LxTL_eZ48-P"
      },
      "outputs": [
        {
          "name": "stdout",
          "output_type": "stream",
          "text": [
            "사과 가격에 대한 미분: 2.2, 사과 개수에 대한 미분: 110\n",
            "귤 가격에 대한 미분: 3.3, 귤 개수에 대한 미분: 165\n",
            "소비세에 대한 미분: 650\n"
          ]
        }
      ],
      "source": [
        "# 입력 값 설정\n",
        "apple = 100\n",
        "apple_num = 2\n",
        "orange = 150\n",
        "orange_num = 3\n",
        "tax = 1.1\n",
        "\n",
        "# 계층 생성\n",
        "mul_apple_layer = MulLayer()\n",
        "mul_orange_layer = MulLayer()\n",
        "add_apple_orange_layer = AddLayer()\n",
        "mul_tax_layer = MulLayer()\n",
        "\n",
        "# 순전파\n",
        "apple_price = mul_apple_layer.forward(apple, apple_num)\n",
        "orange_price = mul_orange_layer.forward(orange, orange_num)\n",
        "total_price = add_apple_orange_layer.forward(apple_price, orange_price)\n",
        "price_with_tax = mul_tax_layer.forward(total_price, tax)\n",
        "\n",
        "# 역전파\n",
        "dprice_with_tax = 1 \n",
        "dtotal_price, dtax = mul_tax_layer.backward(dprice_with_tax)\n",
        "dapple_price, dorange_price = add_apple_orange_layer.backward(dtotal_price)\n",
        "dorange, dorange_num = mul_orange_layer.backward(dorange_price)\n",
        "dapple, dapple_num = mul_apple_layer.backward(dapple_price)\n",
        "\n",
        "print(f\"사과 가격에 대한 미분: {dapple:.1f}, 사과 개수에 대한 미분: {dapple_num:.0f}\")\n",
        "print(f\"귤 가격에 대한 미분: {dorange:.1f}, 귤 개수에 대한 미분: {dorange_num:.0f}\")\n",
        "print(f\"소비세에 대한 미분: {dtax:.0f}\")"
      ]
    },
    {
      "cell_type": "markdown",
      "metadata": {
        "id": "EdBL78Da5DeV"
      },
      "source": [
        "모범 답안)<br>\n",
        "사과 가격에 대한 미분: 2.2, 사과 개수에 대한 미분: 110<br>\n",
        "귤 가격에 대한 미분: 3.3, 귤 개수에 대한 미분: 165<br>\n",
        "소비세에 대한 미분: 650"
      ]
    },
    {
      "cell_type": "markdown",
      "metadata": {
        "id": "AtpzaVGL28W3"
      },
      "source": [
        "---"
      ]
    },
    {
      "cell_type": "markdown",
      "metadata": {
        "id": "64wMjdK225qC"
      },
      "source": [
        "## **5조**"
      ]
    },
    {
      "cell_type": "markdown",
      "metadata": {
        "id": "aWhdzuqrSVIs"
      },
      "source": [
        "## **1. 오차역전파(단순한 계층, 활성화 함수 계층 구현)**\n",
        "(총 25점)"
      ]
    },
    {
      "cell_type": "markdown",
      "metadata": {
        "id": "3jmS3QXDS3qf"
      },
      "source": [
        "**1-1. 신경망의 기능 단위를 의미하는 단어는 무엇인가요? (2점)**"
      ]
    },
    {
      "cell_type": "markdown",
      "metadata": {
        "id": "T4snYguuYqav"
      },
      "source": [
        "답) 노드"
      ]
    },
    {
      "cell_type": "markdown",
      "metadata": {
        "id": "H4SrR6QRZFwL"
      },
      "source": [
        "**1-2. 다음은 순전파와 역전파의 메서드입니다. 각각 어떠한 역할을 하는지  설명해주세요. (3점)**\n",
        "\n",
        "\n",
        "forward() : 순전파\n",
        "\n",
        "backward() : 역전파\n",
        "\n",
        "\n"
      ]
    },
    {
      "cell_type": "markdown",
      "metadata": {
        "id": "4eNVzTMHZ_CR"
      },
      "source": [
        "답) 순전파는 입력 데이터가 신경망을 통과하며 출력을 생성하는 과정이다.\n",
        "    역전파는 손실 함수의 기울기 계산하여 네트워크의 파라미터 업데이트하는 과정이다."
      ]
    },
    {
      "cell_type": "markdown",
      "metadata": {
        "id": "szXHrJ2paHDE"
      },
      "source": [
        "**1-3. 아래 곱셈 계층 코드를 완성해주세요. (4점)**"
      ]
    },
    {
      "cell_type": "code",
      "execution_count": 5,
      "metadata": {
        "id": "RuwFv8ymaGnK"
      },
      "outputs": [],
      "source": [
        "class MulLayer:\n",
        "    def __init__(self):\n",
        "        self.x = None\n",
        "        self.y = None\n",
        "\n",
        "    def forward(self, x, y):\n",
        "        self.x = x\n",
        "        self.y = y\n",
        "        out = x * y\n",
        "        return out\n",
        "\n",
        "    def backward(self, dout):\n",
        "        dx = dout * self.y\n",
        "        dy = dout * self.x\n",
        "        return dx, dy"
      ]
    },
    {
      "cell_type": "markdown",
      "metadata": {
        "id": "EjYU-Ca957gr"
      },
      "source": [
        "**1-4. 위 곱셈 계층 구현 코드를 완성하고 설명해주세요. (4점)**"
      ]
    },
    {
      "cell_type": "markdown",
      "metadata": {
        "id": "c-kQAf_q6NTj"
      },
      "source": [
        "답) 두 값의 곱셈을 수행하는 계층"
      ]
    },
    {
      "cell_type": "markdown",
      "metadata": {
        "id": "12orO6yccZ7P"
      },
      "source": [
        "**1-5. 아래 이미지를 보고 ??? 된 부분을 작성해주세요. (5점)**\n",
        "\n",
        "> 이미지가 보이지 않는 경우, URL을 확인해주세요.\n",
        "\n",
        "https://velog.velcdn.com/images%2Fkyj93790%2Fpost%2F69523c42-793c-4ac2-ba10-a2387846e043%2Fimage.png\n",
        "\n"
      ]
    },
    {
      "cell_type": "markdown",
      "metadata": {
        "id": "oS660xDJcA7l"
      },
      "source": [
        "![image.png](data:image/png;base64,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)"
      ]
    },
    {
      "cell_type": "code",
      "execution_count": 6,
      "metadata": {
        "colab": {
          "base_uri": "https://localhost:8080/"
        },
        "id": "J7hpfwkUcBYP",
        "outputId": "8299d55d-f68b-4316-ae1b-3b4add3c9799"
      },
      "outputs": [
        {
          "name": "stdout",
          "output_type": "stream",
          "text": [
            "price: 220\n",
            "dApple: 2.2\n",
            "dApple_num: 110\n",
            "dTax: 200\n"
          ]
        }
      ],
      "source": [
        "apple = 100\n",
        "apple_num = 2\n",
        "tax = 1.1\n",
        "\n",
        "# 계층\n",
        "mul_apple_layer = MulLayer()\n",
        "mul_tax_layer = MulLayer()\n",
        "\n",
        "# forward\n",
        "apple_price = mul_apple_layer.forward(apple, apple_num)\n",
        "price = mul_tax_layer.forward(apple_price, tax)\n",
        "# backward\n",
        "dprice = 1\n",
        "dapple_price, dtax = mul_tax_layer.backward(dprice)\n",
        "dapple, dapple_num = mul_apple_layer.backward(dapple_price)\n",
        "\n",
        "print(\"price:\", int(price))\n",
        "print(\"dApple:\", dapple)\n",
        "print(\"dApple_num:\", int(dapple_num))\n",
        "print(\"dTax:\", dtax)"
      ]
    },
    {
      "cell_type": "markdown",
      "metadata": {
        "id": "6fDnwl9VcAxV"
      },
      "source": [
        "모범 출력 답안)\n",
        "\n",
        "price: 220\n",
        "\n",
        "dApple: 2.2\n",
        "\n",
        "dApple_num: 110\n",
        "\n",
        "dTax: 200"
      ]
    },
    {
      "cell_type": "markdown",
      "metadata": {
        "id": "E3F-j83ub_VD"
      },
      "source": [
        "**1-6. ReLU 활성화 함수의 순전파와 역전파에서 하는 동작에 대해 옳은 설명은 무엇인가요? (3점)**\n",
        "\n",
        "A. 순전파 때의 입력 값이 0보다 크면 역전파는 상류의 값을 그대로 하류로 흘린다.\n",
        "\n",
        "B. 순전파 때 x가 0 이하면 역전파 때는 역전파는 상류의 값을 그대로 하류로 흘린다.\n",
        "\n",
        "C. 순전파 때 입력 값이 항상 0을 출력하고, 역전파 때 입력 값이 항상 1을 전달한다.\n",
        "\n",
        "D. 순전파 때 입력 값이 항상 1을 출력하고, 역전파 때 입력 값이 항상 0을 전달한다.\n"
      ]
    },
    {
      "cell_type": "markdown",
      "metadata": {
        "id": "3yTfcDlQb_MW"
      },
      "source": [
        "답) A"
      ]
    },
    {
      "cell_type": "markdown",
      "metadata": {
        "id": "-nYrE1Ds7aQ7"
      },
      "source": [
        "**1-7. 아래는 Sigmoid 함수 구현 코드입니다. 코드를 완성해주세요. (4점)**"
      ]
    },
    {
      "cell_type": "code",
      "execution_count": 7,
      "metadata": {
        "id": "lNlu_teM7cjT"
      },
      "outputs": [],
      "source": [
        "class Sigmoid:\n",
        "    def __init__(self):\n",
        "        self.out = None\n",
        "\n",
        "    def forward(self, x):\n",
        "        out = 1 / (1 + np.exp(-x))\n",
        "        self.out = out\n",
        "\n",
        "        return out\n",
        "\n",
        "    def backward(self, dout):\n",
        "        dx = dout * self.out * (1 - self.out)\n",
        "\n",
        "        return dx"
      ]
    },
    {
      "cell_type": "markdown",
      "metadata": {
        "id": "dBlNLTPfSsSm"
      },
      "source": [
        "## 2. 오차역전파(Affine/Softmax 계층 구현)(총 25점)"
      ]
    },
    {
      "cell_type": "markdown",
      "metadata": {
        "id": "K_3FXRctSr3g"
      },
      "source": [
        "**2-1. Affine계층은 신경망 순전파시 ???을 수행하는 계층이다.(2점)**"
      ]
    },
    {
      "cell_type": "markdown",
      "metadata": {
        "id": "4KVKLFC32lPf"
      },
      "source": [
        "답) 선형 변환"
      ]
    },
    {
      "cell_type": "markdown",
      "metadata": {
        "id": "yQUt-cCr2lPf"
      },
      "source": [
        "**2-2. Affine transformation시에 행렬의 곱이 정상적으로 이루어지기 위해서, 대응하는 ???을 일치시켜야 한다.(2점)**"
      ]
    },
    {
      "cell_type": "markdown",
      "metadata": {
        "id": "J_Gt_-vS2lPf"
      },
      "source": [
        "답) 차원"
      ]
    },
    {
      "cell_type": "markdown",
      "metadata": {
        "id": "ybpRmbp42lPf"
      },
      "source": [
        "**2-3. Softmax 계층은 입력값을 ???하여 출력의 합이 1이 되도록 변형하여 출력한다.(2점)**"
      ]
    },
    {
      "cell_type": "markdown",
      "metadata": {
        "id": "UA8gBrzf2lPf"
      },
      "source": [
        "답) 정규화"
      ]
    },
    {
      "cell_type": "markdown",
      "metadata": {
        "id": "H8YC_NS62lPf"
      },
      "source": [
        "**2-4. Softmax 앞의 Affine 계층의 출력을 ??? 라고 하는데, 신경망 추론 에서는 가장 높은 점수만 알면 되기 때문에 정규화 과정인 Softmax 계층은 필요하지 않다. 반면 신경망 학습 에서는 오차율이 다음 학습에 영향을 주기 때문에 정규화 과정이 필요하고 이 때문에 Softmax 계층이 필요하다.(2점)**"
      ]
    },
    {
      "cell_type": "markdown",
      "metadata": {
        "id": "wok4l5zp2lPg"
      },
      "source": [
        "답) 로짓"
      ]
    },
    {
      "cell_type": "markdown",
      "metadata": {
        "id": "ljvG3Hzv2lPg"
      },
      "source": [
        "**2-5. 아래 그림은 Softmax계층과 손실함수인 교차 엔트로피 오차를 포함한 Softmax-with-Loss 계층의 역전파 결과를 간소화한 그래프입니다. 이를 토대로 Softmax 함수의 손실함수로 '교차 엔트로피 오차'를 사용하는 이유를 설명해주세요.(7점)**"
      ]
    },
    {
      "cell_type": "markdown",
      "metadata": {
        "id": "Gpa3f-OP2lPg"
      },
      "source": [
        "![image.png](attachment:image.png)"
      ]
    },
    {
      "cell_type": "markdown",
      "metadata": {
        "id": "N_SbHfcx2lPg"
      },
      "source": [
        "답)"
      ]
    },
    {
      "cell_type": "markdown",
      "metadata": {
        "id": "g-7r1XLg2lPg"
      },
      "source": [
        "이미지가 안보일때 :\n",
        "https://img1.daumcdn.net/thumb/R1280x0/?scode=mtistory2&fname=https%3A%2F%2Fblog.kakaocdn.net%2Fdn%2FdNGeEt%2FbtqIBglUP07%2FSCSINpMMFp4JrYKb7F81Sk%2Fimg.png"
      ]
    },
    {
      "cell_type": "markdown",
      "metadata": {
        "id": "_KAxKC2-2lPg"
      },
      "source": [
        "**2-6. 아래는 Affine 계층을 구현하는 코드입니다. 코드를 완성하고 설명해주세요.(5점)**"
      ]
    },
    {
      "cell_type": "code",
      "execution_count": 8,
      "metadata": {
        "id": "7ioCLMyP2lPg"
      },
      "outputs": [],
      "source": [
        "# Affine 클래스 정의\n",
        "class Affine:\n",
        "    def __init__(self, W, b):\n",
        "        self.W = W\n",
        "        self.b = b\n",
        "\n",
        "        self.x = None\n",
        "        self.original_x_shape = None\n",
        "\n",
        "        self.dW = None\n",
        "        self.db = None\n",
        "\n",
        "    def forward(self, x):\n",
        "        self.original_x_shape = x.shape\n",
        "        x = x.reshape(x.shape[0], -1)\n",
        "        self.x = x\n",
        "\n",
        "        out = np.dot(self.x, self.W) + self.b\n",
        "\n",
        "        return out\n",
        "\n",
        "    def backward(self, dout):\n",
        "        dx = np.dot(dout, self.W.T)\n",
        "        self.dW = np.dot(self.x.T, dout)\n",
        "        self.db = np.sum(dout, axis=0)\n",
        "\n",
        "        dx = dx.reshape(*self.original_x_shape)\n",
        "        return dx"
      ]
    },
    {
      "cell_type": "markdown",
      "metadata": {
        "id": "3p_MD5_m2lPh"
      },
      "source": [
        "답)"
      ]
    },
    {
      "cell_type": "markdown",
      "metadata": {
        "id": "WpF2UaOw2lPh"
      },
      "source": [
        "**2-7. 아래는 Softmax 계층을 구현하는 코드입니다. 코드를 완성하고 설명해주세요.(5점)**"
      ]
    },
    {
      "cell_type": "code",
      "execution_count": 9,
      "metadata": {
        "id": "mxkdadGO2lPh"
      },
      "outputs": [],
      "source": [
        "class SoftmaxWithLoss:\n",
        "    def __init__(self):\n",
        "        self.loss = None\n",
        "        self.y = None\n",
        "        self.t = None\n",
        "\n",
        "    def forward(self, x, t):\n",
        "        self.t = t\n",
        "        self.y = self.softmax(x)\n",
        "        self.loss = self.cross_entropy_error(self.y, self.t)\n",
        "        return self.loss\n",
        "\n",
        "    def backward(self, dout=1):\n",
        "        batch_size = self.t.shape[0]\n",
        "        dx = (self.y - self.t) / batch_size\n",
        "        return dx"
      ]
    },
    {
      "cell_type": "markdown",
      "metadata": {
        "id": "ZkiatoZs2lPh"
      },
      "source": [
        "답)"
      ]
    }
  ],
  "metadata": {
    "colab": {
      "provenance": []
    },
    "kernelspec": {
      "display_name": "Python 3.12.4 64-bit",
      "language": "python",
      "name": "python3"
    },
    "language_info": {
      "codemirror_mode": {
        "name": "ipython",
        "version": 3
      },
      "file_extension": ".py",
      "mimetype": "text/x-python",
      "name": "python",
      "nbconvert_exporter": "python",
      "pygments_lexer": "ipython3",
      "version": "3.12.4"
    },
    "vscode": {
      "interpreter": {
        "hash": "3fcbd7240ee8f908d933dc7f71e8c42a1a91163b70ede8dcff5146d4087436c7"
      }
    }
  },
  "nbformat": 4,
  "nbformat_minor": 0
}
