{
 "cells": [
  {
   "cell_type": "markdown",
   "metadata": {
    "id": "LVz1xRC3xDY3"
   },
   "source": [
    "## 1. 머신러닝, 딥러닝, 프레임워크"
   ]
  },
  {
   "cell_type": "markdown",
   "metadata": {
    "id": "htP67Nke1QXb"
   },
   "source": [
    "1.1 오랜만인만큼, scikit-learn을 이용해서 다양한 와인 데이터를 분류해 볼며 복습을 진행하겠습니다. 데이터는 scikit-learn에서 기본적으로 사용할 수 있는 와인 데이터를 사용할 것입니다. 이걸 가지고 와서 입력과 목표 변수로 나누는 부분까지는 코드가 작성돼 있습니다. 여러분이 직접 아래 내용들을 코드로 작성해 주세요. 모델은 원하시는 거 사용하시면 됩니다. (5점)"
   ]
  },
  {
   "cell_type": "code",
   "execution_count": 21,
   "metadata": {
    "id": "KmH_HkM9151H"
   },
   "outputs": [
    {
     "name": "stderr",
     "output_type": "stream",
     "text": [
      "c:\\Python312\\Lib\\site-packages\\sklearn\\linear_model\\_logistic.py:469: ConvergenceWarning: lbfgs failed to converge (status=1):\n",
      "STOP: TOTAL NO. of ITERATIONS REACHED LIMIT.\n",
      "\n",
      "Increase the number of iterations (max_iter) or scale the data as shown in:\n",
      "    https://scikit-learn.org/stable/modules/preprocessing.html\n",
      "Please also refer to the documentation for alternative solver options:\n",
      "    https://scikit-learn.org/stable/modules/linear_model.html#logistic-regression\n",
      "  n_iter_i = _check_optimize_result(\n"
     ]
    },
    {
     "data": {
      "text/plain": [
       "(array([0, 0, 2, 0, 1, 0, 1, 2, 1, 2, 1, 2, 0, 1, 0, 1, 1, 1, 0, 1, 0, 1,\n",
       "        1, 2, 2, 2, 1, 1, 1, 0, 0, 1, 2, 0, 0, 0]),\n",
       " 0.9722222222222222)"
      ]
     },
     "execution_count": 21,
     "metadata": {},
     "output_type": "execute_result"
    }
   ],
   "source": [
    "# 필요한 라이브러리 import\n",
    "from sklearn import datasets\n",
    "from sklearn.model_selection import train_test_split\n",
    "from sklearn.linear_model import LogisticRegression\n",
    "\n",
    "import pandas as pd\n",
    "\n",
    "wine_data = datasets.load_wine()\n",
    "\"\"\" 데이터 셋을 살펴보는 코드\n",
    "print(wine_data.DESCR)\n",
    "\"\"\"\n",
    "\n",
    "# 입력 변수를 사용하기 편하게 pandas dataframe으로 변환\n",
    "X = pd.DataFrame(wine_data.data, columns=wine_data.feature_names)\n",
    "\n",
    "# 목표 변수를 사용하기 편하게 pandas dataframe으로 변환\n",
    "y = pd.DataFrame(wine_data.target, columns=['class'])\n",
    "\n",
    "# 여기에 코드를 작성하세요\n",
    "X_train, X_test, y_train, y_test = train_test_split(X, y, test_size=0.2, random_state=42)\n",
    "model = LogisticRegression()\n",
    "model.fit(X_train, y_train.values.ravel())\n",
    "y_test_predict = model.predict(X_test)\n",
    "\n",
    "# 테스트 코드\n",
    "score = model.score(X_test, y_test)\n",
    "y_test_predict, score"
   ]
  },
  {
   "cell_type": "markdown",
   "metadata": {
    "id": "vIOi6rDbxIZq"
   },
   "source": [
    "1.2 다음 빈칸들을 채워주세요:(3점)\n",
    "- (a)(이)란 여러 층을 가진 인공신경망을 사용하여(Artificial Neural Network)을 사용하여 머신러닝 학습을 수행하는 것으로 심층학습이라고도 불린다.\n",
    "- (b)(이)란 응용 프로그램을 개발하기 위한 여러 라이브러리나 모듈 등을 효율적으로 사용할 수 있도록 하나로 묶어 놓은 일종의 패키지이다."
   ]
  },
  {
   "cell_type": "markdown",
   "metadata": {
    "id": "ZBICjc6zxe1h"
   },
   "source": [
    ">a: 딥러닝"
   ]
  },
  {
   "cell_type": "markdown",
   "metadata": {
    "id": "fAZCw_bVxgVD"
   },
   "source": [
    ">b: 프레임워크"
   ]
  },
  {
   "cell_type": "markdown",
   "metadata": {
    "id": "ylFcJMBuxiEs"
   },
   "source": [
    "1.3 다음 빈 칸에 공통으로 들어갈 알맞은 말을 써넣어주세요. (3점) <br>\n",
    "- (a)(이)란 딥러닝 모델을 쉽게 구현하고 학습할 수 있도록 도와주는 도구이다.\n",
    "- (a)(이)(는) 라이브러리, 프레임워크, 툴킷 등과 같은 용어로 불리며, 머신러닝 기술을 사용해 필요한 기능을 빠르게 제공하고 편리한 인터페이스를 제공한다.\n",
    "- (a)은(는) 대부분 오픈소스로 제공되며, 다양한 언어로 자유롭게 사용할 수 있다."
   ]
  },
  {
   "cell_type": "markdown",
   "metadata": {
    "id": "DKmPyhuixrWe"
   },
   "source": [
    ">a: 라이브러리"
   ]
  },
  {
   "cell_type": "markdown",
   "metadata": {
    "id": "FLhBn_5AxyAp"
   },
   "source": [
    "1.4 다음은 텐서플로우, 케라스, 파이토치에 대한 설명입니다. 각 딥러닝 프레임워크의 알맞는 특징을 골라주세요. (3점)"
   ]
  },
  {
   "cell_type": "markdown",
   "metadata": {
    "id": "aaioXskRx9o9"
   },
   "source": [
    "- (a) 계산 구조와 목표 함수만 정의하면 자동으로 미분 계산을 처리한다.\n",
    "- (b) 그래프를 만들면서 동시에 값을 할당하는 define by run 방식을 가진다.\n",
    "- (c) Symbolic Loop 기능이 유연하지 못하다.\n",
    "- (d) 컨볼류션 신경망, 순환 신경망과 둘의 조합까지 모두 지원한다.\n",
    "- (e) 데이터 플로우 그래프(Data Flow Graph)구조를 사용하는 특징이 있습니다.\n",
    "- (f) 문서화가 제대로 되어 있지 않고 이용자 수가 적다."
   ]
  },
  {
   "cell_type": "markdown",
   "metadata": {
    "id": "NcNt4LK3zjHe"
   },
   "source": [
    ">텐서플로우: a"
   ]
  },
  {
   "cell_type": "markdown",
   "metadata": {
    "id": "POPnAG4Ozkvy"
   },
   "source": [
    ">케라스: c"
   ]
  },
  {
   "cell_type": "markdown",
   "metadata": {
    "id": "bve5nrKuzm16"
   },
   "source": [
    ">파이토치: b,d"
   ]
  },
  {
   "cell_type": "markdown",
   "metadata": {},
   "source": [
    "[해당 내용은 참고만 하시라고 작성해둔 것이며, 읽지 않으시고 바로 실습을 진행하셔도 무방합니다.]\n",
    "\n",
    "딥러닝에 대한 학습을 진행하면서 저희는 그래디언트 기바 학습에 대해 살펴보게될 것입니다. 손실함수와 편미분에 대해서도 배우게 될텐데, 손실함수가 간단한 함수일 때는 편미분하는 것이 간단한 일이겠지만, 앞으로는 손으로 편미분을 게산하기 어려운 다양한 손실함수들도 만나게 될 것입니다.\n",
    "\n",
    "이 실습에서는 위의 라이브러리 중에서 쉽게 이해하고 사용할 수 있는 PyTorch 라이브러리를 사용할 것입니다. 이 라이브러리는 NumPy 라이브러리와 매우 유사하게 동작하기 때문에, NumPy만 잘 알아도 쉽게 사용할 수 있습니다. NumPy에서 ndarray(배열)가 기본이 되는 핵심 객체인 것과 같이, PyTorch의 핵심 객체는 Tensor(텐서)라고 부릅니다. 이 Tensor는 ndarray와 매우 유사하게 동작하기에, 따로 다루진 않겠습니다.\n",
    "\n",
    "PyTorch를 비롯한 대부분의 자동미분 라이브러리는 함수의 도함수(편도함수)를 직접 구하지 않습니다. 그 대신 주어진 점(입력값)에서의 미분계수(편미분계수) 값을 구합니다. 즉, 자동미분 라이브러리는 지정해준 점에서의 함수의 순간 기울기를 구하는 기능만을 갖고 있으며, 우리는 이를 이용하여 미분가능한 모든 함수의 모든 지점에서의 기울기를 구할 수 있습니다.\n",
    "\n",
    "PyTorch에서 자동미분을 호출하기 위해 필요한 유일한 방법은 Tensor.backward()입니다. 다른 텐서로부터 계산한 텐서 F에 대해 F.backward()를 호출하면, PyTorch는 F가 의존하는 모든 텐서에 대해 F의 편미분계수를 계산하도록 지시합니다. 이 편미분계수들은 각각의 텐서들의 .grad 속성에 Tensor로 저장된다. 이때 몇 가지 주의사항이 있습니다.\n",
    "\n",
    "1. requires_grad=True:\n",
    "자동 미분을 추적하려면 텐서를 생성할 때 requires_grad=True로 설정해야 한다.\n",
    "\n",
    "2. backward() 호출:\n",
    "Tensor.backward()를 호출하면 해당 텐서로부터 계산된 모든 텐서에 대해 그래디언트(기울기)를 계산합니다. backward()는 스칼라 값에 대해서만 호출할 수 있습니다. 만약 텐서가 스칼라가 아니라면, 적절한 축소 연산을 통해 스칼라로 변환한 후 backward()를 호출해야 한다 (예: sum())."
   ]
  },
  {
   "cell_type": "code",
   "execution_count": 22,
   "metadata": {},
   "outputs": [],
   "source": [
    "import torch\n",
    "import torch as tc\n",
    "import numpy as np"
   ]
  },
  {
   "cell_type": "markdown",
   "metadata": {},
   "source": [
    "예를 들어 아래와 같이 x, y, z 텐서가 있고, x와 y의 함수로 정의된 f 텐서가 있는 상황에서의 편미분을 살펴보자."
   ]
  },
  {
   "cell_type": "code",
   "execution_count": 23,
   "metadata": {},
   "outputs": [
    {
     "name": "stderr",
     "output_type": "stream",
     "text": [
      "\n",
      "A module that was compiled using NumPy 1.x cannot be run in\n",
      "NumPy 2.0.0 as it may crash. To support both 1.x and 2.x\n",
      "versions of NumPy, modules must be compiled with NumPy 2.0.\n",
      "Some module may need to rebuild instead e.g. with 'pybind11>=2.12'.\n",
      "\n",
      "If you are a user of the module, the easiest solution will be to\n",
      "downgrade to 'numpy<2' or try to upgrade the affected module.\n",
      "We expect that some modules will need time to support NumPy 2.\n",
      "\n",
      "Traceback (most recent call last):  File \"<frozen runpy>\", line 198, in _run_module_as_main\n",
      "  File \"<frozen runpy>\", line 88, in _run_code\n",
      "  File \"C:\\Users\\LWG\\AppData\\Roaming\\Python\\Python312\\site-packages\\ipykernel_launcher.py\", line 18, in <module>\n",
      "    app.launch_new_instance()\n",
      "  File \"C:\\Users\\LWG\\AppData\\Roaming\\Python\\Python312\\site-packages\\traitlets\\config\\application.py\", line 1075, in launch_instance\n",
      "    app.start()\n",
      "  File \"C:\\Users\\LWG\\AppData\\Roaming\\Python\\Python312\\site-packages\\ipykernel\\kernelapp.py\", line 739, in start\n",
      "    self.io_loop.start()\n",
      "  File \"C:\\Users\\LWG\\AppData\\Roaming\\Python\\Python312\\site-packages\\tornado\\platform\\asyncio.py\", line 205, in start\n",
      "    self.asyncio_loop.run_forever()\n",
      "  File \"c:\\Python312\\Lib\\asyncio\\base_events.py\", line 641, in run_forever\n",
      "    self._run_once()\n",
      "  File \"c:\\Python312\\Lib\\asyncio\\base_events.py\", line 1987, in _run_once\n",
      "    handle._run()\n",
      "  File \"c:\\Python312\\Lib\\asyncio\\events.py\", line 88, in _run\n",
      "    self._context.run(self._callback, *self._args)\n",
      "  File \"C:\\Users\\LWG\\AppData\\Roaming\\Python\\Python312\\site-packages\\ipykernel\\kernelbase.py\", line 545, in dispatch_queue\n",
      "    await self.process_one()\n",
      "  File \"C:\\Users\\LWG\\AppData\\Roaming\\Python\\Python312\\site-packages\\ipykernel\\kernelbase.py\", line 534, in process_one\n",
      "    await dispatch(*args)\n",
      "  File \"C:\\Users\\LWG\\AppData\\Roaming\\Python\\Python312\\site-packages\\ipykernel\\kernelbase.py\", line 437, in dispatch_shell\n",
      "    await result\n",
      "  File \"C:\\Users\\LWG\\AppData\\Roaming\\Python\\Python312\\site-packages\\ipykernel\\ipkernel.py\", line 362, in execute_request\n",
      "    await super().execute_request(stream, ident, parent)\n",
      "  File \"C:\\Users\\LWG\\AppData\\Roaming\\Python\\Python312\\site-packages\\ipykernel\\kernelbase.py\", line 778, in execute_request\n",
      "    reply_content = await reply_content\n",
      "  File \"C:\\Users\\LWG\\AppData\\Roaming\\Python\\Python312\\site-packages\\ipykernel\\ipkernel.py\", line 449, in do_execute\n",
      "    res = shell.run_cell(\n",
      "  File \"C:\\Users\\LWG\\AppData\\Roaming\\Python\\Python312\\site-packages\\ipykernel\\zmqshell.py\", line 549, in run_cell\n",
      "    return super().run_cell(*args, **kwargs)\n",
      "  File \"C:\\Users\\LWG\\AppData\\Roaming\\Python\\Python312\\site-packages\\IPython\\core\\interactiveshell.py\", line 3075, in run_cell\n",
      "    result = self._run_cell(\n",
      "  File \"C:\\Users\\LWG\\AppData\\Roaming\\Python\\Python312\\site-packages\\IPython\\core\\interactiveshell.py\", line 3130, in _run_cell\n",
      "    result = runner(coro)\n",
      "  File \"C:\\Users\\LWG\\AppData\\Roaming\\Python\\Python312\\site-packages\\IPython\\core\\async_helpers.py\", line 128, in _pseudo_sync_runner\n",
      "    coro.send(None)\n",
      "  File \"C:\\Users\\LWG\\AppData\\Roaming\\Python\\Python312\\site-packages\\IPython\\core\\interactiveshell.py\", line 3334, in run_cell_async\n",
      "    has_raised = await self.run_ast_nodes(code_ast.body, cell_name,\n",
      "  File \"C:\\Users\\LWG\\AppData\\Roaming\\Python\\Python312\\site-packages\\IPython\\core\\interactiveshell.py\", line 3517, in run_ast_nodes\n",
      "    if await self.run_code(code, result, async_=asy):\n",
      "  File \"C:\\Users\\LWG\\AppData\\Roaming\\Python\\Python312\\site-packages\\IPython\\core\\interactiveshell.py\", line 3577, in run_code\n",
      "    exec(code_obj, self.user_global_ns, self.user_ns)\n",
      "  File \"C:\\Users\\Public\\Documents\\ESTsoft\\CreatorTemp\\ipykernel_19860\\3775884643.py\", line 1, in <module>\n",
      "    x = tc.tensor(2.0, requires_grad=True)\n",
      "C:\\Users\\Public\\Documents\\ESTsoft\\CreatorTemp\\ipykernel_19860\\3775884643.py:1: UserWarning: Failed to initialize NumPy: _ARRAY_API not found (Triggered internally at ..\\torch\\csrc\\utils\\tensor_numpy.cpp:84.)\n",
      "  x = tc.tensor(2.0, requires_grad=True)\n"
     ]
    }
   ],
   "source": [
    "x = tc.tensor(2.0, requires_grad=True)\n",
    "y = tc.tensor(3.0, requires_grad=True)\n",
    "z = tc.tensor(4.0, requires_grad=True)\n",
    "f = x * y  # tc.multiply(x, y)"
   ]
  },
  {
   "cell_type": "markdown",
   "metadata": {},
   "source": [
    "이 때, f.backward()를 호출하면 PyTorch가 f의 모든 편미분계수를 계산하도록 지시합니다. 이는 역전파(backpropagation)라고 하는 컴퓨터가 빠르게 편미분계수를 계산할 수 있는 알고리즘을 사용하여 수행됩니다. 역전파 알고리즘은 딥러닝의 발전에서 빠질 수 없는 핵심적인 알고리즘이라 할 수 있는 것으로, 연쇄법칙(chain rule)에 기반한 알고리즘입니다. 연전파 관련해선 앞으로의 세션에서 더 다룰 예정입니다."
   ]
  },
  {
   "cell_type": "code",
   "execution_count": 5,
   "metadata": {},
   "outputs": [],
   "source": [
    "f.backward()"
   ]
  },
  {
   "cell_type": "markdown",
   "metadata": {},
   "source": [
    "x와 y의 .grad 속성을 살펴보면 $\\frac{d F}{d x}$와 $\\frac{d F}{dy}$의 값을 얻을 수 있습니다. .grad()는 텐서로 구해집니다. z는 f가 의존하는 변수 텐서가 아니므로 .grad 속성에 값이 없습니다."
   ]
  },
  {
   "cell_type": "code",
   "execution_count": 6,
   "metadata": {},
   "outputs": [
    {
     "data": {
      "text/plain": [
       "tensor(3.)"
      ]
     },
     "execution_count": 6,
     "metadata": {},
     "output_type": "execute_result"
    }
   ],
   "source": [
    "x.grad"
   ]
  },
  {
   "cell_type": "code",
   "execution_count": 7,
   "metadata": {},
   "outputs": [
    {
     "data": {
      "text/plain": [
       "tensor(2.)"
      ]
     },
     "execution_count": 7,
     "metadata": {},
     "output_type": "execute_result"
    }
   ],
   "source": [
    "y.grad"
   ]
  },
  {
   "cell_type": "code",
   "execution_count": 9,
   "metadata": {},
   "outputs": [],
   "source": [
    "z.grad"
   ]
  },
  {
   "cell_type": "markdown",
   "metadata": {},
   "source": [
    "이번에는 x, y, 그리고 x와 y로부터 구해지는 f까지 세 텐서에 의존하는 텐서 F의 모든 편미분계수를 계산해보겠습니다. 즉, F(f(x, y), x, y)인 경우를 살펴볼 것입니다."
   ]
  },
  {
   "cell_type": "code",
   "execution_count": 10,
   "metadata": {},
   "outputs": [],
   "source": [
    "x = tc.tensor(2.0, requires_grad=True)\n",
    "y = tc.tensor(3.0, requires_grad=True)\n",
    "f = x * y\n",
    "f.retain_grad()\n",
    "F = f + x - 2"
   ]
  },
  {
   "cell_type": "code",
   "execution_count": 14,
   "metadata": {},
   "outputs": [],
   "source": [
    "F.backward()"
   ]
  },
  {
   "cell_type": "markdown",
   "metadata": {},
   "source": [
    "f의 .grad() 속성을 살펴보면 $\\frac{\\partial F}{\\partial f}$의 값을 얻을 수 있습니다.\n",
    "y의 .grad() 속성을 살펴보면 $\\frac{\\partial F}{\\partial y} = \\frac{\\partial F}{\\partial f}\\frac{\\partial f}{\\partial y}$의 값을 얻을 수 있습니다.\n",
    "\n",
    "마지막으로 x의 경우, t = x에 대해 F = f + t - 2로 쓸 수 있다. 이렇게 생각하고 x의 .grad() 속성을 살펴보면 $\\frac{\\partial F}{\\partial x} = \\frac{\\partial F}{\\partial f}\\frac{\\partial f}{\\partial x} + \\frac{\\partial F}{\\partial t}\\frac{\\partial t}{\\partial x}$의 값을 얻을 수 있습니다.\n",
    "\n",
    "주의사항으로 PyTorch에서 특정 텐서의 그래디언트를 계산하기 위해서는 그 텐서에 대해 직접적으로 requires_grad=True를 설정하고, 필요하다면 중간 텐서에 대해서도 retain_grad() 메소드를 호출해야 한다. retain_grad()는 중간 텐서의 그래디언트를 저장하도록 한다. f.retain_grad() 코드가 없다면 어떻게 실행되는지 확인해보는 것도 좋을 것입니다."
   ]
  },
  {
   "cell_type": "code",
   "execution_count": 15,
   "metadata": {},
   "outputs": [
    {
     "data": {
      "text/plain": [
       "tensor(1.)"
      ]
     },
     "execution_count": 15,
     "metadata": {},
     "output_type": "execute_result"
    }
   ],
   "source": [
    "f.grad"
   ]
  },
  {
   "cell_type": "code",
   "execution_count": 16,
   "metadata": {},
   "outputs": [
    {
     "data": {
      "text/plain": [
       "tensor(2.)"
      ]
     },
     "execution_count": 16,
     "metadata": {},
     "output_type": "execute_result"
    }
   ],
   "source": [
    "y.grad"
   ]
  },
  {
   "cell_type": "code",
   "execution_count": 17,
   "metadata": {},
   "outputs": [],
   "source": [
    "z.grad"
   ]
  },
  {
   "cell_type": "markdown",
   "metadata": {},
   "source": [
    "f와 F가 의존하는 모든 변수들이 PyTorch의 텐서로 저장되어 있었고, f와 F를 이루는 모든 수학적 연산이 PyTorch에서 제공하는 함수였기 때문에 PyTorch를 통해 F의 모든 편미분계수를 구할 수 있었다. 이렇게 구한 편미분계수들로부터 함수의 그래디언트를 이용하는 경사하강법을 쉽게 수행할 수 있습니다."
   ]
  },
  {
   "cell_type": "markdown",
   "metadata": {},
   "source": [
    "이젠, 여러가지 수식으로 정의된 x에 대한 함수 F에 대해, x=2.5에서  dFdx∣∣x=2.5 를 구해보는 실습을 진행하겠습니다."
   ]
  },
  {
   "cell_type": "markdown",
   "metadata": {},
   "source": [
    "1.5 $F(x)=x^2$ (3점)"
   ]
  },
  {
   "cell_type": "code",
   "execution_count": 24,
   "metadata": {},
   "outputs": [
    {
     "data": {
      "text/plain": [
       "tensor(5.)"
      ]
     },
     "execution_count": 24,
     "metadata": {},
     "output_type": "execute_result"
    }
   ],
   "source": [
    "# 여기에 코드 완성\n",
    "x = tc.tensor(2.5, requires_grad=True)\n",
    "F = x**2\n",
    "F.backward()\n",
    "x.grad"
   ]
  },
  {
   "cell_type": "markdown",
   "metadata": {},
   "source": [
    "1.6 $F(x)=\\cos{\\sqrt{x}}$ (3점)"
   ]
  },
  {
   "cell_type": "code",
   "execution_count": 25,
   "metadata": {},
   "outputs": [
    {
     "data": {
      "text/plain": [
       "tensor(-0.3162)"
      ]
     },
     "execution_count": 25,
     "metadata": {},
     "output_type": "execute_result"
    }
   ],
   "source": [
    "# 여기에 코드 완성\n",
    "x = tc.tensor(2.5, requires_grad=True)\n",
    "F = tc.cos(tc.sqrt(x))\n",
    "F.backward()\n",
    "x.grad"
   ]
  },
  {
   "cell_type": "markdown",
   "metadata": {},
   "source": [
    "1.7 $F(x)=(2xf(x))^2-f(x), f(x)=x^2$ (5점)"
   ]
  },
  {
   "cell_type": "code",
   "execution_count": 26,
   "metadata": {},
   "outputs": [
    {
     "data": {
      "text/plain": [
       "tensor(2338.7500)"
      ]
     },
     "execution_count": 26,
     "metadata": {},
     "output_type": "execute_result"
    }
   ],
   "source": [
    "# 여기에 코드 작성\n",
    "x = tc.tensor(2.5, requires_grad=True)\n",
    "f = x**2\n",
    "f.retain_grad\n",
    "F = (2 * x * f)**2 - f\n",
    "F.backward()\n",
    "x.grad"
   ]
  },
  {
   "cell_type": "markdown",
   "metadata": {
    "id": "vOzRWg8-uyFX"
   },
   "source": [
    "## 2. XOR 게이트 문제"
   ]
  },
  {
   "cell_type": "markdown",
   "metadata": {
    "id": "jpl9CCcEv4vs"
   },
   "source": [
    "2.1 세션 발표에선 AND게이트를 두 가지의 방법으로 구현했습니다. 이 두 방법의 주된 차이는 무엇이었으며, 왜 이러한 차이를 주었는지에 대해 설명해주세요.(6점)"
   ]
  },
  {
   "cell_type": "markdown",
   "metadata": {
    "id": "HjTMCvPfwD70"
   },
   "source": [
    ">답:진리표대로 구현하기 위해 가중치와 임계값을 설정하는 방식과 numpy을 통해 구현하는 방식이 있었다.\n",
    "numpy로 구현하면 가중치를 하나하나 일일이 곱해줘야 하는 단점이 있다."
   ]
  },
  {
   "cell_type": "markdown",
   "metadata": {
    "id": "TfX7vyXqwZPB"
   },
   "source": [
    "2.2 2.1에서 답한 두 방법 중 하나를 선택하여 AND게이트를 구현해주세요.(6점)"
   ]
  },
  {
   "cell_type": "code",
   "execution_count": 17,
   "metadata": {
    "id": "TOgr4ePewcz8"
   },
   "outputs": [],
   "source": [
    "def AND(x1, x2):\n",
    "  w1, w2, theta = 0.5, 0.5, 0.6\n",
    "  tmp = x1*w1 + x2*w2\n",
    "  if tmp <= theta:\n",
    "    return 0\n",
    "  else:\n",
    "    return 1"
   ]
  },
  {
   "cell_type": "markdown",
   "metadata": {
    "id": "R-97NXUpu1lE"
   },
   "source": [
    "2.3 다음은 XOR 게이트의 진리표입니다. 입력값 x1, x2에 따라 y가 다음과 같이 나오도록 하는 \"단층 퍼셉트론\"의 가중치 (w1, w2)와 임계값(theta)으로 적합한 것은 무엇일까요? (6점)\n",
    "\n",
    "![image.png](data:image/png;base64,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)"
   ]
  },
  {
   "cell_type": "markdown",
   "metadata": {
    "id": "lmeqV3eTvHpF"
   },
   "source": [
    "(a) (0.5, 0.5, 0.2)\n",
    "\n",
    "(b) (0.5, 0.5, 0.7)\n",
    "\n",
    "(c) (1.0, 1.0, 1.0)\n",
    "\n",
    "(d) 단층 퍼셉트론으로는 XOR 게이트를 구현할 수 없다.\n",
    "\n",
    "정답 : (d)"
   ]
  },
  {
   "cell_type": "markdown",
   "metadata": {
    "id": "0gaeBCFOvVIA"
   },
   "source": [
    "2.4 다음은 AND, NAND, OR 게이트를 조합해 구현한 XOR 게이트입니다. 세션 발표 내용을 참고하여, XOR 게이트를 파이썬으로 구현해주세요.(7점)"
   ]
  },
  {
   "cell_type": "code",
   "execution_count": 27,
   "metadata": {
    "id": "Gq4Ml6A-uzWy"
   },
   "outputs": [],
   "source": [
    "# 논리 회로 게이트 AND, NAND, OR을 정의하는 코드입니다. 실행해주세요.\n",
    "\n",
    "import numpy as np\n",
    "\n",
    "#AND 게이트는 2.2 에서 구현한 것 그대로 사용하시면 됩니다.\n",
    "def AND(x1, x2):\n",
    "  w1, w2, theta = 0.5, 0.5, 0.6\n",
    "  tmp = x1*w1 + x2*w2\n",
    "  if tmp <= theta:\n",
    "    return 0\n",
    "  else:\n",
    "    return 1\n",
    "  \n",
    "def NAND(x1, x2):\n",
    "  x = np.array([x1, x2])\n",
    "  w = np.array([-0.5, -0.5])\n",
    "  b = 0.7\n",
    "  tmp = np.sum(w*x) + b\n",
    "  if tmp <= 0:\n",
    "    return 0\n",
    "  else:\n",
    "    return 1\n",
    "\n",
    "def OR(x1, x2):\n",
    "  x = np.array([x1, x2])\n",
    "  w = np.array([0.5, 0.5])\n",
    "  b = -0.2\n",
    "  tmp = np.sum(w*x) + b\n",
    "  if tmp <= 0:\n",
    "    return 0\n",
    "  else:\n",
    "    return 1"
   ]
  },
  {
   "cell_type": "code",
   "execution_count": 28,
   "metadata": {
    "id": "q68uKV6uviha"
   },
   "outputs": [],
   "source": [
    "# XOR 게이트 함수 생성\n",
    "def XOR(x1, x2):\n",
    "\n",
    "  # 출력값 s1, s2를 새로운 입력값으로 받는 2층의 다중 퍼셉트론을 구현합니다.\n",
    "  s1 = NAND(x1, x2)\n",
    "  s2 = OR(x1, x2)\n",
    "  y = AND(s1, s2)\n",
    "  return y"
   ]
  },
  {
   "cell_type": "code",
   "execution_count": 29,
   "metadata": {
    "id": "0gitJaszvs1U"
   },
   "outputs": [
    {
     "data": {
      "text/plain": [
       "(0, 1, 1, 0)"
      ]
     },
     "execution_count": 29,
     "metadata": {},
     "output_type": "execute_result"
    }
   ],
   "source": [
    "# 다음을 프린트하여 (0, 1, 1, 0)이 나오면 정답입니다.\n",
    "XOR(0, 0), XOR(1, 0), XOR(0, 1), XOR(1, 1)"
   ]
  }
 ],
 "metadata": {
  "colab": {
   "provenance": []
  },
  "kernelspec": {
   "display_name": "Python 3.12.4 64-bit",
   "language": "python",
   "name": "python3"
  },
  "language_info": {
   "codemirror_mode": {
    "name": "ipython",
    "version": 3
   },
   "file_extension": ".py",
   "mimetype": "text/x-python",
   "name": "python",
   "nbconvert_exporter": "python",
   "pygments_lexer": "ipython3",
   "version": "3.12.4"
  },
  "vscode": {
   "interpreter": {
    "hash": "3fcbd7240ee8f908d933dc7f71e8c42a1a91163b70ede8dcff5146d4087436c7"
   }
  }
 },
 "nbformat": 4,
 "nbformat_minor": 1
}
