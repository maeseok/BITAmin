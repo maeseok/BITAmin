{
 "cells": [
  {
   "cell_type": "markdown",
   "id": "f1e8a840",
   "metadata": {},
   "source": [
    "# 1. Numpy 활용 (25점)"
   ]
  },
  {
   "cell_type": "markdown",
   "id": "ee80e243",
   "metadata": {},
   "source": [
    "넘파이 설치 및 import"
   ]
  },
  {
   "cell_type": "code",
   "execution_count": 1,
   "id": "e8d93df9",
   "metadata": {},
   "outputs": [
    {
     "name": "stderr",
     "output_type": "stream",
     "text": [
      "ERROR: Invalid requirement: '#'\n",
      "\n",
      "[notice] A new release of pip is available: 23.3.2 -> 24.0\n",
      "[notice] To update, run: python.exe -m pip install --upgrade pip\n"
     ]
    }
   ],
   "source": [
    "# pip install numpy\n",
    "!pip install numpy # For Google Colab"
   ]
  },
  {
   "cell_type": "code",
   "execution_count": 2,
   "id": "cbccee36",
   "metadata": {},
   "outputs": [],
   "source": [
    "# Numpy의 경우 보통 np라는 명칭으로 임포트합니다.\n",
    "import numpy as np"
   ]
  },
  {
   "cell_type": "markdown",
   "id": "bd8c46e2",
   "metadata": {},
   "source": [
    "1.1 크기 10의 0행렬 생성 후 5번 인덱스로 1을 할당해주세요. (4점)"
   ]
  },
  {
   "cell_type": "code",
   "execution_count": 3,
   "id": "14450a3f",
   "metadata": {},
   "outputs": [
    {
     "name": "stdout",
     "output_type": "stream",
     "text": [
      "[0. 0. 0. 0. 0. 1. 0. 0. 0. 0.]\n"
     ]
    }
   ],
   "source": [
    "A = np.zeros(10)\n",
    "A[5] = 1\n",
    "\n",
    "print(A)"
   ]
  },
  {
   "cell_type": "markdown",
   "id": "49b30edd",
   "metadata": {},
   "source": [
    "1.2 10부터 50 미만의, 간격이 3인 행렬 생성 후 반전해주세요. (6점)"
   ]
  },
  {
   "cell_type": "code",
   "execution_count": 4,
   "id": "110a4716",
   "metadata": {},
   "outputs": [
    {
     "name": "stdout",
     "output_type": "stream",
     "text": [
      "[49 46 43 40 37 34 31 28 25 22 19 16 13 10]\n"
     ]
    }
   ],
   "source": [
    "A = np.arange(10, 50, 3)\n",
    "A = A[::-1]\n",
    "\n",
    "print(A)"
   ]
  },
  {
   "cell_type": "markdown",
   "id": "0307722e",
   "metadata": {},
   "source": [
    "1.3 0~8 범위의 값으로 3x3인 행렬을 생성해주세요. (4점)"
   ]
  },
  {
   "cell_type": "code",
   "execution_count": 5,
   "id": "78ab3974",
   "metadata": {},
   "outputs": [
    {
     "name": "stdout",
     "output_type": "stream",
     "text": [
      "[[0 1 2]\n",
      " [3 4 5]\n",
      " [6 7 8]]\n"
     ]
    }
   ],
   "source": [
    "A = np.arange(9).reshape(3,3)\n",
    "\n",
    "print(A)"
   ]
  },
  {
   "cell_type": "markdown",
   "id": "63d472e4",
   "metadata": {},
   "source": [
    "1.4 랜덤한 2x3 행렬을 생성해주세요. (4점)"
   ]
  },
  {
   "cell_type": "code",
   "execution_count": 6,
   "id": "24bb4b1e",
   "metadata": {},
   "outputs": [
    {
     "name": "stdout",
     "output_type": "stream",
     "text": [
      "[[0.54340494 0.27836939 0.42451759]\n",
      " [0.84477613 0.00471886 0.12156912]]\n"
     ]
    }
   ],
   "source": [
    "seed = 100\n",
    "np.random.seed(seed)\n",
    "A = np.random.rand(2,3)\n",
    "\n",
    "print(A)"
   ]
  },
  {
   "cell_type": "markdown",
   "id": "f10e0d86",
   "metadata": {},
   "source": [
    "1.5 0부터 11까지의 값이 들어간 3x4, 0부터 19까지의 값이 순서대로 4x5 행렬을 생성하고 행렬곱을 계산해주세요. (4점)"
   ]
  },
  {
   "cell_type": "code",
   "execution_count": 7,
   "id": "d4c760c3",
   "metadata": {},
   "outputs": [
    {
     "name": "stdout",
     "output_type": "stream",
     "text": [
      "[[ 70  76  82  88  94]\n",
      " [190 212 234 256 278]\n",
      " [310 348 386 424 462]]\n"
     ]
    }
   ],
   "source": [
    "A = np.arange(0,12).reshape(3,4)\n",
    "B = np.arange(0,20).reshape(4,5)\n",
    "\n",
    "print(A.dot(B))"
   ]
  },
  {
   "cell_type": "markdown",
   "id": "1918b0b3",
   "metadata": {},
   "source": [
    "1.6 3x3으로 행렬을 생성하고, 행렬의 전치 행렬을 생성해주세요. (3점)"
   ]
  },
  {
   "cell_type": "code",
   "execution_count": 8,
   "id": "016a68bb",
   "metadata": {},
   "outputs": [
    {
     "name": "stdout",
     "output_type": "stream",
     "text": [
      "[[1 4 7]\n",
      " [2 5 8]\n",
      " [3 6 9]]\n"
     ]
    }
   ],
   "source": [
    "A = np.array([[1,2,3],[4,5,6],[7,8,9]])\n",
    "A = A.T\n",
    "\n",
    "print(A)"
   ]
  },
  {
   "cell_type": "markdown",
   "id": "0cf5730f",
   "metadata": {
    "id": "ydgvM72BnDY0"
   },
   "source": [
    "# 2. Pandas 활용 (25점)"
   ]
  },
  {
   "cell_type": "markdown",
   "id": "06ff0229",
   "metadata": {
    "id": "Y5llu771nE0H"
   },
   "source": [
    "판다스 설치 및 import"
   ]
  },
  {
   "cell_type": "code",
   "execution_count": 9,
   "id": "a48fef0f",
   "metadata": {
    "colab": {
     "base_uri": "https://localhost:8080/"
    },
    "id": "K23NmkVQm5QP",
    "outputId": "3dc78365-56bc-4066-fbc7-af4949364bfd"
   },
   "outputs": [
    {
     "name": "stderr",
     "output_type": "stream",
     "text": [
      "ERROR: Invalid requirement: '#'\n",
      "\n",
      "[notice] A new release of pip is available: 23.3.2 -> 24.0\n",
      "[notice] To update, run: python.exe -m pip install --upgrade pip\n"
     ]
    }
   ],
   "source": [
    "# pip install pandas\n",
    "!pip install pandas # For Google Colab"
   ]
  },
  {
   "cell_type": "code",
   "execution_count": 10,
   "id": "d8a2e8d7",
   "metadata": {
    "id": "ag3BsMLlnBb7"
   },
   "outputs": [],
   "source": [
    "# Pandas의 경우 보통 pd라는 명칭으로 임포트합니다.\n",
    "import pandas as pd"
   ]
  },
  {
   "cell_type": "markdown",
   "id": "fd13c23f",
   "metadata": {
    "id": "N9TGBzEjnH78"
   },
   "source": [
    "1. 데이터셋 csv파일을 읽고 하위 3개의 데이터를 출력해주세요.\n",
    "\n",
    "1점"
   ]
  },
  {
   "cell_type": "code",
   "execution_count": 11,
   "id": "5b6feedd",
   "metadata": {
    "id": "gFxopz6-n6Lh"
   },
   "outputs": [
    {
     "data": {
      "text/html": [
       "<div>\n",
       "<style scoped>\n",
       "    .dataframe tbody tr th:only-of-type {\n",
       "        vertical-align: middle;\n",
       "    }\n",
       "\n",
       "    .dataframe tbody tr th {\n",
       "        vertical-align: top;\n",
       "    }\n",
       "\n",
       "    .dataframe thead th {\n",
       "        text-align: right;\n",
       "    }\n",
       "</style>\n",
       "<table border=\"1\" class=\"dataframe\">\n",
       "  <thead>\n",
       "    <tr style=\"text-align: right;\">\n",
       "      <th></th>\n",
       "      <th>PassengerId</th>\n",
       "      <th>Survived</th>\n",
       "      <th>Pclass</th>\n",
       "      <th>Name</th>\n",
       "      <th>Sex</th>\n",
       "      <th>Age</th>\n",
       "      <th>SibSp</th>\n",
       "      <th>Parch</th>\n",
       "      <th>Ticket</th>\n",
       "      <th>Fare</th>\n",
       "      <th>Cabin</th>\n",
       "      <th>Embarked</th>\n",
       "    </tr>\n",
       "  </thead>\n",
       "  <tbody>\n",
       "    <tr>\n",
       "      <th>888</th>\n",
       "      <td>889</td>\n",
       "      <td>0</td>\n",
       "      <td>3</td>\n",
       "      <td>Johnston, Miss. Catherine Helen \"Carrie\"</td>\n",
       "      <td>female</td>\n",
       "      <td>NaN</td>\n",
       "      <td>1</td>\n",
       "      <td>2</td>\n",
       "      <td>W./C. 6607</td>\n",
       "      <td>23.45</td>\n",
       "      <td>NaN</td>\n",
       "      <td>S</td>\n",
       "    </tr>\n",
       "    <tr>\n",
       "      <th>889</th>\n",
       "      <td>890</td>\n",
       "      <td>1</td>\n",
       "      <td>1</td>\n",
       "      <td>Behr, Mr. Karl Howell</td>\n",
       "      <td>male</td>\n",
       "      <td>26.0</td>\n",
       "      <td>0</td>\n",
       "      <td>0</td>\n",
       "      <td>111369</td>\n",
       "      <td>30.00</td>\n",
       "      <td>C148</td>\n",
       "      <td>C</td>\n",
       "    </tr>\n",
       "    <tr>\n",
       "      <th>890</th>\n",
       "      <td>891</td>\n",
       "      <td>0</td>\n",
       "      <td>3</td>\n",
       "      <td>Dooley, Mr. Patrick</td>\n",
       "      <td>male</td>\n",
       "      <td>32.0</td>\n",
       "      <td>0</td>\n",
       "      <td>0</td>\n",
       "      <td>370376</td>\n",
       "      <td>7.75</td>\n",
       "      <td>NaN</td>\n",
       "      <td>Q</td>\n",
       "    </tr>\n",
       "  </tbody>\n",
       "</table>\n",
       "</div>"
      ],
      "text/plain": [
       "     PassengerId  Survived  Pclass                                      Name  \\\n",
       "888          889         0       3  Johnston, Miss. Catherine Helen \"Carrie\"   \n",
       "889          890         1       1                     Behr, Mr. Karl Howell   \n",
       "890          891         0       3                       Dooley, Mr. Patrick   \n",
       "\n",
       "        Sex   Age  SibSp  Parch      Ticket   Fare Cabin Embarked  \n",
       "888  female   NaN      1      2  W./C. 6607  23.45   NaN        S  \n",
       "889    male  26.0      0      0      111369  30.00  C148        C  \n",
       "890    male  32.0      0      0      370376   7.75   NaN        Q  "
      ]
     },
     "execution_count": 11,
     "metadata": {},
     "output_type": "execute_result"
    }
   ],
   "source": [
    "df = pd.read_csv(\"./titanic.csv\")\n",
    "df.tail(3)"
   ]
  },
  {
   "cell_type": "markdown",
   "id": "c00f59a8",
   "metadata": {
    "id": "JugXI_Y7fDxu"
   },
   "source": [
    "2. Pclass가 2이고 Fare이 20 이상인 경우를 보여주세요.\n",
    "\n",
    "2점\n",
    "\n"
   ]
  },
  {
   "cell_type": "code",
   "execution_count": 17,
   "id": "f8d24cf0",
   "metadata": {
    "id": "EV5wuTppr6YH"
   },
   "outputs": [
    {
     "data": {
      "text/html": [
       "<div>\n",
       "<style scoped>\n",
       "    .dataframe tbody tr th:only-of-type {\n",
       "        vertical-align: middle;\n",
       "    }\n",
       "\n",
       "    .dataframe tbody tr th {\n",
       "        vertical-align: top;\n",
       "    }\n",
       "\n",
       "    .dataframe thead th {\n",
       "        text-align: right;\n",
       "    }\n",
       "</style>\n",
       "<table border=\"1\" class=\"dataframe\">\n",
       "  <thead>\n",
       "    <tr style=\"text-align: right;\">\n",
       "      <th></th>\n",
       "      <th>PassengerId</th>\n",
       "      <th>Survived</th>\n",
       "      <th>Pclass</th>\n",
       "      <th>Name</th>\n",
       "      <th>Sex</th>\n",
       "      <th>Age</th>\n",
       "      <th>SibSp</th>\n",
       "      <th>Parch</th>\n",
       "      <th>Ticket</th>\n",
       "      <th>Fare</th>\n",
       "      <th>Cabin</th>\n",
       "      <th>Embarked</th>\n",
       "    </tr>\n",
       "  </thead>\n",
       "  <tbody>\n",
       "    <tr>\n",
       "      <th>9</th>\n",
       "      <td>10</td>\n",
       "      <td>1</td>\n",
       "      <td>2</td>\n",
       "      <td>Nasser, Mrs. Nicholas (Adele Achem)</td>\n",
       "      <td>female</td>\n",
       "      <td>14.0</td>\n",
       "      <td>1</td>\n",
       "      <td>0</td>\n",
       "      <td>237736</td>\n",
       "      <td>30.0708</td>\n",
       "      <td>NaN</td>\n",
       "      <td>C</td>\n",
       "    </tr>\n",
       "    <tr>\n",
       "      <th>20</th>\n",
       "      <td>21</td>\n",
       "      <td>0</td>\n",
       "      <td>2</td>\n",
       "      <td>Fynney, Mr. Joseph J</td>\n",
       "      <td>male</td>\n",
       "      <td>35.0</td>\n",
       "      <td>0</td>\n",
       "      <td>0</td>\n",
       "      <td>239865</td>\n",
       "      <td>26.0000</td>\n",
       "      <td>NaN</td>\n",
       "      <td>S</td>\n",
       "    </tr>\n",
       "    <tr>\n",
       "      <th>41</th>\n",
       "      <td>42</td>\n",
       "      <td>0</td>\n",
       "      <td>2</td>\n",
       "      <td>Turpin, Mrs. William John Robert (Dorothy Ann ...</td>\n",
       "      <td>female</td>\n",
       "      <td>27.0</td>\n",
       "      <td>1</td>\n",
       "      <td>0</td>\n",
       "      <td>11668</td>\n",
       "      <td>21.0000</td>\n",
       "      <td>NaN</td>\n",
       "      <td>S</td>\n",
       "    </tr>\n",
       "    <tr>\n",
       "      <th>43</th>\n",
       "      <td>44</td>\n",
       "      <td>1</td>\n",
       "      <td>2</td>\n",
       "      <td>Laroche, Miss. Simonne Marie Anne Andree</td>\n",
       "      <td>female</td>\n",
       "      <td>3.0</td>\n",
       "      <td>1</td>\n",
       "      <td>2</td>\n",
       "      <td>SC/Paris 2123</td>\n",
       "      <td>41.5792</td>\n",
       "      <td>NaN</td>\n",
       "      <td>C</td>\n",
       "    </tr>\n",
       "    <tr>\n",
       "      <th>53</th>\n",
       "      <td>54</td>\n",
       "      <td>1</td>\n",
       "      <td>2</td>\n",
       "      <td>Faunthorpe, Mrs. Lizzie (Elizabeth Anne Wilkin...</td>\n",
       "      <td>female</td>\n",
       "      <td>29.0</td>\n",
       "      <td>1</td>\n",
       "      <td>0</td>\n",
       "      <td>2926</td>\n",
       "      <td>26.0000</td>\n",
       "      <td>NaN</td>\n",
       "      <td>S</td>\n",
       "    </tr>\n",
       "    <tr>\n",
       "      <th>...</th>\n",
       "      <td>...</td>\n",
       "      <td>...</td>\n",
       "      <td>...</td>\n",
       "      <td>...</td>\n",
       "      <td>...</td>\n",
       "      <td>...</td>\n",
       "      <td>...</td>\n",
       "      <td>...</td>\n",
       "      <td>...</td>\n",
       "      <td>...</td>\n",
       "      <td>...</td>\n",
       "      <td>...</td>\n",
       "    </tr>\n",
       "    <tr>\n",
       "      <th>827</th>\n",
       "      <td>828</td>\n",
       "      <td>1</td>\n",
       "      <td>2</td>\n",
       "      <td>Mallet, Master. Andre</td>\n",
       "      <td>male</td>\n",
       "      <td>1.0</td>\n",
       "      <td>0</td>\n",
       "      <td>2</td>\n",
       "      <td>S.C./PARIS 2079</td>\n",
       "      <td>37.0042</td>\n",
       "      <td>NaN</td>\n",
       "      <td>C</td>\n",
       "    </tr>\n",
       "    <tr>\n",
       "      <th>848</th>\n",
       "      <td>849</td>\n",
       "      <td>0</td>\n",
       "      <td>2</td>\n",
       "      <td>Harper, Rev. John</td>\n",
       "      <td>male</td>\n",
       "      <td>28.0</td>\n",
       "      <td>0</td>\n",
       "      <td>1</td>\n",
       "      <td>248727</td>\n",
       "      <td>33.0000</td>\n",
       "      <td>NaN</td>\n",
       "      <td>S</td>\n",
       "    </tr>\n",
       "    <tr>\n",
       "      <th>854</th>\n",
       "      <td>855</td>\n",
       "      <td>0</td>\n",
       "      <td>2</td>\n",
       "      <td>Carter, Mrs. Ernest Courtenay (Lilian Hughes)</td>\n",
       "      <td>female</td>\n",
       "      <td>44.0</td>\n",
       "      <td>1</td>\n",
       "      <td>0</td>\n",
       "      <td>244252</td>\n",
       "      <td>26.0000</td>\n",
       "      <td>NaN</td>\n",
       "      <td>S</td>\n",
       "    </tr>\n",
       "    <tr>\n",
       "      <th>874</th>\n",
       "      <td>875</td>\n",
       "      <td>1</td>\n",
       "      <td>2</td>\n",
       "      <td>Abelson, Mrs. Samuel (Hannah Wizosky)</td>\n",
       "      <td>female</td>\n",
       "      <td>28.0</td>\n",
       "      <td>1</td>\n",
       "      <td>0</td>\n",
       "      <td>P/PP 3381</td>\n",
       "      <td>24.0000</td>\n",
       "      <td>NaN</td>\n",
       "      <td>C</td>\n",
       "    </tr>\n",
       "    <tr>\n",
       "      <th>880</th>\n",
       "      <td>881</td>\n",
       "      <td>1</td>\n",
       "      <td>2</td>\n",
       "      <td>Shelley, Mrs. William (Imanita Parrish Hall)</td>\n",
       "      <td>female</td>\n",
       "      <td>25.0</td>\n",
       "      <td>0</td>\n",
       "      <td>1</td>\n",
       "      <td>230433</td>\n",
       "      <td>26.0000</td>\n",
       "      <td>NaN</td>\n",
       "      <td>S</td>\n",
       "    </tr>\n",
       "  </tbody>\n",
       "</table>\n",
       "<p>80 rows × 12 columns</p>\n",
       "</div>"
      ],
      "text/plain": [
       "     PassengerId  Survived  Pclass  \\\n",
       "9             10         1       2   \n",
       "20            21         0       2   \n",
       "41            42         0       2   \n",
       "43            44         1       2   \n",
       "53            54         1       2   \n",
       "..           ...       ...     ...   \n",
       "827          828         1       2   \n",
       "848          849         0       2   \n",
       "854          855         0       2   \n",
       "874          875         1       2   \n",
       "880          881         1       2   \n",
       "\n",
       "                                                  Name     Sex   Age  SibSp  \\\n",
       "9                  Nasser, Mrs. Nicholas (Adele Achem)  female  14.0      1   \n",
       "20                                Fynney, Mr. Joseph J    male  35.0      0   \n",
       "41   Turpin, Mrs. William John Robert (Dorothy Ann ...  female  27.0      1   \n",
       "43            Laroche, Miss. Simonne Marie Anne Andree  female   3.0      1   \n",
       "53   Faunthorpe, Mrs. Lizzie (Elizabeth Anne Wilkin...  female  29.0      1   \n",
       "..                                                 ...     ...   ...    ...   \n",
       "827                              Mallet, Master. Andre    male   1.0      0   \n",
       "848                                  Harper, Rev. John    male  28.0      0   \n",
       "854      Carter, Mrs. Ernest Courtenay (Lilian Hughes)  female  44.0      1   \n",
       "874              Abelson, Mrs. Samuel (Hannah Wizosky)  female  28.0      1   \n",
       "880       Shelley, Mrs. William (Imanita Parrish Hall)  female  25.0      0   \n",
       "\n",
       "     Parch           Ticket     Fare Cabin Embarked  \n",
       "9        0           237736  30.0708   NaN        C  \n",
       "20       0           239865  26.0000   NaN        S  \n",
       "41       0            11668  21.0000   NaN        S  \n",
       "43       2    SC/Paris 2123  41.5792   NaN        C  \n",
       "53       0             2926  26.0000   NaN        S  \n",
       "..     ...              ...      ...   ...      ...  \n",
       "827      2  S.C./PARIS 2079  37.0042   NaN        C  \n",
       "848      1           248727  33.0000   NaN        S  \n",
       "854      0           244252  26.0000   NaN        S  \n",
       "874      0        P/PP 3381  24.0000   NaN        C  \n",
       "880      1           230433  26.0000   NaN        S  \n",
       "\n",
       "[80 rows x 12 columns]"
      ]
     },
     "execution_count": 17,
     "metadata": {},
     "output_type": "execute_result"
    }
   ],
   "source": [
    "df[(df['Pclass']==2) & (df['Fare']>=20)]"
   ]
  },
  {
   "cell_type": "markdown",
   "id": "9435f715",
   "metadata": {
    "id": "XgOAOxf85WOI"
   },
   "source": [
    "3. 파일을 읽고 생성한 데이터프레임을 생존여부 column을 대상으로 하여 groupby를 적용한 df_groupby 변수를 생성해주세요.\n",
    "\n",
    "3점"
   ]
  },
  {
   "cell_type": "code",
   "execution_count": 18,
   "id": "fe421858",
   "metadata": {
    "id": "-0sj0fXw6gXz"
   },
   "outputs": [],
   "source": [
    "df_groupby = df.groupby('Survived')"
   ]
  },
  {
   "cell_type": "markdown",
   "id": "f073ec84",
   "metadata": {
    "id": "nSliNsZM5Wj8"
   },
   "source": [
    "4. df_groupby 데이터프레임과 aggregation 함수를 활용해 생존한 승객들의 인원수를 알아내보세요.\n",
    "\n",
    "3점"
   ]
  },
  {
   "cell_type": "code",
   "execution_count": 20,
   "id": "a357bed5",
   "metadata": {
    "id": "BW9McsI5CTcP"
   },
   "outputs": [
    {
     "data": {
      "text/plain": [
       "Survived\n",
       "0    549\n",
       "1    342\n",
       "Name: Survived, dtype: int64"
      ]
     },
     "execution_count": 20,
     "metadata": {},
     "output_type": "execute_result"
    }
   ],
   "source": [
    "df_groupby['Survived'].agg('count')"
   ]
  },
  {
   "cell_type": "markdown",
   "id": "9bbe8016",
   "metadata": {
    "id": "tE1ooDU55XGt"
   },
   "source": [
    "5. 생존여부(Survived)와 자리 등급(Pclass)을 대상으로 groupby를 진행한 df_groupby 데이터프레임을 새로 생성하세요. 그리고 PassengerId column만 agg()를 수행해 생존한 2등급석 승객 중 가장 작은 PassengerId를 알아내보세요.\n",
    "\n",
    "4점"
   ]
  },
  {
   "cell_type": "code",
   "execution_count": 23,
   "id": "1420bb7f",
   "metadata": {
    "id": "HHEfLICICeAz"
   },
   "outputs": [
    {
     "data": {
      "text/plain": [
       "10"
      ]
     },
     "execution_count": 23,
     "metadata": {},
     "output_type": "execute_result"
    }
   ],
   "source": [
    "df_groupby = df.groupby(['Survived','Pclass'])\n",
    "df_groupby.get_group((1, 2))['PassengerId'].min()"
   ]
  },
  {
   "cell_type": "markdown",
   "id": "0f798c7a",
   "metadata": {
    "id": "gNv-F6yV5joj"
   },
   "source": [
    "6. 데이터프레임 df에 생존 여부를 한글로 작성한 column을 추가하고 'Survived' column과 '생존 여부' column을 출력하세요. (apply lambda 활용).\n",
    "\n",
    "4점"
   ]
  },
  {
   "cell_type": "code",
   "execution_count": 24,
   "id": "779f5e0d",
   "metadata": {
    "id": "Ivcwfa_QCtXR"
   },
   "outputs": [
    {
     "name": "stdout",
     "output_type": "stream",
     "text": [
      "     Survived 생존 여부\n",
      "0           0    사망\n",
      "1           1    생존\n",
      "2           1    생존\n",
      "3           1    생존\n",
      "4           0    사망\n",
      "..        ...   ...\n",
      "886         0    사망\n",
      "887         1    생존\n",
      "888         0    사망\n",
      "889         1    생존\n",
      "890         0    사망\n",
      "\n",
      "[891 rows x 2 columns]\n"
     ]
    }
   ],
   "source": [
    "df['생존 여부'] = df['Survived'].apply(lambda x: '생존' if x == 1 else '사망')\n",
    "print(df[['Survived', '생존 여부']])"
   ]
  },
  {
   "cell_type": "markdown",
   "id": "8026b7fb",
   "metadata": {
    "id": "lSpd6g2wl4lc"
   },
   "source": [
    "7. Age 컬럼을 활용해서 '나이대' 컬럼을 새롭게 만들고 데이터의 수를 출력해주세요.(ex. 23 -> 20대)\n",
    "\n",
    "(Age 컬럼의 결측치는 자유롭게 처리해주세요)\n",
    "\n",
    "4점"
   ]
  },
  {
   "cell_type": "code",
   "execution_count": null,
   "id": "693517c8",
   "metadata": {
    "id": "0ZAjChPIsWHy"
   },
   "outputs": [],
   "source": [
    "df['Age'].'''YOUR CODE'''\n",
    "\n",
    "df['나이대'] = df.'''YOUR CODE'''\n",
    "\n",
    "df['나이대'].???()"
   ]
  },
  {
   "cell_type": "markdown",
   "id": "fa2f4fee",
   "metadata": {
    "id": "WuhGVfZRhE3M"
   },
   "source": [
    "8. df 내의 컬럼을 활용하여 자유롭게 새로운 컬럼을 생성하고 생성한 컬럼을 구체적으로 설명해주세요.\n",
    "\n",
    "4점"
   ]
  },
  {
   "cell_type": "code",
   "execution_count": null,
   "id": "ce31f180",
   "metadata": {
    "id": "Nmv_Hcs_hb8-"
   },
   "outputs": [],
   "source": [
    "df[???] = '''YOUR CODE'''"
   ]
  },
  {
   "cell_type": "markdown",
   "id": "581db1a4",
   "metadata": {},
   "source": [
    "---"
   ]
  },
  {
   "cell_type": "markdown",
   "id": "CnwpbYD6UyJd",
   "metadata": {
    "id": "CnwpbYD6UyJd"
   },
   "source": [
    "# 3. Sciket-learn (20점)"
   ]
  },
  {
   "cell_type": "markdown",
   "id": "DpVmFCwcQnjZ",
   "metadata": {
    "id": "DpVmFCwcQnjZ"
   },
   "source": [
    "### [문제 1.1] KNNImputer (2점)\n",
    "\n",
    "이웃과의 거리가 2가 되도록 코드의 빈칸을 채워주세요."
   ]
  },
  {
   "cell_type": "code",
   "execution_count": 25,
   "id": "SVJvFH0BQkJy",
   "metadata": {
    "id": "SVJvFH0BQkJy"
   },
   "outputs": [
    {
     "name": "stdout",
     "output_type": "stream",
     "text": [
      "Original Data:\n",
      " [[ 1.  2. nan]\n",
      " [ 3.  4.  3.]\n",
      " [nan  6.  5.]\n",
      " [ 8.  8.  7.]]\n",
      "Imputed Data:\n",
      " [[1.  2.  4. ]\n",
      " [3.  4.  3. ]\n",
      " [5.5 6.  5. ]\n",
      " [8.  8.  7. ]]\n"
     ]
    }
   ],
   "source": [
    "from sklearn.impute import KNNImputer\n",
    "import numpy as np\n",
    "\n",
    "# 예제 데이터 생성\n",
    "data = np.array([\n",
    "    [1, 2, np.nan],\n",
    "    [3, 4, 3],\n",
    "    [np.nan, 6, 5],\n",
    "    [8, 8, 7]\n",
    "])\n",
    "\n",
    "# KNNImputer 인스턴스 생성\n",
    "imputer = KNNImputer(n_neighbors=2)\n",
    "\n",
    "# 결측치 대체 적용\n",
    "imputed_data = imputer.fit_transform(data)\n",
    "\n",
    "print(\"Original Data:\\n\", data)\n",
    "print(\"Imputed Data:\\n\", imputed_data)"
   ]
  },
  {
   "cell_type": "markdown",
   "id": "acmHcBvZSqtQ",
   "metadata": {
    "id": "acmHcBvZSqtQ"
   },
   "source": [
    "### [문제 1.2] One-Hot Encoding (2점)\n",
    "\n",
    "결과가 동일하게 나오도록 코드의 빈칸을 채워주세요."
   ]
  },
  {
   "cell_type": "code",
   "execution_count": 26,
   "id": "RMp_IDOSSrHt",
   "metadata": {
    "colab": {
     "base_uri": "https://localhost:8080/"
    },
    "executionInfo": {
     "elapsed": 496,
     "status": "ok",
     "timestamp": 1710207735289,
     "user": {
      "displayName": "‍김윤영[재학 / 통계학과]",
      "userId": "11069866414138522831"
     },
     "user_tz": -540
    },
    "id": "RMp_IDOSSrHt",
    "outputId": "eff8f42f-18d3-43ae-824f-2f8190a36a6f"
   },
   "outputs": [
    {
     "name": "stdout",
     "output_type": "stream",
     "text": [
      "['x0_coffee' 'x0_tea' 'x0_water' 'x1_afternoon' 'x1_evening' 'x1_morning']\n",
      "[[1. 0. 0. 0. 0. 1.]\n",
      " [0. 1. 0. 1. 0. 0.]\n",
      " [0. 0. 1. 0. 0. 1.]\n",
      " [1. 0. 0. 0. 1. 0.]\n",
      " [0. 1. 0. 0. 0. 1.]]\n"
     ]
    }
   ],
   "source": [
    "from sklearn.preprocessing import OneHotEncoder\n",
    "import numpy as np\n",
    "\n",
    "# 예제 데이터 생성\n",
    "data = np.array([\n",
    "    ['coffee', 'morning'],\n",
    "    ['tea', 'afternoon'],\n",
    "    ['water', 'morning'],\n",
    "    ['coffee', 'evening'],\n",
    "    ['tea', 'morning'],\n",
    "])\n",
    "\n",
    "# OneHotEncoder 인스턴스 생성\n",
    "encoder_drop = OneHotEncoder(drop='if_binary')\n",
    "\n",
    "# 데이터 변환\n",
    "transformed_data_drop = encoder_drop.fit_transform(data)\n",
    "print(encoder_drop.get_feature_names_out())\n",
    "print(transformed_data_drop.toarray())"
   ]
  },
  {
   "cell_type": "markdown",
   "id": "ytv8TX-CW76c",
   "metadata": {
    "id": "ytv8TX-CW76c"
   },
   "source": [
    "### [문제 1.3]  (2점)\n",
    "\n",
    "예시 데이터의 특성을 확인하고 빈칸을 채워주세요."
   ]
  },
  {
   "cell_type": "code",
   "execution_count": 27,
   "id": "evCxsOWHW76h",
   "metadata": {
    "colab": {
     "base_uri": "https://localhost:8080/"
    },
    "executionInfo": {
     "elapsed": 274,
     "status": "ok",
     "timestamp": 1710208292307,
     "user": {
      "displayName": "‍김윤영[재학 / 통계학과]",
      "userId": "11069866414138522831"
     },
     "user_tz": -540
    },
    "id": "evCxsOWHW76h",
    "outputId": "df805047-92ff-4cca-98f7-5f96d1b1b0a8"
   },
   "outputs": [
    {
     "name": "stdout",
     "output_type": "stream",
     "text": [
      "[[0.58834841 2.12132034 0.        ]\n",
      " [0.         0.         1.45999279]\n",
      " [2.35339362 0.         2.43332132]]\n"
     ]
    }
   ],
   "source": [
    "from sklearn.preprocessing import StandardScaler\n",
    "from scipy import sparse\n",
    "import numpy as np\n",
    "\n",
    "# 예제 데이터 생성\n",
    "data = sparse.csr_matrix([\n",
    "    [1, 2, 0],\n",
    "    [0, 0, 3],\n",
    "    [4, 0, 5],\n",
    "])\n",
    "\n",
    "# StandardScaler 인스턴스 생성\n",
    "scaler = StandardScaler(with_mean=False)\n",
    "\n",
    "# 데이터 표준화\n",
    "standardized_data = scaler.fit_transform(data)\n",
    "\n",
    "print(standardized_data.toarray())"
   ]
  },
  {
   "cell_type": "markdown",
   "id": "tC3FyX3pXT1Q",
   "metadata": {
    "id": "tC3FyX3pXT1Q"
   },
   "source": [
    "### [문제 1.4]  (2점)\n",
    "\n",
    "feature_range가 (-0.5, 0.5)가 되도록 코드의 빈칸을 채워주세요."
   ]
  },
  {
   "cell_type": "code",
   "execution_count": 28,
   "id": "Ko40-SX1X8na",
   "metadata": {
    "id": "Ko40-SX1X8na"
   },
   "outputs": [
    {
     "name": "stdout",
     "output_type": "stream",
     "text": [
      "[[ 0.         -0.5         0.5       ]\n",
      " [ 0.5         0.         -0.16666667]\n",
      " [-0.5         0.5        -0.5       ]]\n"
     ]
    }
   ],
   "source": [
    "from sklearn.preprocessing import MinMaxScaler\n",
    "\n",
    "# 예제 데이터 생성\n",
    "data = np.array([\n",
    "    [1, -1, 2],\n",
    "    [2, 0, 0],\n",
    "    [0, 1, -1]\n",
    "])\n",
    "\n",
    "# MinMaxScaler 인스턴스 생성\n",
    "scaler = MinMaxScaler(feature_range=(-0.5,0.5))\n",
    "\n",
    "# 데이터 스케일링\n",
    "scaled_data = scaler.fit_transform(data)\n",
    "\n",
    "print(scaled_data)"
   ]
  },
  {
   "cell_type": "markdown",
   "id": "hXqmIIRVX_Wd",
   "metadata": {
    "id": "hXqmIIRVX_Wd"
   },
   "source": [
    "### [문제 1.5]  (2점)"
   ]
  },
  {
   "cell_type": "markdown",
   "id": "PAsWHCLf6RLQ",
   "metadata": {
    "id": "PAsWHCLf6RLQ"
   },
   "source": [
    "Iris 데이터셋 로드를 로드하고 훈련 세트와 테스트 세트로 분리해주세요."
   ]
  },
  {
   "cell_type": "code",
   "execution_count": 29,
   "id": "I5R8EYRDg48W",
   "metadata": {
    "id": "I5R8EYRDg48W"
   },
   "outputs": [],
   "source": [
    "from sklearn.datasets import load_iris\n",
    "from sklearn.model_selection import train_test_split\n",
    "\n",
    "# Iris 데이터셋 로드를 로드해주세요.\n",
    "iris=load_iris()\n",
    "X, y = iris.data, iris.target\n",
    "\n",
    "# 훈련 세트와 테스트 세트로 분리해주세요.\n",
    "X_train, X_test, y_train, y_test = train_test_split(X, y, test_size=0.3, random_state=42)"
   ]
  },
  {
   "cell_type": "markdown",
   "id": "_WfTBsYs6Zd0",
   "metadata": {
    "id": "_WfTBsYs6Zd0"
   },
   "source": [
    "### [문제 1.6]  (2점)"
   ]
  },
  {
   "cell_type": "markdown",
   "id": "LmfnK-ks6fv4",
   "metadata": {
    "id": "LmfnK-ks6fv4"
   },
   "source": [
    "KFold 객체를 생성해주세요."
   ]
  },
  {
   "cell_type": "code",
   "execution_count": 30,
   "id": "Ta6v0PEmg8Gt",
   "metadata": {
    "colab": {
     "base_uri": "https://localhost:8080/"
    },
    "executionInfo": {
     "elapsed": 4829,
     "status": "ok",
     "timestamp": 1710177380167,
     "user": {
      "displayName": "이승우",
      "userId": "15396331482512662742"
     },
     "user_tz": -540
    },
    "id": "Ta6v0PEmg8Gt",
    "outputId": "16de0017-c850-481f-db2f-23ca89b28334"
   },
   "outputs": [
    {
     "name": "stdout",
     "output_type": "stream",
     "text": [
      "Accuracy: 0.9047619047619048\n",
      "Accuracy: 0.9047619047619048\n",
      "Accuracy: 0.9047619047619048\n",
      "Accuracy: 0.8571428571428571\n",
      "Accuracy: 0.9523809523809523\n"
     ]
    }
   ],
   "source": [
    "from sklearn.model_selection import KFold\n",
    "from sklearn.ensemble import RandomForestClassifier\n",
    "from sklearn.metrics import accuracy_score\n",
    "\n",
    "# KFold 객체 생성해주세요.\n",
    "\n",
    "kf = KFold(n_splits=5, shuffle=True, random_state=42)\n",
    "\n",
    "# KFold를 이용한 교차 검증\n",
    "for train_index, test_index in kf.split(X_train):\n",
    "    X_train_fold, X_test_fold = X_train[train_index], X_train[test_index]\n",
    "    y_train_fold, y_test_fold = y_train[train_index], y_train[test_index]\n",
    "\n",
    "    model = RandomForestClassifier(random_state=42)\n",
    "    model.fit(X_train_fold, y_train_fold)\n",
    "    predictions = model.predict(X_test_fold)\n",
    "    print(f'Accuracy: {accuracy_score(y_test_fold, predictions)}')\n"
   ]
  },
  {
   "cell_type": "markdown",
   "id": "pyy--MpH6pN4",
   "metadata": {
    "id": "pyy--MpH6pN4"
   },
   "source": [
    "### [문제 1.7]  (2점)"
   ]
  },
  {
   "cell_type": "markdown",
   "id": "hszfz1IV6rJB",
   "metadata": {
    "id": "hszfz1IV6rJB"
   },
   "source": [
    "StratifiedKFold 객체 생성을 해주세요."
   ]
  },
  {
   "cell_type": "code",
   "execution_count": 31,
   "id": "AP4UBYx_hA_3",
   "metadata": {
    "colab": {
     "base_uri": "https://localhost:8080/"
    },
    "executionInfo": {
     "elapsed": 1534,
     "status": "ok",
     "timestamp": 1710177400066,
     "user": {
      "displayName": "이승우",
      "userId": "15396331482512662742"
     },
     "user_tz": -540
    },
    "id": "AP4UBYx_hA_3",
    "outputId": "4336ab37-9732-4656-c2b4-29e54680df7b"
   },
   "outputs": [
    {
     "name": "stdout",
     "output_type": "stream",
     "text": [
      "Accuracy: 0.8571428571428571\n",
      "Accuracy: 0.9047619047619048\n",
      "Accuracy: 0.9047619047619048\n",
      "Accuracy: 0.9523809523809523\n",
      "Accuracy: 0.9523809523809523\n"
     ]
    }
   ],
   "source": [
    "from sklearn.model_selection import StratifiedKFold\n",
    "\n",
    "# StratifiedKFold 객체 생성을 해주세요.\n",
    "\n",
    "skf = StratifiedKFold(n_splits=5, shuffle=True, random_state=42)\n",
    "\n",
    "# StratifiedKFold를 이용한 교차 검증\n",
    "for train_index, test_index in skf.split(X_train, y_train):\n",
    "    X_train_fold, X_test_fold = X_train[train_index], X_train[test_index]\n",
    "    y_train_fold, y_test_fold = y_train[train_index], y_train[test_index]\n",
    "\n",
    "    model = RandomForestClassifier(random_state=42)\n",
    "    model.fit(X_train_fold, y_train_fold)\n",
    "    predictions = model.predict(X_test_fold)\n",
    "    print(f'Accuracy: {accuracy_score(y_test_fold, predictions)}')"
   ]
  },
  {
   "cell_type": "markdown",
   "id": "2qPMR0yK6wld",
   "metadata": {
    "id": "2qPMR0yK6wld"
   },
   "source": [
    "### [문제 1.8] (2점)"
   ]
  },
  {
   "cell_type": "markdown",
   "id": "xnVKKhas60LM",
   "metadata": {
    "id": "xnVKKhas60LM"
   },
   "source": [
    "cross_val_score를 이용한 교차 검증을 해주세요."
   ]
  },
  {
   "cell_type": "code",
   "execution_count": 33,
   "id": "vyGTCps8hDsE",
   "metadata": {
    "colab": {
     "base_uri": "https://localhost:8080/"
    },
    "executionInfo": {
     "elapsed": 2622,
     "status": "ok",
     "timestamp": 1710177409704,
     "user": {
      "displayName": "이승우",
      "userId": "15396331482512662742"
     },
     "user_tz": -540
    },
    "id": "vyGTCps8hDsE",
    "outputId": "f272617a-5a00-476a-c34f-0a5303bd68d2"
   },
   "outputs": [
    {
     "name": "stdout",
     "output_type": "stream",
     "text": [
      "Cross-validation scores: [0.95238095 0.9047619  0.9047619  1.         0.95238095]\n"
     ]
    }
   ],
   "source": [
    "from sklearn.model_selection import cross_val_score\n",
    "\n",
    "# cross_val_score를 이용한 교차 검증을 해주세요.\n",
    "# 폴드 수는 5로 설정해주세요.\n",
    "\n",
    "model = RandomForestClassifier(random_state=42)\n",
    "scores = cross_val_score(model, X_train, y_train, cv=5)\n",
    "print(f'Cross-validation scores: {scores}')"
   ]
  },
  {
   "cell_type": "markdown",
   "id": "BnBIzk0f7AWE",
   "metadata": {
    "id": "BnBIzk0f7AWE"
   },
   "source": [
    "### [문제 1.9] (4점)"
   ]
  },
  {
   "cell_type": "markdown",
   "id": "IH4y3xoh7C3T",
   "metadata": {
    "id": "IH4y3xoh7C3T"
   },
   "source": [
    "RandomizedSearchCV 객체를 생성하고, 가장 좋은 parameter와 score을 찾아주세요."
   ]
  },
  {
   "cell_type": "code",
   "execution_count": 34,
   "id": "K_4pdA6jhF1t",
   "metadata": {
    "colab": {
     "base_uri": "https://localhost:8080/"
    },
    "executionInfo": {
     "elapsed": 69564,
     "status": "ok",
     "timestamp": 1710177486948,
     "user": {
      "displayName": "이승우",
      "userId": "15396331482512662742"
     },
     "user_tz": -540
    },
    "id": "K_4pdA6jhF1t",
    "outputId": "4cbe60fd-3f98-4cef-f30c-4a248abcb266"
   },
   "outputs": [
    {
     "name": "stdout",
     "output_type": "stream",
     "text": [
      "Best parameters: {'max_depth': 7, 'n_estimators': 448}\n",
      "Best cross-validation score: 0.9428571428571428\n"
     ]
    }
   ],
   "source": [
    "from sklearn.model_selection import RandomizedSearchCV\n",
    "from scipy.stats import randint\n",
    "\n",
    "# 하이퍼파라미터 설정\n",
    "param_distributions = {\n",
    "    'n_estimators': randint(100, 500),\n",
    "    'max_depth': randint(1, 10)\n",
    "}\n",
    "\n",
    "# RandomizedSearchCV 객체 생성해주세요.\n",
    "# 폴드 수는 5로 설정해주세요.\n",
    "# 파라미터 검색 횟수는 20으로 설정해주세요.\n",
    "\n",
    "random_search = RandomizedSearchCV(model, param_distributions, cv=5, n_iter=20, random_state=42)\n",
    "\n",
    "# 훈련 데이터에 대해 하이퍼파라미터 최적화 수행\n",
    "random_search.fit(X_train, y_train)\n",
    "\n",
    "# 결과 출력(파라미터, 결과)를 해주세요.\n",
    "\n",
    "print(f'Best parameters: {random_search.best_params_}')\n",
    "print(f'Best cross-validation score: {random_search.best_score_}')"
   ]
  },
  {
   "cell_type": "markdown",
   "id": "d0c00466",
   "metadata": {
    "id": "d0c00466"
   },
   "source": [
    "# 4. Sciket-learn을 활용한 타이타닉 생존자 예측 실습 (30점)"
   ]
  },
  {
   "cell_type": "markdown",
   "id": "pNxWeBq_oOCw",
   "metadata": {
    "id": "pNxWeBq_oOCw"
   },
   "source": [
    "사이킷런의 주요 모듈 및 메서드 실습이 목적이므로 상세한 EDA과정은 생략하고 최소한의 전처리만 진행합니다."
   ]
  },
  {
   "cell_type": "code",
   "execution_count": 35,
   "id": "d9813c59",
   "metadata": {
    "id": "d9813c59"
   },
   "outputs": [],
   "source": [
    "# data analysis and wrangling\n",
    "import numpy as np\n",
    "import pandas as pd\n",
    "\n",
    "# load dataset\n",
    "import seaborn as sns"
   ]
  },
  {
   "cell_type": "code",
   "execution_count": 36,
   "id": "bf49cfde",
   "metadata": {
    "colab": {
     "base_uri": "https://localhost:8080/",
     "height": 423
    },
    "executionInfo": {
     "elapsed": 7,
     "status": "ok",
     "timestamp": 1710136146600,
     "user": {
      "displayName": "진솔한",
      "userId": "01586898740165969853"
     },
     "user_tz": -540
    },
    "id": "bf49cfde",
    "outputId": "670b737a-5b5e-4a45-b911-bdbb1b82b535"
   },
   "outputs": [
    {
     "data": {
      "text/html": [
       "<div>\n",
       "<style scoped>\n",
       "    .dataframe tbody tr th:only-of-type {\n",
       "        vertical-align: middle;\n",
       "    }\n",
       "\n",
       "    .dataframe tbody tr th {\n",
       "        vertical-align: top;\n",
       "    }\n",
       "\n",
       "    .dataframe thead th {\n",
       "        text-align: right;\n",
       "    }\n",
       "</style>\n",
       "<table border=\"1\" class=\"dataframe\">\n",
       "  <thead>\n",
       "    <tr style=\"text-align: right;\">\n",
       "      <th></th>\n",
       "      <th>survived</th>\n",
       "      <th>pclass</th>\n",
       "      <th>sex</th>\n",
       "      <th>age</th>\n",
       "      <th>sibsp</th>\n",
       "      <th>parch</th>\n",
       "      <th>fare</th>\n",
       "      <th>embarked</th>\n",
       "      <th>class</th>\n",
       "      <th>who</th>\n",
       "      <th>adult_male</th>\n",
       "      <th>deck</th>\n",
       "      <th>embark_town</th>\n",
       "      <th>alive</th>\n",
       "      <th>alone</th>\n",
       "    </tr>\n",
       "  </thead>\n",
       "  <tbody>\n",
       "    <tr>\n",
       "      <th>0</th>\n",
       "      <td>0</td>\n",
       "      <td>3</td>\n",
       "      <td>male</td>\n",
       "      <td>22.0</td>\n",
       "      <td>1</td>\n",
       "      <td>0</td>\n",
       "      <td>7.2500</td>\n",
       "      <td>S</td>\n",
       "      <td>Third</td>\n",
       "      <td>man</td>\n",
       "      <td>True</td>\n",
       "      <td>NaN</td>\n",
       "      <td>Southampton</td>\n",
       "      <td>no</td>\n",
       "      <td>False</td>\n",
       "    </tr>\n",
       "    <tr>\n",
       "      <th>1</th>\n",
       "      <td>1</td>\n",
       "      <td>1</td>\n",
       "      <td>female</td>\n",
       "      <td>38.0</td>\n",
       "      <td>1</td>\n",
       "      <td>0</td>\n",
       "      <td>71.2833</td>\n",
       "      <td>C</td>\n",
       "      <td>First</td>\n",
       "      <td>woman</td>\n",
       "      <td>False</td>\n",
       "      <td>C</td>\n",
       "      <td>Cherbourg</td>\n",
       "      <td>yes</td>\n",
       "      <td>False</td>\n",
       "    </tr>\n",
       "    <tr>\n",
       "      <th>2</th>\n",
       "      <td>1</td>\n",
       "      <td>3</td>\n",
       "      <td>female</td>\n",
       "      <td>26.0</td>\n",
       "      <td>0</td>\n",
       "      <td>0</td>\n",
       "      <td>7.9250</td>\n",
       "      <td>S</td>\n",
       "      <td>Third</td>\n",
       "      <td>woman</td>\n",
       "      <td>False</td>\n",
       "      <td>NaN</td>\n",
       "      <td>Southampton</td>\n",
       "      <td>yes</td>\n",
       "      <td>True</td>\n",
       "    </tr>\n",
       "    <tr>\n",
       "      <th>3</th>\n",
       "      <td>1</td>\n",
       "      <td>1</td>\n",
       "      <td>female</td>\n",
       "      <td>35.0</td>\n",
       "      <td>1</td>\n",
       "      <td>0</td>\n",
       "      <td>53.1000</td>\n",
       "      <td>S</td>\n",
       "      <td>First</td>\n",
       "      <td>woman</td>\n",
       "      <td>False</td>\n",
       "      <td>C</td>\n",
       "      <td>Southampton</td>\n",
       "      <td>yes</td>\n",
       "      <td>False</td>\n",
       "    </tr>\n",
       "    <tr>\n",
       "      <th>4</th>\n",
       "      <td>0</td>\n",
       "      <td>3</td>\n",
       "      <td>male</td>\n",
       "      <td>35.0</td>\n",
       "      <td>0</td>\n",
       "      <td>0</td>\n",
       "      <td>8.0500</td>\n",
       "      <td>S</td>\n",
       "      <td>Third</td>\n",
       "      <td>man</td>\n",
       "      <td>True</td>\n",
       "      <td>NaN</td>\n",
       "      <td>Southampton</td>\n",
       "      <td>no</td>\n",
       "      <td>True</td>\n",
       "    </tr>\n",
       "    <tr>\n",
       "      <th>...</th>\n",
       "      <td>...</td>\n",
       "      <td>...</td>\n",
       "      <td>...</td>\n",
       "      <td>...</td>\n",
       "      <td>...</td>\n",
       "      <td>...</td>\n",
       "      <td>...</td>\n",
       "      <td>...</td>\n",
       "      <td>...</td>\n",
       "      <td>...</td>\n",
       "      <td>...</td>\n",
       "      <td>...</td>\n",
       "      <td>...</td>\n",
       "      <td>...</td>\n",
       "      <td>...</td>\n",
       "    </tr>\n",
       "    <tr>\n",
       "      <th>886</th>\n",
       "      <td>0</td>\n",
       "      <td>2</td>\n",
       "      <td>male</td>\n",
       "      <td>27.0</td>\n",
       "      <td>0</td>\n",
       "      <td>0</td>\n",
       "      <td>13.0000</td>\n",
       "      <td>S</td>\n",
       "      <td>Second</td>\n",
       "      <td>man</td>\n",
       "      <td>True</td>\n",
       "      <td>NaN</td>\n",
       "      <td>Southampton</td>\n",
       "      <td>no</td>\n",
       "      <td>True</td>\n",
       "    </tr>\n",
       "    <tr>\n",
       "      <th>887</th>\n",
       "      <td>1</td>\n",
       "      <td>1</td>\n",
       "      <td>female</td>\n",
       "      <td>19.0</td>\n",
       "      <td>0</td>\n",
       "      <td>0</td>\n",
       "      <td>30.0000</td>\n",
       "      <td>S</td>\n",
       "      <td>First</td>\n",
       "      <td>woman</td>\n",
       "      <td>False</td>\n",
       "      <td>B</td>\n",
       "      <td>Southampton</td>\n",
       "      <td>yes</td>\n",
       "      <td>True</td>\n",
       "    </tr>\n",
       "    <tr>\n",
       "      <th>888</th>\n",
       "      <td>0</td>\n",
       "      <td>3</td>\n",
       "      <td>female</td>\n",
       "      <td>NaN</td>\n",
       "      <td>1</td>\n",
       "      <td>2</td>\n",
       "      <td>23.4500</td>\n",
       "      <td>S</td>\n",
       "      <td>Third</td>\n",
       "      <td>woman</td>\n",
       "      <td>False</td>\n",
       "      <td>NaN</td>\n",
       "      <td>Southampton</td>\n",
       "      <td>no</td>\n",
       "      <td>False</td>\n",
       "    </tr>\n",
       "    <tr>\n",
       "      <th>889</th>\n",
       "      <td>1</td>\n",
       "      <td>1</td>\n",
       "      <td>male</td>\n",
       "      <td>26.0</td>\n",
       "      <td>0</td>\n",
       "      <td>0</td>\n",
       "      <td>30.0000</td>\n",
       "      <td>C</td>\n",
       "      <td>First</td>\n",
       "      <td>man</td>\n",
       "      <td>True</td>\n",
       "      <td>C</td>\n",
       "      <td>Cherbourg</td>\n",
       "      <td>yes</td>\n",
       "      <td>True</td>\n",
       "    </tr>\n",
       "    <tr>\n",
       "      <th>890</th>\n",
       "      <td>0</td>\n",
       "      <td>3</td>\n",
       "      <td>male</td>\n",
       "      <td>32.0</td>\n",
       "      <td>0</td>\n",
       "      <td>0</td>\n",
       "      <td>7.7500</td>\n",
       "      <td>Q</td>\n",
       "      <td>Third</td>\n",
       "      <td>man</td>\n",
       "      <td>True</td>\n",
       "      <td>NaN</td>\n",
       "      <td>Queenstown</td>\n",
       "      <td>no</td>\n",
       "      <td>True</td>\n",
       "    </tr>\n",
       "  </tbody>\n",
       "</table>\n",
       "<p>891 rows × 15 columns</p>\n",
       "</div>"
      ],
      "text/plain": [
       "     survived  pclass     sex   age  sibsp  parch     fare embarked   class  \\\n",
       "0           0       3    male  22.0      1      0   7.2500        S   Third   \n",
       "1           1       1  female  38.0      1      0  71.2833        C   First   \n",
       "2           1       3  female  26.0      0      0   7.9250        S   Third   \n",
       "3           1       1  female  35.0      1      0  53.1000        S   First   \n",
       "4           0       3    male  35.0      0      0   8.0500        S   Third   \n",
       "..        ...     ...     ...   ...    ...    ...      ...      ...     ...   \n",
       "886         0       2    male  27.0      0      0  13.0000        S  Second   \n",
       "887         1       1  female  19.0      0      0  30.0000        S   First   \n",
       "888         0       3  female   NaN      1      2  23.4500        S   Third   \n",
       "889         1       1    male  26.0      0      0  30.0000        C   First   \n",
       "890         0       3    male  32.0      0      0   7.7500        Q   Third   \n",
       "\n",
       "       who  adult_male deck  embark_town alive  alone  \n",
       "0      man        True  NaN  Southampton    no  False  \n",
       "1    woman       False    C    Cherbourg   yes  False  \n",
       "2    woman       False  NaN  Southampton   yes   True  \n",
       "3    woman       False    C  Southampton   yes  False  \n",
       "4      man        True  NaN  Southampton    no   True  \n",
       "..     ...         ...  ...          ...   ...    ...  \n",
       "886    man        True  NaN  Southampton    no   True  \n",
       "887  woman       False    B  Southampton   yes   True  \n",
       "888  woman       False  NaN  Southampton    no  False  \n",
       "889    man        True    C    Cherbourg   yes   True  \n",
       "890    man        True  NaN   Queenstown    no   True  \n",
       "\n",
       "[891 rows x 15 columns]"
      ]
     },
     "execution_count": 36,
     "metadata": {},
     "output_type": "execute_result"
    }
   ],
   "source": [
    "df = sns.load_dataset(\"titanic\")\n",
    "df"
   ]
  },
  {
   "cell_type": "markdown",
   "id": "55d28ad6",
   "metadata": {
    "id": "55d28ad6"
   },
   "source": [
    "- survived : 생존여부(0 : 사망, 1 : 생존)\n",
    "- pclass : 객실의 등급(1, 2, 3)\n",
    "- sex : 성별(male, female)\n",
    "- age : 나이\n",
    "- sibsp : 함께 탑승한 형제자매, 아내, 남편의 수\n",
    "- parch : 함께 탑승한 부모, 자식의 수\n",
    "- fare : 티켓의 요금\n",
    "- embarked : 배에 탑승한 도시(C = Cherbourg, Q = Queenstown, S = Southampton\n",
    "- class : 객실의 등급(First, Second, Third)\n",
    "- who : 성별(man, woman)\n",
    "- adult_male : 성인 남성 여부(True, False)\n",
    "- embark_town : 배에 탑승한 도시(Cherbourg, Queenstown, Southampton)\n",
    "- alive : 생존여부(yes, no)\n",
    "- alone : 홀로 탑승 여부(True, False)"
   ]
  },
  {
   "cell_type": "code",
   "execution_count": 37,
   "id": "cf7df865",
   "metadata": {
    "colab": {
     "base_uri": "https://localhost:8080/",
     "height": 206
    },
    "executionInfo": {
     "elapsed": 3,
     "status": "ok",
     "timestamp": 1710136148238,
     "user": {
      "displayName": "진솔한",
      "userId": "01586898740165969853"
     },
     "user_tz": -540
    },
    "id": "cf7df865",
    "outputId": "7e19242d-2196-4e3f-a38e-a9b777a274af"
   },
   "outputs": [
    {
     "data": {
      "text/html": [
       "<div>\n",
       "<style scoped>\n",
       "    .dataframe tbody tr th:only-of-type {\n",
       "        vertical-align: middle;\n",
       "    }\n",
       "\n",
       "    .dataframe tbody tr th {\n",
       "        vertical-align: top;\n",
       "    }\n",
       "\n",
       "    .dataframe thead th {\n",
       "        text-align: right;\n",
       "    }\n",
       "</style>\n",
       "<table border=\"1\" class=\"dataframe\">\n",
       "  <thead>\n",
       "    <tr style=\"text-align: right;\">\n",
       "      <th></th>\n",
       "      <th>survived</th>\n",
       "      <th>pclass</th>\n",
       "      <th>sex</th>\n",
       "      <th>age</th>\n",
       "      <th>fare</th>\n",
       "      <th>embarked</th>\n",
       "      <th>deck</th>\n",
       "      <th>alone</th>\n",
       "    </tr>\n",
       "  </thead>\n",
       "  <tbody>\n",
       "    <tr>\n",
       "      <th>0</th>\n",
       "      <td>0</td>\n",
       "      <td>3</td>\n",
       "      <td>male</td>\n",
       "      <td>22.0</td>\n",
       "      <td>7.2500</td>\n",
       "      <td>S</td>\n",
       "      <td>NaN</td>\n",
       "      <td>False</td>\n",
       "    </tr>\n",
       "    <tr>\n",
       "      <th>1</th>\n",
       "      <td>1</td>\n",
       "      <td>1</td>\n",
       "      <td>female</td>\n",
       "      <td>38.0</td>\n",
       "      <td>71.2833</td>\n",
       "      <td>C</td>\n",
       "      <td>C</td>\n",
       "      <td>False</td>\n",
       "    </tr>\n",
       "    <tr>\n",
       "      <th>2</th>\n",
       "      <td>1</td>\n",
       "      <td>3</td>\n",
       "      <td>female</td>\n",
       "      <td>26.0</td>\n",
       "      <td>7.9250</td>\n",
       "      <td>S</td>\n",
       "      <td>NaN</td>\n",
       "      <td>True</td>\n",
       "    </tr>\n",
       "    <tr>\n",
       "      <th>3</th>\n",
       "      <td>1</td>\n",
       "      <td>1</td>\n",
       "      <td>female</td>\n",
       "      <td>35.0</td>\n",
       "      <td>53.1000</td>\n",
       "      <td>S</td>\n",
       "      <td>C</td>\n",
       "      <td>False</td>\n",
       "    </tr>\n",
       "    <tr>\n",
       "      <th>4</th>\n",
       "      <td>0</td>\n",
       "      <td>3</td>\n",
       "      <td>male</td>\n",
       "      <td>35.0</td>\n",
       "      <td>8.0500</td>\n",
       "      <td>S</td>\n",
       "      <td>NaN</td>\n",
       "      <td>True</td>\n",
       "    </tr>\n",
       "  </tbody>\n",
       "</table>\n",
       "</div>"
      ],
      "text/plain": [
       "   survived  pclass     sex   age     fare embarked deck  alone\n",
       "0         0       3    male  22.0   7.2500        S  NaN  False\n",
       "1         1       1  female  38.0  71.2833        C    C  False\n",
       "2         1       3  female  26.0   7.9250        S  NaN   True\n",
       "3         1       1  female  35.0  53.1000        S    C  False\n",
       "4         0       3    male  35.0   8.0500        S  NaN   True"
      ]
     },
     "execution_count": 37,
     "metadata": {},
     "output_type": "execute_result"
    }
   ],
   "source": [
    "# class, who, adult_male, embark_town, alive, alone 변수는 타 변수들과 의미하는 바가 동일하므로 삭제합니다.\n",
    "df.drop(columns = ['sibsp', 'parch', 'class', 'who', 'adult_male', 'embark_town', 'alive'], inplace = True)\n",
    "df.head()"
   ]
  },
  {
   "cell_type": "markdown",
   "id": "cc07ccf3",
   "metadata": {
    "id": "cc07ccf3"
   },
   "source": [
    "### [문제 2.1] Fill Missing Values (4점)"
   ]
  },
  {
   "cell_type": "markdown",
   "id": "LndGSQfz_dgQ",
   "metadata": {
    "id": "LndGSQfz_dgQ"
   },
   "source": [
    "데이터셋의 결측치를 확인하고 삭제 혹은 적절한 값으로 대체합니다."
   ]
  },
  {
   "cell_type": "code",
   "execution_count": 38,
   "id": "9242606b",
   "metadata": {
    "colab": {
     "base_uri": "https://localhost:8080/"
    },
    "executionInfo": {
     "elapsed": 2,
     "status": "ok",
     "timestamp": 1710136150177,
     "user": {
      "displayName": "진솔한",
      "userId": "01586898740165969853"
     },
     "user_tz": -540
    },
    "id": "9242606b",
    "outputId": "9028aa51-df5e-4bba-f8d3-7ad239f90ae8"
   },
   "outputs": [
    {
     "data": {
      "text/html": [
       "<div>\n",
       "<style scoped>\n",
       "    .dataframe tbody tr th:only-of-type {\n",
       "        vertical-align: middle;\n",
       "    }\n",
       "\n",
       "    .dataframe tbody tr th {\n",
       "        vertical-align: top;\n",
       "    }\n",
       "\n",
       "    .dataframe thead th {\n",
       "        text-align: right;\n",
       "    }\n",
       "</style>\n",
       "<table border=\"1\" class=\"dataframe\">\n",
       "  <thead>\n",
       "    <tr style=\"text-align: right;\">\n",
       "      <th></th>\n",
       "      <th>survived</th>\n",
       "      <th>pclass</th>\n",
       "      <th>sex</th>\n",
       "      <th>age</th>\n",
       "      <th>fare</th>\n",
       "      <th>embarked</th>\n",
       "      <th>deck</th>\n",
       "      <th>alone</th>\n",
       "    </tr>\n",
       "  </thead>\n",
       "  <tbody>\n",
       "    <tr>\n",
       "      <th>1</th>\n",
       "      <td>1</td>\n",
       "      <td>1</td>\n",
       "      <td>female</td>\n",
       "      <td>38.0</td>\n",
       "      <td>71.2833</td>\n",
       "      <td>C</td>\n",
       "      <td>C</td>\n",
       "      <td>False</td>\n",
       "    </tr>\n",
       "    <tr>\n",
       "      <th>3</th>\n",
       "      <td>1</td>\n",
       "      <td>1</td>\n",
       "      <td>female</td>\n",
       "      <td>35.0</td>\n",
       "      <td>53.1000</td>\n",
       "      <td>S</td>\n",
       "      <td>C</td>\n",
       "      <td>False</td>\n",
       "    </tr>\n",
       "    <tr>\n",
       "      <th>6</th>\n",
       "      <td>0</td>\n",
       "      <td>1</td>\n",
       "      <td>male</td>\n",
       "      <td>54.0</td>\n",
       "      <td>51.8625</td>\n",
       "      <td>S</td>\n",
       "      <td>E</td>\n",
       "      <td>True</td>\n",
       "    </tr>\n",
       "    <tr>\n",
       "      <th>10</th>\n",
       "      <td>1</td>\n",
       "      <td>3</td>\n",
       "      <td>female</td>\n",
       "      <td>4.0</td>\n",
       "      <td>16.7000</td>\n",
       "      <td>S</td>\n",
       "      <td>G</td>\n",
       "      <td>False</td>\n",
       "    </tr>\n",
       "    <tr>\n",
       "      <th>11</th>\n",
       "      <td>1</td>\n",
       "      <td>1</td>\n",
       "      <td>female</td>\n",
       "      <td>58.0</td>\n",
       "      <td>26.5500</td>\n",
       "      <td>S</td>\n",
       "      <td>C</td>\n",
       "      <td>True</td>\n",
       "    </tr>\n",
       "    <tr>\n",
       "      <th>...</th>\n",
       "      <td>...</td>\n",
       "      <td>...</td>\n",
       "      <td>...</td>\n",
       "      <td>...</td>\n",
       "      <td>...</td>\n",
       "      <td>...</td>\n",
       "      <td>...</td>\n",
       "      <td>...</td>\n",
       "    </tr>\n",
       "    <tr>\n",
       "      <th>871</th>\n",
       "      <td>1</td>\n",
       "      <td>1</td>\n",
       "      <td>female</td>\n",
       "      <td>47.0</td>\n",
       "      <td>52.5542</td>\n",
       "      <td>S</td>\n",
       "      <td>D</td>\n",
       "      <td>False</td>\n",
       "    </tr>\n",
       "    <tr>\n",
       "      <th>872</th>\n",
       "      <td>0</td>\n",
       "      <td>1</td>\n",
       "      <td>male</td>\n",
       "      <td>33.0</td>\n",
       "      <td>5.0000</td>\n",
       "      <td>S</td>\n",
       "      <td>B</td>\n",
       "      <td>True</td>\n",
       "    </tr>\n",
       "    <tr>\n",
       "      <th>879</th>\n",
       "      <td>1</td>\n",
       "      <td>1</td>\n",
       "      <td>female</td>\n",
       "      <td>56.0</td>\n",
       "      <td>83.1583</td>\n",
       "      <td>C</td>\n",
       "      <td>C</td>\n",
       "      <td>False</td>\n",
       "    </tr>\n",
       "    <tr>\n",
       "      <th>887</th>\n",
       "      <td>1</td>\n",
       "      <td>1</td>\n",
       "      <td>female</td>\n",
       "      <td>19.0</td>\n",
       "      <td>30.0000</td>\n",
       "      <td>S</td>\n",
       "      <td>B</td>\n",
       "      <td>True</td>\n",
       "    </tr>\n",
       "    <tr>\n",
       "      <th>889</th>\n",
       "      <td>1</td>\n",
       "      <td>1</td>\n",
       "      <td>male</td>\n",
       "      <td>26.0</td>\n",
       "      <td>30.0000</td>\n",
       "      <td>C</td>\n",
       "      <td>C</td>\n",
       "      <td>True</td>\n",
       "    </tr>\n",
       "  </tbody>\n",
       "</table>\n",
       "<p>182 rows × 8 columns</p>\n",
       "</div>"
      ],
      "text/plain": [
       "     survived  pclass     sex   age     fare embarked deck  alone\n",
       "1           1       1  female  38.0  71.2833        C    C  False\n",
       "3           1       1  female  35.0  53.1000        S    C  False\n",
       "6           0       1    male  54.0  51.8625        S    E   True\n",
       "10          1       3  female   4.0  16.7000        S    G  False\n",
       "11          1       1  female  58.0  26.5500        S    C   True\n",
       "..        ...     ...     ...   ...      ...      ...  ...    ...\n",
       "871         1       1  female  47.0  52.5542        S    D  False\n",
       "872         0       1    male  33.0   5.0000        S    B   True\n",
       "879         1       1  female  56.0  83.1583        C    C  False\n",
       "887         1       1  female  19.0  30.0000        S    B   True\n",
       "889         1       1    male  26.0  30.0000        C    C   True\n",
       "\n",
       "[182 rows x 8 columns]"
      ]
     },
     "execution_count": 38,
     "metadata": {},
     "output_type": "execute_result"
    }
   ],
   "source": [
    "# 결측치를 확인합니다.\n",
    "df.isnull().sum()\n",
    "df.dropna()"
   ]
  },
  {
   "cell_type": "code",
   "execution_count": 41,
   "id": "582f2446",
   "metadata": {
    "colab": {
     "base_uri": "https://localhost:8080/"
    },
    "executionInfo": {
     "elapsed": 555,
     "status": "ok",
     "timestamp": 1710136151794,
     "user": {
      "displayName": "진솔한",
      "userId": "01586898740165969853"
     },
     "user_tz": -540
    },
    "id": "582f2446",
    "outputId": "d9f5d36c-c4e5-491b-d84f-46e4b3268629",
    "scrolled": false
   },
   "outputs": [
    {
     "data": {
      "text/plain": [
       "survived    0\n",
       "pclass      0\n",
       "sex         0\n",
       "age         0\n",
       "fare        0\n",
       "embarked    0\n",
       "alone       0\n",
       "dtype: int64"
      ]
     },
     "execution_count": 41,
     "metadata": {},
     "output_type": "execute_result"
    }
   ],
   "source": [
    "# deck 변수는 대부분이 결측치이므로 삭제합니다.\n",
    "df.drop(columns = 'deck', inplace = True)\n",
    "\n",
    "from sklearn.impute import SimpleImputer\n",
    "\n",
    "# age 변수의 결측치는 나이의 평균값으로 대체합니다.\n",
    "imputer = SimpleImputer(strategy = 'mean')\n",
    "age_column = df[\"age\"].values.reshape(-1, 1)\n",
    "df[\"age\"] = imputer.fit_transform(age_column)\n",
    "\n",
    "# embarked 변수의 결측치는 탑승지의 최빈값으로 대체합니다.\n",
    "imputer = SimpleImputer(strategy = 'most_frequent')\n",
    "embarked_column = df[\"embarked\"].values.reshape(-1, 1)\n",
    "df[\"embarked\"] = imputer.fit_transform(embarked_column)\n",
    "\n",
    "df.isnull().sum()"
   ]
  },
  {
   "cell_type": "markdown",
   "id": "4b502306",
   "metadata": {
    "id": "4b502306"
   },
   "source": [
    "### [문제 2.2] Label Encoding (4점)"
   ]
  },
  {
   "cell_type": "markdown",
   "id": "IaAQMYZ3_JWC",
   "metadata": {
    "id": "IaAQMYZ3_JWC"
   },
   "source": [
    "속성값이 2개인 Categorical 변수에 관하여 모델이 학습하기 용이하도록 Label Encoding을 수행합니다."
   ]
  },
  {
   "cell_type": "code",
   "execution_count": 42,
   "id": "9133910b",
   "metadata": {
    "colab": {
     "base_uri": "https://localhost:8080/",
     "height": 206
    },
    "executionInfo": {
     "elapsed": 557,
     "status": "ok",
     "timestamp": 1710136205695,
     "user": {
      "displayName": "진솔한",
      "userId": "01586898740165969853"
     },
     "user_tz": -540
    },
    "id": "9133910b",
    "outputId": "a6f3c4b9-6ec6-479c-d2a3-aeb96009ef61"
   },
   "outputs": [
    {
     "data": {
      "text/html": [
       "<div>\n",
       "<style scoped>\n",
       "    .dataframe tbody tr th:only-of-type {\n",
       "        vertical-align: middle;\n",
       "    }\n",
       "\n",
       "    .dataframe tbody tr th {\n",
       "        vertical-align: top;\n",
       "    }\n",
       "\n",
       "    .dataframe thead th {\n",
       "        text-align: right;\n",
       "    }\n",
       "</style>\n",
       "<table border=\"1\" class=\"dataframe\">\n",
       "  <thead>\n",
       "    <tr style=\"text-align: right;\">\n",
       "      <th></th>\n",
       "      <th>survived</th>\n",
       "      <th>pclass</th>\n",
       "      <th>sex</th>\n",
       "      <th>age</th>\n",
       "      <th>fare</th>\n",
       "      <th>embarked</th>\n",
       "      <th>alone</th>\n",
       "    </tr>\n",
       "  </thead>\n",
       "  <tbody>\n",
       "    <tr>\n",
       "      <th>0</th>\n",
       "      <td>0</td>\n",
       "      <td>3</td>\n",
       "      <td>1</td>\n",
       "      <td>22.0</td>\n",
       "      <td>7.2500</td>\n",
       "      <td>S</td>\n",
       "      <td>0</td>\n",
       "    </tr>\n",
       "    <tr>\n",
       "      <th>1</th>\n",
       "      <td>1</td>\n",
       "      <td>1</td>\n",
       "      <td>0</td>\n",
       "      <td>38.0</td>\n",
       "      <td>71.2833</td>\n",
       "      <td>C</td>\n",
       "      <td>0</td>\n",
       "    </tr>\n",
       "    <tr>\n",
       "      <th>2</th>\n",
       "      <td>1</td>\n",
       "      <td>3</td>\n",
       "      <td>0</td>\n",
       "      <td>26.0</td>\n",
       "      <td>7.9250</td>\n",
       "      <td>S</td>\n",
       "      <td>1</td>\n",
       "    </tr>\n",
       "    <tr>\n",
       "      <th>3</th>\n",
       "      <td>1</td>\n",
       "      <td>1</td>\n",
       "      <td>0</td>\n",
       "      <td>35.0</td>\n",
       "      <td>53.1000</td>\n",
       "      <td>S</td>\n",
       "      <td>0</td>\n",
       "    </tr>\n",
       "    <tr>\n",
       "      <th>4</th>\n",
       "      <td>0</td>\n",
       "      <td>3</td>\n",
       "      <td>1</td>\n",
       "      <td>35.0</td>\n",
       "      <td>8.0500</td>\n",
       "      <td>S</td>\n",
       "      <td>1</td>\n",
       "    </tr>\n",
       "  </tbody>\n",
       "</table>\n",
       "</div>"
      ],
      "text/plain": [
       "   survived  pclass  sex   age     fare embarked  alone\n",
       "0         0       3    1  22.0   7.2500        S      0\n",
       "1         1       1    0  38.0  71.2833        C      0\n",
       "2         1       3    0  26.0   7.9250        S      1\n",
       "3         1       1    0  35.0  53.1000        S      0\n",
       "4         0       3    1  35.0   8.0500        S      1"
      ]
     },
     "execution_count": 42,
     "metadata": {},
     "output_type": "execute_result"
    }
   ],
   "source": [
    "from sklearn.preprocessing import LabelEncoder\n",
    "\n",
    "# LabelEncoder 객체를 생성합니다.\n",
    "le = LabelEncoder()\n",
    "\n",
    "# sex와 alone 열을 각 속성값을 기준으로 Label Encoding 합니다.\n",
    "for feature in [\"sex\", \"alone\"] :\n",
    "    df[feature] = le.fit_transform(df[feature])\n",
    "\n",
    "df.head()"
   ]
  },
  {
   "cell_type": "markdown",
   "id": "c5763821",
   "metadata": {
    "id": "c5763821"
   },
   "source": [
    "### [문제 2.3] One-Hot Encoding (4점)"
   ]
  },
  {
   "cell_type": "markdown",
   "id": "t9EqsTL6_mL2",
   "metadata": {
    "id": "t9EqsTL6_mL2"
   },
   "source": [
    "속성값이 3개 이상인 Categorical 변수에 관하여 모델이 학습하기 용이하도록 One-Hot Encoding을 수행합니다."
   ]
  },
  {
   "cell_type": "code",
   "execution_count": 43,
   "id": "qSXJ38zj6BRD",
   "metadata": {
    "colab": {
     "base_uri": "https://localhost:8080/"
    },
    "executionInfo": {
     "elapsed": 547,
     "status": "ok",
     "timestamp": 1710136234469,
     "user": {
      "displayName": "진솔한",
      "userId": "01586898740165969853"
     },
     "user_tz": -540
    },
    "id": "qSXJ38zj6BRD",
    "outputId": "a7ba43c5-f31d-4160-f049-d3f59fea108c"
   },
   "outputs": [
    {
     "data": {
      "text/plain": [
       "array([[0., 0., 1., 0., 0., 1.],\n",
       "       [1., 0., 0., 1., 0., 0.],\n",
       "       [0., 0., 1., 0., 0., 1.],\n",
       "       ...,\n",
       "       [0., 0., 1., 0., 0., 1.],\n",
       "       [1., 0., 0., 1., 0., 0.],\n",
       "       [0., 0., 1., 0., 1., 0.]])"
      ]
     },
     "execution_count": 43,
     "metadata": {},
     "output_type": "execute_result"
    }
   ],
   "source": [
    "from sklearn.preprocessing import OneHotEncoder\n",
    "\n",
    "# OneHotEncoder 객체를 생성합니다.\n",
    "encoder = OneHotEncoder(sparse_output=False)\n",
    "\n",
    "# pclass와 embarked 열을 각 속성값을 기준으로 One-Hot Encoding 합니다.\n",
    "encoded_data = encoder.fit_transform(df[[\"pclass\",'embarked']])\n",
    "encoded_data"
   ]
  },
  {
   "cell_type": "markdown",
   "id": "78S5AZa36DV8",
   "metadata": {
    "id": "78S5AZa36DV8"
   },
   "source": [
    "scikit learn의 OneHotEncoder를 이용하면 array 형식으로 반환되기 때문에 output을 다시 원 데이터프레임과 합쳐줘야 하는 번거로움이 있습니다. 따라서, One-hot-encoding 하려는 변수가 명목 변수(categorical variable)인 경우 pandas의 get_dummies() 함수를 사용하는 것이 편리합니다."
   ]
  },
  {
   "cell_type": "code",
   "execution_count": 44,
   "id": "fd9ac343",
   "metadata": {
    "colab": {
     "base_uri": "https://localhost:8080/",
     "height": 263
    },
    "executionInfo": {
     "elapsed": 4,
     "status": "ok",
     "timestamp": 1710136247882,
     "user": {
      "displayName": "진솔한",
      "userId": "01586898740165969853"
     },
     "user_tz": -540
    },
    "id": "fd9ac343",
    "outputId": "2516e0a2-9baf-4c3c-e230-b5f479e9c876"
   },
   "outputs": [
    {
     "name": "stderr",
     "output_type": "stream",
     "text": [
      "C:\\Users\\Public\\Documents\\ESTsoft\\CreatorTemp\\ipykernel_22816\\2719403800.py:3: FutureWarning: In a future version, `df.iloc[:, i] = newvals` will attempt to set the values inplace instead of always setting a new array. To retain the old behavior, use either `df[df.columns[i]] = newvals` or, if columns are non-unique, `df.isetitem(i, newvals)`\n",
      "  df.iloc[:, 5:] = df.iloc[:, 5:].astype('int')\n"
     ]
    },
    {
     "data": {
      "text/html": [
       "<div>\n",
       "<style scoped>\n",
       "    .dataframe tbody tr th:only-of-type {\n",
       "        vertical-align: middle;\n",
       "    }\n",
       "\n",
       "    .dataframe tbody tr th {\n",
       "        vertical-align: top;\n",
       "    }\n",
       "\n",
       "    .dataframe thead th {\n",
       "        text-align: right;\n",
       "    }\n",
       "</style>\n",
       "<table border=\"1\" class=\"dataframe\">\n",
       "  <thead>\n",
       "    <tr style=\"text-align: right;\">\n",
       "      <th></th>\n",
       "      <th>survived</th>\n",
       "      <th>sex</th>\n",
       "      <th>age</th>\n",
       "      <th>fare</th>\n",
       "      <th>alone</th>\n",
       "      <th>pclass_1</th>\n",
       "      <th>pclass_2</th>\n",
       "      <th>pclass_3</th>\n",
       "      <th>embarked_C</th>\n",
       "      <th>embarked_Q</th>\n",
       "      <th>embarked_S</th>\n",
       "    </tr>\n",
       "  </thead>\n",
       "  <tbody>\n",
       "    <tr>\n",
       "      <th>0</th>\n",
       "      <td>0</td>\n",
       "      <td>1</td>\n",
       "      <td>22.0</td>\n",
       "      <td>7.2500</td>\n",
       "      <td>0</td>\n",
       "      <td>0</td>\n",
       "      <td>0</td>\n",
       "      <td>1</td>\n",
       "      <td>0</td>\n",
       "      <td>0</td>\n",
       "      <td>1</td>\n",
       "    </tr>\n",
       "    <tr>\n",
       "      <th>1</th>\n",
       "      <td>1</td>\n",
       "      <td>0</td>\n",
       "      <td>38.0</td>\n",
       "      <td>71.2833</td>\n",
       "      <td>0</td>\n",
       "      <td>1</td>\n",
       "      <td>0</td>\n",
       "      <td>0</td>\n",
       "      <td>1</td>\n",
       "      <td>0</td>\n",
       "      <td>0</td>\n",
       "    </tr>\n",
       "    <tr>\n",
       "      <th>2</th>\n",
       "      <td>1</td>\n",
       "      <td>0</td>\n",
       "      <td>26.0</td>\n",
       "      <td>7.9250</td>\n",
       "      <td>1</td>\n",
       "      <td>0</td>\n",
       "      <td>0</td>\n",
       "      <td>1</td>\n",
       "      <td>0</td>\n",
       "      <td>0</td>\n",
       "      <td>1</td>\n",
       "    </tr>\n",
       "    <tr>\n",
       "      <th>3</th>\n",
       "      <td>1</td>\n",
       "      <td>0</td>\n",
       "      <td>35.0</td>\n",
       "      <td>53.1000</td>\n",
       "      <td>0</td>\n",
       "      <td>1</td>\n",
       "      <td>0</td>\n",
       "      <td>0</td>\n",
       "      <td>0</td>\n",
       "      <td>0</td>\n",
       "      <td>1</td>\n",
       "    </tr>\n",
       "    <tr>\n",
       "      <th>4</th>\n",
       "      <td>0</td>\n",
       "      <td>1</td>\n",
       "      <td>35.0</td>\n",
       "      <td>8.0500</td>\n",
       "      <td>1</td>\n",
       "      <td>0</td>\n",
       "      <td>0</td>\n",
       "      <td>1</td>\n",
       "      <td>0</td>\n",
       "      <td>0</td>\n",
       "      <td>1</td>\n",
       "    </tr>\n",
       "  </tbody>\n",
       "</table>\n",
       "</div>"
      ],
      "text/plain": [
       "   survived  sex   age     fare  alone  pclass_1  pclass_2  pclass_3  \\\n",
       "0         0    1  22.0   7.2500      0         0         0         1   \n",
       "1         1    0  38.0  71.2833      0         1         0         0   \n",
       "2         1    0  26.0   7.9250      1         0         0         1   \n",
       "3         1    0  35.0  53.1000      0         1         0         0   \n",
       "4         0    1  35.0   8.0500      1         0         0         1   \n",
       "\n",
       "   embarked_C  embarked_Q  embarked_S  \n",
       "0           0           0           1  \n",
       "1           1           0           0  \n",
       "2           0           0           1  \n",
       "3           0           0           1  \n",
       "4           0           0           1  "
      ]
     },
     "execution_count": 44,
     "metadata": {},
     "output_type": "execute_result"
    }
   ],
   "source": [
    "# pandas의 get_dummies() 메서드를 이용해 pclass와 embarked열 One-Hot Encoding\n",
    "df = pd.get_dummies(df,columns=[\"pclass\",\"embarked\"])\n",
    "df.iloc[:, 5:] = df.iloc[:, 5:].astype('int')\n",
    "\n",
    "df.head()"
   ]
  },
  {
   "cell_type": "markdown",
   "id": "e6067b56",
   "metadata": {
    "id": "e6067b56"
   },
   "source": [
    "### [문제 2.4] Standardization (4점)"
   ]
  },
  {
   "cell_type": "markdown",
   "id": "686LyQxN_1J5",
   "metadata": {
    "id": "686LyQxN_1J5"
   },
   "source": [
    "서로 다른 scale을 가지는 수치형 변수에 관하여 Standardization을 진행합니다."
   ]
  },
  {
   "cell_type": "code",
   "execution_count": 45,
   "id": "489d3bf6",
   "metadata": {
    "colab": {
     "base_uri": "https://localhost:8080/",
     "height": 206
    },
    "executionInfo": {
     "elapsed": 4,
     "status": "ok",
     "timestamp": 1710136270899,
     "user": {
      "displayName": "진솔한",
      "userId": "01586898740165969853"
     },
     "user_tz": -540
    },
    "id": "489d3bf6",
    "outputId": "7be29c0a-4d91-4aed-acad-d2a81e53327c"
   },
   "outputs": [
    {
     "data": {
      "text/html": [
       "<div>\n",
       "<style scoped>\n",
       "    .dataframe tbody tr th:only-of-type {\n",
       "        vertical-align: middle;\n",
       "    }\n",
       "\n",
       "    .dataframe tbody tr th {\n",
       "        vertical-align: top;\n",
       "    }\n",
       "\n",
       "    .dataframe thead th {\n",
       "        text-align: right;\n",
       "    }\n",
       "</style>\n",
       "<table border=\"1\" class=\"dataframe\">\n",
       "  <thead>\n",
       "    <tr style=\"text-align: right;\">\n",
       "      <th></th>\n",
       "      <th>survived</th>\n",
       "      <th>sex</th>\n",
       "      <th>age</th>\n",
       "      <th>fare</th>\n",
       "      <th>alone</th>\n",
       "      <th>pclass_1</th>\n",
       "      <th>pclass_2</th>\n",
       "      <th>pclass_3</th>\n",
       "      <th>embarked_C</th>\n",
       "      <th>embarked_Q</th>\n",
       "      <th>embarked_S</th>\n",
       "    </tr>\n",
       "  </thead>\n",
       "  <tbody>\n",
       "    <tr>\n",
       "      <th>0</th>\n",
       "      <td>0</td>\n",
       "      <td>1</td>\n",
       "      <td>-0.592481</td>\n",
       "      <td>-0.502445</td>\n",
       "      <td>0</td>\n",
       "      <td>0</td>\n",
       "      <td>0</td>\n",
       "      <td>1</td>\n",
       "      <td>0</td>\n",
       "      <td>0</td>\n",
       "      <td>1</td>\n",
       "    </tr>\n",
       "    <tr>\n",
       "      <th>1</th>\n",
       "      <td>1</td>\n",
       "      <td>0</td>\n",
       "      <td>0.638789</td>\n",
       "      <td>0.786845</td>\n",
       "      <td>0</td>\n",
       "      <td>1</td>\n",
       "      <td>0</td>\n",
       "      <td>0</td>\n",
       "      <td>1</td>\n",
       "      <td>0</td>\n",
       "      <td>0</td>\n",
       "    </tr>\n",
       "    <tr>\n",
       "      <th>2</th>\n",
       "      <td>1</td>\n",
       "      <td>0</td>\n",
       "      <td>-0.284663</td>\n",
       "      <td>-0.488854</td>\n",
       "      <td>1</td>\n",
       "      <td>0</td>\n",
       "      <td>0</td>\n",
       "      <td>1</td>\n",
       "      <td>0</td>\n",
       "      <td>0</td>\n",
       "      <td>1</td>\n",
       "    </tr>\n",
       "    <tr>\n",
       "      <th>3</th>\n",
       "      <td>1</td>\n",
       "      <td>0</td>\n",
       "      <td>0.407926</td>\n",
       "      <td>0.420730</td>\n",
       "      <td>0</td>\n",
       "      <td>1</td>\n",
       "      <td>0</td>\n",
       "      <td>0</td>\n",
       "      <td>0</td>\n",
       "      <td>0</td>\n",
       "      <td>1</td>\n",
       "    </tr>\n",
       "    <tr>\n",
       "      <th>4</th>\n",
       "      <td>0</td>\n",
       "      <td>1</td>\n",
       "      <td>0.407926</td>\n",
       "      <td>-0.486337</td>\n",
       "      <td>1</td>\n",
       "      <td>0</td>\n",
       "      <td>0</td>\n",
       "      <td>1</td>\n",
       "      <td>0</td>\n",
       "      <td>0</td>\n",
       "      <td>1</td>\n",
       "    </tr>\n",
       "  </tbody>\n",
       "</table>\n",
       "</div>"
      ],
      "text/plain": [
       "   survived  sex       age      fare  alone  pclass_1  pclass_2  pclass_3  \\\n",
       "0         0    1 -0.592481 -0.502445      0         0         0         1   \n",
       "1         1    0  0.638789  0.786845      0         1         0         0   \n",
       "2         1    0 -0.284663 -0.488854      1         0         0         1   \n",
       "3         1    0  0.407926  0.420730      0         1         0         0   \n",
       "4         0    1  0.407926 -0.486337      1         0         0         1   \n",
       "\n",
       "   embarked_C  embarked_Q  embarked_S  \n",
       "0           0           0           1  \n",
       "1           1           0           0  \n",
       "2           0           0           1  \n",
       "3           0           0           1  \n",
       "4           0           0           1  "
      ]
     },
     "execution_count": 45,
     "metadata": {},
     "output_type": "execute_result"
    }
   ],
   "source": [
    "from sklearn.preprocessing import StandardScaler\n",
    "\n",
    "# StandardScaler 객체를 생성합니다.\n",
    "scaler = StandardScaler()\n",
    "\n",
    "# age와 fare 열을 표준화합니다.\n",
    "for feature in [\"age\", \"fare\"] :\n",
    "    df[feature] = scaler.fit_transform(df[[feature]])\n",
    "\n",
    "df.head()"
   ]
  },
  {
   "cell_type": "markdown",
   "id": "a2f05c80",
   "metadata": {
    "id": "a2f05c80"
   },
   "source": [
    "### [문제 2.5] Train-Test Split (5점)"
   ]
  },
  {
   "cell_type": "markdown",
   "id": "9oIi2GOs_9Hs",
   "metadata": {
    "id": "9oIi2GOs_9Hs"
   },
   "source": [
    "모델이 학습할 train data와 예측을 수행할 test data를 분리합니다."
   ]
  },
  {
   "cell_type": "code",
   "execution_count": 46,
   "id": "cb8b099d",
   "metadata": {
    "colab": {
     "base_uri": "https://localhost:8080/"
    },
    "executionInfo": {
     "elapsed": 526,
     "status": "ok",
     "timestamp": 1710136295591,
     "user": {
      "displayName": "진솔한",
      "userId": "01586898740165969853"
     },
     "user_tz": -540
    },
    "id": "cb8b099d",
    "outputId": "e28d8c57-19a2-48e1-b3fc-991c0d58a520"
   },
   "outputs": [
    {
     "name": "stdout",
     "output_type": "stream",
     "text": [
      "(712, 10) (179, 10) (712,) (179,)\n"
     ]
    }
   ],
   "source": [
    "from sklearn.model_selection import train_test_split\n",
    "\n",
    "# Target column은 survived입니다.\n",
    "X = df.drop(\"survived\", axis = 1)\n",
    "y = df[\"survived\"]\n",
    "\n",
    "# train data size가 test data size의 4배가 되도록 설정하고 random state는 42로 고정합니다.\n",
    "X_train, X_test, y_train, y_test = train_test_split(X,y,test_size=0.2, random_state=42)\n",
    "\n",
    "print(X_train.shape, X_test.shape, y_train.shape, y_test.shape)"
   ]
  },
  {
   "cell_type": "markdown",
   "id": "469df566",
   "metadata": {
    "id": "469df566"
   },
   "source": [
    "### [문제 2.6] Modeling (4점)"
   ]
  },
  {
   "cell_type": "markdown",
   "id": "SpRmi4kQyxa6",
   "metadata": {
    "id": "SpRmi4kQyxa6"
   },
   "source": [
    "다양한 ML 분류 모델을 사용할 수 있지만 본 예제에서는 다수의 결정 트리로 구성된 앙상블 모델인 Random Forest 모델을 사용합니다."
   ]
  },
  {
   "cell_type": "code",
   "execution_count": 48,
   "id": "973510fd",
   "metadata": {
    "colab": {
     "base_uri": "https://localhost:8080/"
    },
    "executionInfo": {
     "elapsed": 3,
     "status": "ok",
     "timestamp": 1710136353600,
     "user": {
      "displayName": "진솔한",
      "userId": "01586898740165969853"
     },
     "user_tz": -540
    },
    "id": "973510fd",
    "outputId": "290dae4c-cb4e-4e4d-dc04-5672a86c62ae"
   },
   "outputs": [
    {
     "name": "stdout",
     "output_type": "stream",
     "text": [
      "     survived\n",
      "0           0\n",
      "1           0\n",
      "2           0\n",
      "3           1\n",
      "4           0\n",
      "..        ...\n",
      "174         0\n",
      "175         0\n",
      "176         0\n",
      "177         1\n",
      "178         1\n",
      "\n",
      "[179 rows x 1 columns]\n",
      "총 179명 중 79.89% 정확도로 생존을 예측함\n"
     ]
    }
   ],
   "source": [
    "from sklearn.ensemble import RandomForestClassifier\n",
    "from sklearn import metrics\n",
    "\n",
    "# RandomForestClassifier 모델 객체를 생성합니다.\n",
    "model = RandomForestClassifier()\n",
    "\n",
    "# Train data를 모델에 학습시킵니다. 모델은 array 형식을 입력으로 받으므로 .values 메서드를 통해 데이터프레임을 array로 변환하여 학습합니다.\n",
    "model.fit(X_train.values, y_train.values)\n",
    "\n",
    "# Test data로 예측을 수행합니다.\n",
    "prediction = model.predict(X_test.values)\n",
    "\n",
    "print(pd.DataFrame(prediction, columns = ['survived']))\n",
    "print(f'총 {y_test.shape[0]}명 중 {round(100 * metrics.accuracy_score(prediction, y_test), 2)}% 정확도로 생존을 예측함')"
   ]
  },
  {
   "cell_type": "markdown",
   "id": "8b400606",
   "metadata": {
    "id": "8b400606"
   },
   "source": [
    "### [문제 2.7] GridSearch (5점)"
   ]
  },
  {
   "cell_type": "markdown",
   "id": "azl1TOsF-7y8",
   "metadata": {
    "id": "azl1TOsF-7y8"
   },
   "source": [
    "GridSearch를 이용해 모델의 최적 하이퍼파라미터를 찾고 예측 정확도가 개선되었는지 확인합니다."
   ]
  },
  {
   "cell_type": "code",
   "execution_count": 49,
   "id": "1aab42ce",
   "metadata": {
    "colab": {
     "base_uri": "https://localhost:8080/"
    },
    "executionInfo": {
     "elapsed": 80122,
     "status": "ok",
     "timestamp": 1710136502191,
     "user": {
      "displayName": "진솔한",
      "userId": "01586898740165969853"
     },
     "user_tz": -540
    },
    "id": "1aab42ce",
    "outputId": "9ece51c0-6e57-4bd0-c1ef-94bdd7e5cb80"
   },
   "outputs": [
    {
     "name": "stdout",
     "output_type": "stream",
     "text": [
      "최적 하이퍼파라미터: {'max_depth': 10, 'min_samples_leaf': 2, 'min_samples_split': 10, 'n_estimators': 50}\n",
      "총 179명 중 82.12% 정확도로 생존을 예측함\n"
     ]
    }
   ],
   "source": [
    "from sklearn.model_selection import GridSearchCV\n",
    "\n",
    "# 탐색할 하이퍼파라미터 딕셔너리를 생성합니다.\n",
    "param_grid = {\n",
    "    'n_estimators': [50, 100, 150],\n",
    "    'max_depth': [None, 10, 20],\n",
    "    'min_samples_split': [2, 5, 10],\n",
    "    'min_samples_leaf': [1, 2, 4]\n",
    "}\n",
    "\n",
    "# GridSearchCV 객체를 생성합니다. 교차 검증 fold수는 5로, 평가 지표는 accuracy로 설정합니다.\n",
    "grid_search = GridSearchCV(estimator=RandomForestClassifier(),param_grid=param_grid,cv=5, scoring='accuracy')\n",
    "\n",
    "# 모델을 훈련하고 최적 하이퍼파라미터를 탐색합니다.\n",
    "grid_search.fit(X_train.values,y_train.values)\n",
    "\n",
    "print(\"최적 하이퍼파라미터:\", grid_search.best_params_)\n",
    "\n",
    "# 최적 모델을 저장합니다.\n",
    "best_model = grid_search.best_estimator_\n",
    "\n",
    "# 테스트 데이터에 대한 예측 및 정확도 출력\n",
    "prediction = best_model.predict(X_test.values)\n",
    "\n",
    "print(f'총 {y_test.shape[0]}명 중 {round(100 * metrics.accuracy_score(prediction, y_test), 2)}% 정확도로 생존을 예측함')"
   ]
  },
  {
   "cell_type": "code",
   "execution_count": null,
   "id": "ad501b7e",
   "metadata": {},
   "outputs": [],
   "source": []
  }
 ],
 "metadata": {
  "kernelspec": {
   "display_name": "Python 3.10.7 64-bit",
   "language": "python",
   "name": "python3"
  },
  "language_info": {
   "codemirror_mode": {
    "name": "ipython",
    "version": 3
   },
   "file_extension": ".py",
   "mimetype": "text/x-python",
   "name": "python",
   "nbconvert_exporter": "python",
   "pygments_lexer": "ipython3",
   "version": "3.10.7"
  },
  "vscode": {
   "interpreter": {
    "hash": "e726dfcfd2aa7c89c8dbc4c560c1e1f3c16eb0fa359096469343a30c0228cb32"
   }
  }
 },
 "nbformat": 4,
 "nbformat_minor": 5
}
