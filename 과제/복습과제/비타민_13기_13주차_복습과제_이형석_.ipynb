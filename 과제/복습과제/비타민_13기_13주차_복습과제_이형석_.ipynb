{
  "cells": [
    {
      "cell_type": "markdown",
      "metadata": {
        "id": "y5gHDYpsMR2i"
      },
      "source": [
        "## 2조"
      ]
    },
    {
      "cell_type": "markdown",
      "metadata": {
        "id": "ith7oaXgY3tF"
      },
      "source": [
        "### Q1. 다차원 배열의 계산(6점)\n",
        "  - 발표자료 13p의 내용을 참고하여 활성화 함수가 ReLU이고, $h_1 = g(-0.6x_1 + 0.4x_2 - 40)$, $h_2 = g(0.7x_1 - 0.3x_2 - 30)$, $o = g(120h_1 + 80h_2 - 90)$ 일 때 $h_1, h_2, o$를 구하는 코드를 구현하세요."
      ]
    },
    {
      "cell_type": "code",
      "execution_count": 2,
      "metadata": {
        "colab": {
          "base_uri": "https://localhost:8080/"
        },
        "id": "Wsec5U-oX8vc",
        "outputId": "0d4d9674-dd7d-4e3d-d69f-173f30ebfbc5"
      },
      "outputs": [
        {
          "name": "stdout",
          "output_type": "stream",
          "text": [
            "h1: [[ 0.   0.   0.  ...  0.   0.   0. ]\n",
            " [ 0.   0.   0.  ...  0.   0.   0. ]\n",
            " [ 0.   0.   0.  ...  0.   0.   0. ]\n",
            " ...\n",
            " [58.8 58.2 57.6 ...  0.   0.   0. ]\n",
            " [59.2 58.6 58.  ...  0.   0.   0. ]\n",
            " [59.6 59.  58.4 ...  0.   0.   0. ]]\n",
            "h2: [[ 0.   0.   0.  ... 67.9 68.6 69.3]\n",
            " [ 0.   0.   0.  ... 67.6 68.3 69. ]\n",
            " [ 0.   0.   0.  ... 67.3 68.  68.7]\n",
            " ...\n",
            " [ 0.   0.   0.  ...  8.8  9.5 10.2]\n",
            " [ 0.   0.   0.  ...  8.5  9.2  9.9]\n",
            " [ 0.   0.   0.  ...  8.2  8.9  9.6]]\n",
            "o: [[   0.    0.    0. ... 5342. 5398. 5454.]\n",
            " [   0.    0.    0. ... 5318. 5374. 5430.]\n",
            " [   0.    0.    0. ... 5294. 5350. 5406.]\n",
            " ...\n",
            " [6966. 6894. 6822. ...  614.  670.  726.]\n",
            " [7014. 6942. 6870. ...  590.  646.  702.]\n",
            " [7062. 6990. 6918. ...  566.  622.  678.]]\n"
          ]
        }
      ],
      "source": [
        "import numpy as np\n",
        "\n",
        "# 변수 설정\n",
        "x1 = np.arange(-100, 100, 1)\n",
        "x2 = np.arange(-100, 100, 1)\n",
        "x1, x2 = np.meshgrid(x1, x2)\n",
        "\n",
        "def relu(x):\n",
        "    return np.maximum(0, x)\n",
        "h1 = relu(-0.6 * x1 + 0.4 * x2 - 40)\n",
        "h2 = relu(0.7 * x1 - 0.3 * x2 - 30)\n",
        "o = relu(120 * h1 + 80 * h2 - 90)\n",
        "\n",
        "# 결과 출력\n",
        "print(\"h1:\", h1)\n",
        "print(\"h2:\", h2)\n",
        "print(\"o:\", o)"
      ]
    },
    {
      "cell_type": "markdown",
      "metadata": {
        "id": "6BJTESoMb5ga"
      },
      "source": [
        "### Q2. MNIST 데이터셋을 활용한 신경망 모델 학습 (20점)"
      ]
    },
    {
      "cell_type": "markdown",
      "metadata": {
        "id": "vtOksVbEiDQn"
      },
      "source": [
        "2-1) 2점\n",
        "- torchvision 라이브러리를 사용하여 MNIST 데이터셋을 불러오세요."
      ]
    },
    {
      "cell_type": "code",
      "execution_count": 3,
      "metadata": {
        "id": "Dq7BBERriSyf"
      },
      "outputs": [],
      "source": [
        "from torchvision.datasets import MNIST\n",
        "import torchvision.transforms as transforms\n",
        "\n",
        "# MNIST 데이터셋 다운로드 및 로드\n",
        "train_data = MNIST(root='./datasets/', train=True, transform=transforms.ToTensor(), download=True)\n",
        "test_data = MNIST(root='./datasets/', train=False, transform=transforms.ToTensor(), download=True)"
      ]
    },
    {
      "cell_type": "markdown",
      "metadata": {
        "id": "qh3Ko2RSif6f"
      },
      "source": [
        "2-2) 2점\n",
        "- torch.utils.data.DataLoader를 사용하여 데이터 로더를 생성하세요. 배치 크기는 128로 설정하세요."
      ]
    },
    {
      "cell_type": "code",
      "execution_count": 4,
      "metadata": {
        "colab": {
          "base_uri": "https://localhost:8080/"
        },
        "id": "MIaf6uCBiT88",
        "outputId": "74de2373-b0d5-4ad6-f38b-b7fccc8cf11a"
      },
      "outputs": [],
      "source": [
        "from torch.utils.data import DataLoader\n",
        "\n",
        "# 데이터 로더 생성\n",
        "train_loader = DataLoader(dataset=train_data, batch_size=128, shuffle=True, num_workers=4)\n",
        "test_loader = DataLoader(dataset=test_data, batch_size=128, shuffle=False, num_workers=4)"
      ]
    },
    {
      "cell_type": "markdown",
      "metadata": {
        "id": "3VRff6ctipCY"
      },
      "source": [
        "2-3) 5점\n",
        "- MNIST 데이터를 위한 간단한 신경망 모델을 구현하세요."
      ]
    },
    {
      "cell_type": "code",
      "execution_count": 5,
      "metadata": {
        "id": "nEDl23_xiwL8"
      },
      "outputs": [],
      "source": [
        "import torch.nn as nn\n",
        "import torch.nn.functional as F\n",
        "\n",
        "# 신경망 모델 정의\n",
        "class MNISTModel(nn.Module):\n",
        "    def __init__(self):\n",
        "        super(MNISTModel, self).__init__()\n",
        "        self.fc1 = nn.Linear(28*28, 128)\n",
        "        self.fc2 = nn.Linear(128, 64)\n",
        "        self.fc3 = nn.Linear(64, 10)\n",
        "\n",
        "    def forward(self, x):\n",
        "        x = x.view(-1, 28*28)\n",
        "        x = F.relu(self.fc1(x))  # 첫 번째 완전 연결층에 ReLU 활성화 함수 적용\n",
        "        x = F.relu(self.fc2(x))  # 두 번째 완전 연결층에 ReLU 활성화 함수 적용\n",
        "        x = F.log_softmax(self.fc3(x), dim=1)  # 출력층에 소프트맥스 활성화 함수 적용\n",
        "        return x\n",
        "\n",
        "model = MNISTModel()"
      ]
    },
    {
      "cell_type": "markdown",
      "metadata": {
        "id": "3yImKQnoizea"
      },
      "source": [
        "2-4) 3점\n",
        "- 손실 함수와 최적손실 함수와 최적화 기법을 설정하세요."
      ]
    },
    {
      "cell_type": "code",
      "execution_count": 6,
      "metadata": {
        "id": "MZlZDjVUi9nd"
      },
      "outputs": [],
      "source": [
        "import torch.optim as optim\n",
        "\n",
        "# 손실 함수와 최적화 기법 설정\n",
        "criterion = nn.CrossEntropyLoss()\n",
        "optimizer = optim.Adam(model.parameters(), lr=0.001)"
      ]
    },
    {
      "cell_type": "markdown",
      "metadata": {
        "id": "-1n3zYqOjP_X"
      },
      "source": [
        "2-5) 4점\n",
        "- 에포크 당 손실을 출력하는 모델 학습 루프를 구성하세요."
      ]
    },
    {
      "cell_type": "code",
      "execution_count": 7,
      "metadata": {
        "colab": {
          "base_uri": "https://localhost:8080/"
        },
        "id": "-xOy4RIejCb6",
        "outputId": "9b8a9734-c83e-4126-eded-b48902238d23"
      },
      "outputs": [
        {
          "ename": "RuntimeError",
          "evalue": "Caught RuntimeError in DataLoader worker process 0.\nOriginal Traceback (most recent call last):\n  File \"c:\\Python312\\Lib\\site-packages\\torch\\utils\\data\\_utils\\worker.py\", line 308, in _worker_loop\n    data = fetcher.fetch(index)  # type: ignore[possibly-undefined]\n           ^^^^^^^^^^^^^^^^^^^^\n  File \"c:\\Python312\\Lib\\site-packages\\torch\\utils\\data\\_utils\\fetch.py\", line 51, in fetch\n    data = [self.dataset[idx] for idx in possibly_batched_index]\n            ~~~~~~~~~~~~^^^^^\n  File \"c:\\Python312\\Lib\\site-packages\\torchvision\\datasets\\mnist.py\", line 143, in __getitem__\n    img = Image.fromarray(img.numpy(), mode=\"L\")\n                          ^^^^^^^^^^^\nRuntimeError: Numpy is not available\n",
          "output_type": "error",
          "traceback": [
            "\u001b[1;31m---------------------------------------------------------------------------\u001b[0m",
            "\u001b[1;31mRuntimeError\u001b[0m                              Traceback (most recent call last)",
            "Cell \u001b[1;32mIn[7], line 14\u001b[0m\n\u001b[0;32m     11\u001b[0m model\u001b[39m.\u001b[39mtrain()\n\u001b[0;32m     12\u001b[0m running_loss \u001b[39m=\u001b[39m \u001b[39m0.0\u001b[39m\n\u001b[1;32m---> 14\u001b[0m \u001b[39mfor\u001b[39;49;00m images, labels \u001b[39min\u001b[39;49;00m train_loader:\n\u001b[0;32m     15\u001b[0m     \u001b[39m# 입력 데이터와 레이블을 선택한 장치로 이동\u001b[39;49;00m\n\u001b[0;32m     16\u001b[0m     images, labels \u001b[39m=\u001b[39;49m images\u001b[39m.\u001b[39;49mto(device), labels\u001b[39m.\u001b[39;49mto(device)\n\u001b[0;32m     18\u001b[0m     \u001b[39m# 기울기 초기화\u001b[39;49;00m\n",
            "File \u001b[1;32mc:\\Python312\\Lib\\site-packages\\torch\\utils\\data\\dataloader.py:631\u001b[0m, in \u001b[0;36m_BaseDataLoaderIter.__next__\u001b[1;34m(self)\u001b[0m\n\u001b[0;32m    628\u001b[0m \u001b[39mif\u001b[39;00m \u001b[39mself\u001b[39m\u001b[39m.\u001b[39m_sampler_iter \u001b[39mis\u001b[39;00m \u001b[39mNone\u001b[39;00m:\n\u001b[0;32m    629\u001b[0m     \u001b[39m# TODO(https://github.com/pytorch/pytorch/issues/76750)\u001b[39;00m\n\u001b[0;32m    630\u001b[0m     \u001b[39mself\u001b[39m\u001b[39m.\u001b[39m_reset()  \u001b[39m# type: ignore[call-arg]\u001b[39;00m\n\u001b[1;32m--> 631\u001b[0m data \u001b[39m=\u001b[39m \u001b[39mself\u001b[39;49m\u001b[39m.\u001b[39;49m_next_data()\n\u001b[0;32m    632\u001b[0m \u001b[39mself\u001b[39m\u001b[39m.\u001b[39m_num_yielded \u001b[39m+\u001b[39m\u001b[39m=\u001b[39m \u001b[39m1\u001b[39m\n\u001b[0;32m    633\u001b[0m \u001b[39mif\u001b[39;00m \u001b[39mself\u001b[39m\u001b[39m.\u001b[39m_dataset_kind \u001b[39m==\u001b[39m _DatasetKind\u001b[39m.\u001b[39mIterable \u001b[39mand\u001b[39;00m \\\n\u001b[0;32m    634\u001b[0m         \u001b[39mself\u001b[39m\u001b[39m.\u001b[39m_IterableDataset_len_called \u001b[39mis\u001b[39;00m \u001b[39mnot\u001b[39;00m \u001b[39mNone\u001b[39;00m \u001b[39mand\u001b[39;00m \\\n\u001b[0;32m    635\u001b[0m         \u001b[39mself\u001b[39m\u001b[39m.\u001b[39m_num_yielded \u001b[39m>\u001b[39m \u001b[39mself\u001b[39m\u001b[39m.\u001b[39m_IterableDataset_len_called:\n",
            "File \u001b[1;32mc:\\Python312\\Lib\\site-packages\\torch\\utils\\data\\dataloader.py:1346\u001b[0m, in \u001b[0;36m_MultiProcessingDataLoaderIter._next_data\u001b[1;34m(self)\u001b[0m\n\u001b[0;32m   1344\u001b[0m \u001b[39melse\u001b[39;00m:\n\u001b[0;32m   1345\u001b[0m     \u001b[39mdel\u001b[39;00m \u001b[39mself\u001b[39m\u001b[39m.\u001b[39m_task_info[idx]\n\u001b[1;32m-> 1346\u001b[0m     \u001b[39mreturn\u001b[39;00m \u001b[39mself\u001b[39;49m\u001b[39m.\u001b[39;49m_process_data(data)\n",
            "File \u001b[1;32mc:\\Python312\\Lib\\site-packages\\torch\\utils\\data\\dataloader.py:1372\u001b[0m, in \u001b[0;36m_MultiProcessingDataLoaderIter._process_data\u001b[1;34m(self, data)\u001b[0m\n\u001b[0;32m   1370\u001b[0m \u001b[39mself\u001b[39m\u001b[39m.\u001b[39m_try_put_index()\n\u001b[0;32m   1371\u001b[0m \u001b[39mif\u001b[39;00m \u001b[39misinstance\u001b[39m(data, ExceptionWrapper):\n\u001b[1;32m-> 1372\u001b[0m     data\u001b[39m.\u001b[39;49mreraise()\n\u001b[0;32m   1373\u001b[0m \u001b[39mreturn\u001b[39;00m data\n",
            "File \u001b[1;32mc:\\Python312\\Lib\\site-packages\\torch\\_utils.py:705\u001b[0m, in \u001b[0;36mExceptionWrapper.reraise\u001b[1;34m(self)\u001b[0m\n\u001b[0;32m    701\u001b[0m \u001b[39mexcept\u001b[39;00m \u001b[39mTypeError\u001b[39;00m:\n\u001b[0;32m    702\u001b[0m     \u001b[39m# If the exception takes multiple arguments, don't try to\u001b[39;00m\n\u001b[0;32m    703\u001b[0m     \u001b[39m# instantiate since we don't know how to\u001b[39;00m\n\u001b[0;32m    704\u001b[0m     \u001b[39mraise\u001b[39;00m \u001b[39mRuntimeError\u001b[39;00m(msg) \u001b[39mfrom\u001b[39;00m \u001b[39mNone\u001b[39;00m\n\u001b[1;32m--> 705\u001b[0m \u001b[39mraise\u001b[39;00m exception\n",
            "\u001b[1;31mRuntimeError\u001b[0m: Caught RuntimeError in DataLoader worker process 0.\nOriginal Traceback (most recent call last):\n  File \"c:\\Python312\\Lib\\site-packages\\torch\\utils\\data\\_utils\\worker.py\", line 308, in _worker_loop\n    data = fetcher.fetch(index)  # type: ignore[possibly-undefined]\n           ^^^^^^^^^^^^^^^^^^^^\n  File \"c:\\Python312\\Lib\\site-packages\\torch\\utils\\data\\_utils\\fetch.py\", line 51, in fetch\n    data = [self.dataset[idx] for idx in possibly_batched_index]\n            ~~~~~~~~~~~~^^^^^\n  File \"c:\\Python312\\Lib\\site-packages\\torchvision\\datasets\\mnist.py\", line 143, in __getitem__\n    img = Image.fromarray(img.numpy(), mode=\"L\")\n                          ^^^^^^^^^^^\nRuntimeError: Numpy is not available\n"
          ]
        }
      ],
      "source": [
        "import torch\n",
        "\n",
        "# 모델 학습 루프\n",
        "num_epochs = 5\n",
        "\n",
        "# CUDA가 가능한지 확인 후, 가능한 경우 GPU 사용\n",
        "device = torch.device('cuda' if torch.cuda.is_available() else 'cpu')\n",
        "model.to(device)\n",
        "\n",
        "for epoch in range(num_epochs):\n",
        "    model.train()\n",
        "    running_loss = 0.0\n",
        "\n",
        "    for images, labels in train_loader:\n",
        "        # 입력 데이터와 레이블을 선택한 장치로 이동\n",
        "        images, labels = images.to(device), labels.to(device)\n",
        "\n",
        "        # 기울기 초기화\n",
        "        optimizer.zero_grad()\n",
        "\n",
        "        # 순전파\n",
        "        outputs = model(images)\n",
        "        loss = criterion(outputs, labels)\n",
        "\n",
        "        # 역전파 및 최적화\n",
        "        loss.backward()\n",
        "        optimizer.step()\n",
        "\n",
        "        # 손실 누적\n",
        "        running_loss += loss.item()\n",
        "\n",
        "    print(f\"Epoch [{epoch+1}/{num_epochs}], Loss: {running_loss/len(train_loader)}\")"
      ]
    },
    {
      "cell_type": "markdown",
      "metadata": {
        "id": "GHHt8g2FjIsb"
      },
      "source": [
        "2-6) 4점\n",
        "- 테스트 데이터셋을 사용하여 모델의 성능을 평가하세요. 정확도를 출력하세요."
      ]
    },
    {
      "cell_type": "code",
      "execution_count": 8,
      "metadata": {
        "colab": {
          "base_uri": "https://localhost:8080/"
        },
        "id": "EeYFBQ4FjGdE",
        "outputId": "cd9cf775-4fe2-4b94-bd61-d639aaed6eef"
      },
      "outputs": [
        {
          "ename": "RuntimeError",
          "evalue": "Caught RuntimeError in DataLoader worker process 0.\nOriginal Traceback (most recent call last):\n  File \"c:\\Python312\\Lib\\site-packages\\torch\\utils\\data\\_utils\\worker.py\", line 308, in _worker_loop\n    data = fetcher.fetch(index)  # type: ignore[possibly-undefined]\n           ^^^^^^^^^^^^^^^^^^^^\n  File \"c:\\Python312\\Lib\\site-packages\\torch\\utils\\data\\_utils\\fetch.py\", line 51, in fetch\n    data = [self.dataset[idx] for idx in possibly_batched_index]\n            ~~~~~~~~~~~~^^^^^\n  File \"c:\\Python312\\Lib\\site-packages\\torchvision\\datasets\\mnist.py\", line 143, in __getitem__\n    img = Image.fromarray(img.numpy(), mode=\"L\")\n                          ^^^^^^^^^^^\nRuntimeError: Numpy is not available\n",
          "output_type": "error",
          "traceback": [
            "\u001b[1;31m---------------------------------------------------------------------------\u001b[0m",
            "\u001b[1;31mRuntimeError\u001b[0m                              Traceback (most recent call last)",
            "Cell \u001b[1;32mIn[8], line 7\u001b[0m\n\u001b[0;32m      4\u001b[0m total \u001b[39m=\u001b[39m \u001b[39m0\u001b[39m\n\u001b[0;32m      6\u001b[0m \u001b[39mwith\u001b[39;00m torch\u001b[39m.\u001b[39mno_grad():\n\u001b[1;32m----> 7\u001b[0m     \u001b[39mfor\u001b[39;49;00m images, labels \u001b[39min\u001b[39;49;00m test_loader:\n\u001b[0;32m      8\u001b[0m         images, labels \u001b[39m=\u001b[39;49m images\u001b[39m.\u001b[39;49mto(device), labels\u001b[39m.\u001b[39;49mto(device)\n\u001b[0;32m      9\u001b[0m         outputs \u001b[39m=\u001b[39;49m model(images)\n",
            "File \u001b[1;32mc:\\Python312\\Lib\\site-packages\\torch\\utils\\data\\dataloader.py:631\u001b[0m, in \u001b[0;36m_BaseDataLoaderIter.__next__\u001b[1;34m(self)\u001b[0m\n\u001b[0;32m    628\u001b[0m \u001b[39mif\u001b[39;00m \u001b[39mself\u001b[39m\u001b[39m.\u001b[39m_sampler_iter \u001b[39mis\u001b[39;00m \u001b[39mNone\u001b[39;00m:\n\u001b[0;32m    629\u001b[0m     \u001b[39m# TODO(https://github.com/pytorch/pytorch/issues/76750)\u001b[39;00m\n\u001b[0;32m    630\u001b[0m     \u001b[39mself\u001b[39m\u001b[39m.\u001b[39m_reset()  \u001b[39m# type: ignore[call-arg]\u001b[39;00m\n\u001b[1;32m--> 631\u001b[0m data \u001b[39m=\u001b[39m \u001b[39mself\u001b[39;49m\u001b[39m.\u001b[39;49m_next_data()\n\u001b[0;32m    632\u001b[0m \u001b[39mself\u001b[39m\u001b[39m.\u001b[39m_num_yielded \u001b[39m+\u001b[39m\u001b[39m=\u001b[39m \u001b[39m1\u001b[39m\n\u001b[0;32m    633\u001b[0m \u001b[39mif\u001b[39;00m \u001b[39mself\u001b[39m\u001b[39m.\u001b[39m_dataset_kind \u001b[39m==\u001b[39m _DatasetKind\u001b[39m.\u001b[39mIterable \u001b[39mand\u001b[39;00m \\\n\u001b[0;32m    634\u001b[0m         \u001b[39mself\u001b[39m\u001b[39m.\u001b[39m_IterableDataset_len_called \u001b[39mis\u001b[39;00m \u001b[39mnot\u001b[39;00m \u001b[39mNone\u001b[39;00m \u001b[39mand\u001b[39;00m \\\n\u001b[0;32m    635\u001b[0m         \u001b[39mself\u001b[39m\u001b[39m.\u001b[39m_num_yielded \u001b[39m>\u001b[39m \u001b[39mself\u001b[39m\u001b[39m.\u001b[39m_IterableDataset_len_called:\n",
            "File \u001b[1;32mc:\\Python312\\Lib\\site-packages\\torch\\utils\\data\\dataloader.py:1346\u001b[0m, in \u001b[0;36m_MultiProcessingDataLoaderIter._next_data\u001b[1;34m(self)\u001b[0m\n\u001b[0;32m   1344\u001b[0m \u001b[39melse\u001b[39;00m:\n\u001b[0;32m   1345\u001b[0m     \u001b[39mdel\u001b[39;00m \u001b[39mself\u001b[39m\u001b[39m.\u001b[39m_task_info[idx]\n\u001b[1;32m-> 1346\u001b[0m     \u001b[39mreturn\u001b[39;00m \u001b[39mself\u001b[39;49m\u001b[39m.\u001b[39;49m_process_data(data)\n",
            "File \u001b[1;32mc:\\Python312\\Lib\\site-packages\\torch\\utils\\data\\dataloader.py:1372\u001b[0m, in \u001b[0;36m_MultiProcessingDataLoaderIter._process_data\u001b[1;34m(self, data)\u001b[0m\n\u001b[0;32m   1370\u001b[0m \u001b[39mself\u001b[39m\u001b[39m.\u001b[39m_try_put_index()\n\u001b[0;32m   1371\u001b[0m \u001b[39mif\u001b[39;00m \u001b[39misinstance\u001b[39m(data, ExceptionWrapper):\n\u001b[1;32m-> 1372\u001b[0m     data\u001b[39m.\u001b[39;49mreraise()\n\u001b[0;32m   1373\u001b[0m \u001b[39mreturn\u001b[39;00m data\n",
            "File \u001b[1;32mc:\\Python312\\Lib\\site-packages\\torch\\_utils.py:705\u001b[0m, in \u001b[0;36mExceptionWrapper.reraise\u001b[1;34m(self)\u001b[0m\n\u001b[0;32m    701\u001b[0m \u001b[39mexcept\u001b[39;00m \u001b[39mTypeError\u001b[39;00m:\n\u001b[0;32m    702\u001b[0m     \u001b[39m# If the exception takes multiple arguments, don't try to\u001b[39;00m\n\u001b[0;32m    703\u001b[0m     \u001b[39m# instantiate since we don't know how to\u001b[39;00m\n\u001b[0;32m    704\u001b[0m     \u001b[39mraise\u001b[39;00m \u001b[39mRuntimeError\u001b[39;00m(msg) \u001b[39mfrom\u001b[39;00m \u001b[39mNone\u001b[39;00m\n\u001b[1;32m--> 705\u001b[0m \u001b[39mraise\u001b[39;00m exception\n",
            "\u001b[1;31mRuntimeError\u001b[0m: Caught RuntimeError in DataLoader worker process 0.\nOriginal Traceback (most recent call last):\n  File \"c:\\Python312\\Lib\\site-packages\\torch\\utils\\data\\_utils\\worker.py\", line 308, in _worker_loop\n    data = fetcher.fetch(index)  # type: ignore[possibly-undefined]\n           ^^^^^^^^^^^^^^^^^^^^\n  File \"c:\\Python312\\Lib\\site-packages\\torch\\utils\\data\\_utils\\fetch.py\", line 51, in fetch\n    data = [self.dataset[idx] for idx in possibly_batched_index]\n            ~~~~~~~~~~~~^^^^^\n  File \"c:\\Python312\\Lib\\site-packages\\torchvision\\datasets\\mnist.py\", line 143, in __getitem__\n    img = Image.fromarray(img.numpy(), mode=\"L\")\n                          ^^^^^^^^^^^\nRuntimeError: Numpy is not available\n"
          ]
        }
      ],
      "source": [
        "# 모델 평가\n",
        "model.eval()\n",
        "correct = 0\n",
        "total = 0\n",
        "\n",
        "with torch.no_grad():\n",
        "    for images, labels in test_loader:\n",
        "        images, labels = images.to(device), labels.to(device)\n",
        "        outputs = model(images)\n",
        "        _, predicted = torch.max(outputs.data, 1)\n",
        "        total += labels.size(0)\n",
        "        correct += (predicted == labels).sum().item()\n",
        "\n",
        "accuracy = 100*correct/total\n",
        "print(f'Test Accuracy: {accuracy:.2f}%')"
      ]
    },
    {
      "cell_type": "markdown",
      "metadata": {
        "id": "em44PIcTkZxx"
      },
      "source": [
        "### Q3. CIFAR-10 데이터셋을 활용한 신경망 모델 학습 (24점)"
      ]
    },
    {
      "cell_type": "markdown",
      "metadata": {
        "id": "0lfn-R-5kZxx"
      },
      "source": [
        "3-1) 2점\n",
        "- torchvision 라이브러리를 사용하여 CIFAR-10 데이터셋을 불러오세요."
      ]
    },
    {
      "cell_type": "code",
      "execution_count": 9,
      "metadata": {
        "colab": {
          "base_uri": "https://localhost:8080/"
        },
        "id": "YyXDrl37kZxx",
        "outputId": "124a1798-75c9-4222-f7df-0ffb26ec1961"
      },
      "outputs": [
        {
          "name": "stdout",
          "output_type": "stream",
          "text": [
            "Downloading https://www.cs.toronto.edu/~kriz/cifar-10-python.tar.gz to ./datasets/cifar-10-python.tar.gz\n"
          ]
        },
        {
          "name": "stderr",
          "output_type": "stream",
          "text": [
            "100.0%\n"
          ]
        },
        {
          "name": "stdout",
          "output_type": "stream",
          "text": [
            "Extracting ./datasets/cifar-10-python.tar.gz to ./datasets/\n",
            "Files already downloaded and verified\n"
          ]
        }
      ],
      "source": [
        "from torchvision.datasets import CIFAR10\n",
        "import torchvision.transforms as transforms\n",
        "\n",
        "# CIFAR-10 데이터셋 다운로드 및 로드\n",
        "train_data = CIFAR10(root='./datasets/', train=True, transform=transforms.ToTensor(), download=True)\n",
        "test_data = CIFAR10(root='./datasets/', train=False, transform=transforms.ToTensor(), download=True)"
      ]
    },
    {
      "cell_type": "markdown",
      "metadata": {
        "id": "AtQ-QYh1kZxx"
      },
      "source": [
        "3-2) 2점\n",
        "- torch.utils.data.DataLoader를 사용하여 데이터 로더를 생성하세요. 배치 크기는 64로 설정하세요."
      ]
    },
    {
      "cell_type": "code",
      "execution_count": 10,
      "metadata": {
        "id": "pEODl3URkZxx"
      },
      "outputs": [],
      "source": [
        "from torch.utils.data import DataLoader\n",
        "\n",
        "# 데이터 로더 생성\n",
        "train_loader = DataLoader(dataset=train_data, batch_size=64, shuffle=True, num_workers=4)\n",
        "test_loader = DataLoader(dataset=test_data, batch_size=64, shuffle=False, num_workers=4)"
      ]
    },
    {
      "cell_type": "markdown",
      "metadata": {
        "id": "kQWNFVgIkZxx"
      },
      "source": [
        "3-3) 5점\n",
        "- CNN 모델 코드의 빈칸을 채워 실행하세요."
      ]
    },
    {
      "cell_type": "code",
      "execution_count": 11,
      "metadata": {
        "id": "mvQYwy-XkZxx"
      },
      "outputs": [],
      "source": [
        "import torch.nn as nn\n",
        "import torch.nn.functional as F\n",
        "\n",
        "# CNN 모델 정의\n",
        "class CNNModel(nn.Module):\n",
        "    def __init__(self):\n",
        "        super(CNNModel, self).__init__()\n",
        "        # 첫 번째 합성곱 층: 입력 채널 3, 출력 채널 32, 커널 크기 3x3\n",
        "        self.conv1 = nn.Conv2d(in_channels=3, out_channels=32, kernel_size=3, stride=1, padding=1)\n",
        "        # 두 번째 합성곱 층: 입력 채널 32, 출력 채널 64, 커널 크기 3x3\n",
        "        self.conv2 = nn.Conv2d(in_channels=32, out_channels=64, kernel_size=3, stride=1, padding=1)\n",
        "        # 첫 번째 완전 연결층: 입력 노드 수 64*6*6, 출력 노드 수 128\n",
        "        self.fc1 = nn.Linear(64 * 6 * 6, 128)\n",
        "        # 두 번째 완전 연결층: 입력 노드 수 128, 출력 노드 수 10 (클래스 수)\n",
        "        self.fc2 = nn.Linear(128, 10)\n",
        "\n",
        "    def forward(self, x):\n",
        "        # 첫 번째 합성곱 층 + ReLU + 최대 풀링\n",
        "        x = F.relu(self.conv1(x))\n",
        "        x = F.max_pool2d(x, 2, 2)\n",
        "        # 두 번째 합성곱 층 + ReLU + 최대 풀링\n",
        "        x = F.relu(self.conv2(x))\n",
        "        x = F.max_pool2d(x, 2, 2)\n",
        "        # 텐서를 1차원으로 펼침\n",
        "        x = x.view(-1, 64*6*6)\n",
        "        # 첫 번째 완전 연결층 + ReLU\n",
        "        x = F.relu(self.fc1(x))\n",
        "        # 두 번째 완전 연결층 (출력층)\n",
        "        x = self.fc2(x)\n",
        "        return x\n",
        "\n",
        "# 모델 초기화\n",
        "cnn_model = CNNModel()"
      ]
    },
    {
      "cell_type": "markdown",
      "metadata": {
        "id": "cVbBZGzBkZxx"
      },
      "source": [
        "3-4) 5점\n",
        "- CNN 모델 학습 및 평가 코드의 빈칸을 채워 실행하세요."
      ]
    },
    {
      "cell_type": "code",
      "execution_count": 13,
      "metadata": {
        "colab": {
          "base_uri": "https://localhost:8080/"
        },
        "id": "afeaorx3kZxx",
        "outputId": "9652153c-1db9-4c15-bfc9-d12b8a7439eb"
      },
      "outputs": [
        {
          "ename": "RuntimeError",
          "evalue": "Caught RuntimeError in DataLoader worker process 0.\nOriginal Traceback (most recent call last):\n  File \"c:\\Python312\\Lib\\site-packages\\torch\\utils\\data\\_utils\\worker.py\", line 308, in _worker_loop\n    data = fetcher.fetch(index)  # type: ignore[possibly-undefined]\n           ^^^^^^^^^^^^^^^^^^^^\n  File \"c:\\Python312\\Lib\\site-packages\\torch\\utils\\data\\_utils\\fetch.py\", line 51, in fetch\n    data = [self.dataset[idx] for idx in possibly_batched_index]\n            ~~~~~~~~~~~~^^^^^\n  File \"c:\\Python312\\Lib\\site-packages\\torchvision\\datasets\\cifar.py\", line 119, in __getitem__\n    img = self.transform(img)\n          ^^^^^^^^^^^^^^^^^^^\n  File \"c:\\Python312\\Lib\\site-packages\\torchvision\\transforms\\transforms.py\", line 137, in __call__\n    return F.to_tensor(pic)\n           ^^^^^^^^^^^^^^^^\n  File \"c:\\Python312\\Lib\\site-packages\\torchvision\\transforms\\functional.py\", line 168, in to_tensor\n    img = torch.from_numpy(np.array(pic, mode_to_nptype.get(pic.mode, np.uint8), copy=True))\n          ^^^^^^^^^^^^^^^^^^^^^^^^^^^^^^^^^^^^^^^^^^^^^^^^^^^^^^^^^^^^^^^^^^^^^^^^^^^^^^^^^^\nRuntimeError: Numpy is not available\n",
          "output_type": "error",
          "traceback": [
            "\u001b[1;31m---------------------------------------------------------------------------\u001b[0m",
            "\u001b[1;31mRuntimeError\u001b[0m                              Traceback (most recent call last)",
            "Cell \u001b[1;32mIn[13], line 16\u001b[0m\n\u001b[0;32m     14\u001b[0m cnn_model\u001b[39m.\u001b[39mtrain()\n\u001b[0;32m     15\u001b[0m running_loss \u001b[39m=\u001b[39m \u001b[39m0.0\u001b[39m\n\u001b[1;32m---> 16\u001b[0m \u001b[39mfor\u001b[39;49;00m images, labels \u001b[39min\u001b[39;49;00m train_loader:\n\u001b[0;32m     17\u001b[0m     images, labels \u001b[39m=\u001b[39;49m images\u001b[39m.\u001b[39;49mto(device), labels\u001b[39m.\u001b[39;49mto(device)\n\u001b[0;32m     18\u001b[0m     optimizer\u001b[39m.\u001b[39;49mzero_grad()\n",
            "File \u001b[1;32mc:\\Python312\\Lib\\site-packages\\torch\\utils\\data\\dataloader.py:631\u001b[0m, in \u001b[0;36m_BaseDataLoaderIter.__next__\u001b[1;34m(self)\u001b[0m\n\u001b[0;32m    628\u001b[0m \u001b[39mif\u001b[39;00m \u001b[39mself\u001b[39m\u001b[39m.\u001b[39m_sampler_iter \u001b[39mis\u001b[39;00m \u001b[39mNone\u001b[39;00m:\n\u001b[0;32m    629\u001b[0m     \u001b[39m# TODO(https://github.com/pytorch/pytorch/issues/76750)\u001b[39;00m\n\u001b[0;32m    630\u001b[0m     \u001b[39mself\u001b[39m\u001b[39m.\u001b[39m_reset()  \u001b[39m# type: ignore[call-arg]\u001b[39;00m\n\u001b[1;32m--> 631\u001b[0m data \u001b[39m=\u001b[39m \u001b[39mself\u001b[39;49m\u001b[39m.\u001b[39;49m_next_data()\n\u001b[0;32m    632\u001b[0m \u001b[39mself\u001b[39m\u001b[39m.\u001b[39m_num_yielded \u001b[39m+\u001b[39m\u001b[39m=\u001b[39m \u001b[39m1\u001b[39m\n\u001b[0;32m    633\u001b[0m \u001b[39mif\u001b[39;00m \u001b[39mself\u001b[39m\u001b[39m.\u001b[39m_dataset_kind \u001b[39m==\u001b[39m _DatasetKind\u001b[39m.\u001b[39mIterable \u001b[39mand\u001b[39;00m \\\n\u001b[0;32m    634\u001b[0m         \u001b[39mself\u001b[39m\u001b[39m.\u001b[39m_IterableDataset_len_called \u001b[39mis\u001b[39;00m \u001b[39mnot\u001b[39;00m \u001b[39mNone\u001b[39;00m \u001b[39mand\u001b[39;00m \\\n\u001b[0;32m    635\u001b[0m         \u001b[39mself\u001b[39m\u001b[39m.\u001b[39m_num_yielded \u001b[39m>\u001b[39m \u001b[39mself\u001b[39m\u001b[39m.\u001b[39m_IterableDataset_len_called:\n",
            "File \u001b[1;32mc:\\Python312\\Lib\\site-packages\\torch\\utils\\data\\dataloader.py:1346\u001b[0m, in \u001b[0;36m_MultiProcessingDataLoaderIter._next_data\u001b[1;34m(self)\u001b[0m\n\u001b[0;32m   1344\u001b[0m \u001b[39melse\u001b[39;00m:\n\u001b[0;32m   1345\u001b[0m     \u001b[39mdel\u001b[39;00m \u001b[39mself\u001b[39m\u001b[39m.\u001b[39m_task_info[idx]\n\u001b[1;32m-> 1346\u001b[0m     \u001b[39mreturn\u001b[39;00m \u001b[39mself\u001b[39;49m\u001b[39m.\u001b[39;49m_process_data(data)\n",
            "File \u001b[1;32mc:\\Python312\\Lib\\site-packages\\torch\\utils\\data\\dataloader.py:1372\u001b[0m, in \u001b[0;36m_MultiProcessingDataLoaderIter._process_data\u001b[1;34m(self, data)\u001b[0m\n\u001b[0;32m   1370\u001b[0m \u001b[39mself\u001b[39m\u001b[39m.\u001b[39m_try_put_index()\n\u001b[0;32m   1371\u001b[0m \u001b[39mif\u001b[39;00m \u001b[39misinstance\u001b[39m(data, ExceptionWrapper):\n\u001b[1;32m-> 1372\u001b[0m     data\u001b[39m.\u001b[39;49mreraise()\n\u001b[0;32m   1373\u001b[0m \u001b[39mreturn\u001b[39;00m data\n",
            "File \u001b[1;32mc:\\Python312\\Lib\\site-packages\\torch\\_utils.py:705\u001b[0m, in \u001b[0;36mExceptionWrapper.reraise\u001b[1;34m(self)\u001b[0m\n\u001b[0;32m    701\u001b[0m \u001b[39mexcept\u001b[39;00m \u001b[39mTypeError\u001b[39;00m:\n\u001b[0;32m    702\u001b[0m     \u001b[39m# If the exception takes multiple arguments, don't try to\u001b[39;00m\n\u001b[0;32m    703\u001b[0m     \u001b[39m# instantiate since we don't know how to\u001b[39;00m\n\u001b[0;32m    704\u001b[0m     \u001b[39mraise\u001b[39;00m \u001b[39mRuntimeError\u001b[39;00m(msg) \u001b[39mfrom\u001b[39;00m \u001b[39mNone\u001b[39;00m\n\u001b[1;32m--> 705\u001b[0m \u001b[39mraise\u001b[39;00m exception\n",
            "\u001b[1;31mRuntimeError\u001b[0m: Caught RuntimeError in DataLoader worker process 0.\nOriginal Traceback (most recent call last):\n  File \"c:\\Python312\\Lib\\site-packages\\torch\\utils\\data\\_utils\\worker.py\", line 308, in _worker_loop\n    data = fetcher.fetch(index)  # type: ignore[possibly-undefined]\n           ^^^^^^^^^^^^^^^^^^^^\n  File \"c:\\Python312\\Lib\\site-packages\\torch\\utils\\data\\_utils\\fetch.py\", line 51, in fetch\n    data = [self.dataset[idx] for idx in possibly_batched_index]\n            ~~~~~~~~~~~~^^^^^\n  File \"c:\\Python312\\Lib\\site-packages\\torchvision\\datasets\\cifar.py\", line 119, in __getitem__\n    img = self.transform(img)\n          ^^^^^^^^^^^^^^^^^^^\n  File \"c:\\Python312\\Lib\\site-packages\\torchvision\\transforms\\transforms.py\", line 137, in __call__\n    return F.to_tensor(pic)\n           ^^^^^^^^^^^^^^^^\n  File \"c:\\Python312\\Lib\\site-packages\\torchvision\\transforms\\functional.py\", line 168, in to_tensor\n    img = torch.from_numpy(np.array(pic, mode_to_nptype.get(pic.mode, np.uint8), copy=True))\n          ^^^^^^^^^^^^^^^^^^^^^^^^^^^^^^^^^^^^^^^^^^^^^^^^^^^^^^^^^^^^^^^^^^^^^^^^^^^^^^^^^^\nRuntimeError: Numpy is not available\n"
          ]
        }
      ],
      "source": [
        "import torch.optim as optim\n",
        "\n",
        "# 손실 함수와 최적화 기법 설정\n",
        "criterion = nn.CrossEntropyLoss() \n",
        "optimizer = optim.Adam(cnn_model.parameters(), lr=0.001)\n",
        "\n",
        "# CUDA가 가능한지 확인 후, 가능한 경우 GPU 사용\n",
        "device = torch.device('cuda' if torch.cuda.is_available() else 'cpu')\n",
        "cnn_model.to(device)\n",
        "\n",
        "# 모델 학습\n",
        "num_epochs = 5\n",
        "for epoch in range(num_epochs):\n",
        "    cnn_model.train()\n",
        "    running_loss = 0.0\n",
        "    for images, labels in train_loader:\n",
        "        images, labels = images.to(device), labels.to(device)\n",
        "        optimizer.zero_grad()\n",
        "        outputs = cnn_model(images)\n",
        "        loss = criterion(outputs, labels)\n",
        "        loss.backward()\n",
        "        optimizer.step()\n",
        "        running_loss += loss.item()\n",
        "    print(f\"Epoch {epoch+1}, Loss: {running_loss/len(train_loader)}\")\n",
        "\n",
        "# 모델 평가\n",
        "cnn_model.eval()\n",
        "correct = 0\n",
        "total = 0\n",
        "with torch.no_grad():\n",
        "    for images, labels in test_loader:\n",
        "        images, labels = images.to(device), labels.to(device)\n",
        "        outputs = cnn_model(images)\n",
        "        _, predicted = torch.max(outputs.data, 1)\n",
        "        total += labels.size(0)\n",
        "        correct += (predicted == labels).sum().item()\n",
        "\n",
        "accuracy = 100*correct/total\n",
        "print(f'Test Accuracy: {accuracy:.2f}%')"
      ]
    },
    {
      "cell_type": "markdown",
      "metadata": {
        "id": "AGLNk_Q7kZxx"
      },
      "source": [
        "3-5) 5점\n",
        "- RNN 모델 코드의 빈칸을 채워 실행하세요."
      ]
    },
    {
      "cell_type": "code",
      "execution_count": 14,
      "metadata": {
        "id": "rgqvJpqSkZxx"
      },
      "outputs": [],
      "source": [
        "import torch\n",
        "import torch.nn as nn\n",
        "import torch.nn.functional as F\n",
        "\n",
        "class RNNModel(nn.Module):\n",
        "    def __init__(self):\n",
        "        super(RNNModel, self).__init__()\n",
        "        # RNN 층: 입력 차원 32*3 (이미지의 행 크기), 은닉 상태 차원 128\n",
        "        self.rnn = nn.RNN(input_size=32*3, hidden_size=128, batch_first=True)\n",
        "        # 완전 연결층: 입력 노드 수 128, 출력 노드 수 10 (클래스 수)\n",
        "        self.fc = nn.Linear(128, 10)\n",
        "\n",
        "    def forward(self, x):\n",
        "        # 이미지 데이터를 (batch_size, channels, height, width)에서 (batch_size, height, width, channels)로 변환\n",
        "        x = x.permute(0, 2, 3, 1)\n",
        "        # 이미지를 1D 시퀀스로 변환: (batch_size, height, width, channels) -> (batch_size, height, width*channels)\n",
        "        x = x.reshape(x.size(0), 32, -1)\n",
        "        # RNN 연산\n",
        "        out, _ = self.rnn(x)\n",
        "        # 마지막 시간 단계의 출력을 완전 연결층에 통과\n",
        "        out = self.fc(out[:, -1, :])\n",
        "        return out\n",
        "\n",
        "# 모델 초기화\n",
        "rnn_model = RNNModel()"
      ]
    },
    {
      "cell_type": "markdown",
      "metadata": {
        "id": "O9oGKKFWkZxx"
      },
      "source": [
        "3-6) 5점\n",
        "- RNN 모델 학습 및 평가 코드의 빈칸을 채워 실행하세요."
      ]
    },
    {
      "cell_type": "code",
      "execution_count": 15,
      "metadata": {
        "colab": {
          "base_uri": "https://localhost:8080/"
        },
        "id": "CwjKcIrakZxy",
        "outputId": "d69ecfcf-f1ff-423e-9b01-5df90facfdd6"
      },
      "outputs": [
        {
          "ename": "RuntimeError",
          "evalue": "Caught RuntimeError in DataLoader worker process 0.\nOriginal Traceback (most recent call last):\n  File \"c:\\Python312\\Lib\\site-packages\\torch\\utils\\data\\_utils\\worker.py\", line 308, in _worker_loop\n    data = fetcher.fetch(index)  # type: ignore[possibly-undefined]\n           ^^^^^^^^^^^^^^^^^^^^\n  File \"c:\\Python312\\Lib\\site-packages\\torch\\utils\\data\\_utils\\fetch.py\", line 51, in fetch\n    data = [self.dataset[idx] for idx in possibly_batched_index]\n            ~~~~~~~~~~~~^^^^^\n  File \"c:\\Python312\\Lib\\site-packages\\torchvision\\datasets\\cifar.py\", line 119, in __getitem__\n    img = self.transform(img)\n          ^^^^^^^^^^^^^^^^^^^\n  File \"c:\\Python312\\Lib\\site-packages\\torchvision\\transforms\\transforms.py\", line 137, in __call__\n    return F.to_tensor(pic)\n           ^^^^^^^^^^^^^^^^\n  File \"c:\\Python312\\Lib\\site-packages\\torchvision\\transforms\\functional.py\", line 168, in to_tensor\n    img = torch.from_numpy(np.array(pic, mode_to_nptype.get(pic.mode, np.uint8), copy=True))\n          ^^^^^^^^^^^^^^^^^^^^^^^^^^^^^^^^^^^^^^^^^^^^^^^^^^^^^^^^^^^^^^^^^^^^^^^^^^^^^^^^^^\nRuntimeError: Numpy is not available\n",
          "output_type": "error",
          "traceback": [
            "\u001b[1;31m---------------------------------------------------------------------------\u001b[0m",
            "\u001b[1;31mRuntimeError\u001b[0m                              Traceback (most recent call last)",
            "Cell \u001b[1;32mIn[15], line 16\u001b[0m\n\u001b[0;32m     14\u001b[0m rnn_model\u001b[39m.\u001b[39mtrain()\n\u001b[0;32m     15\u001b[0m running_loss \u001b[39m=\u001b[39m \u001b[39m0.0\u001b[39m\n\u001b[1;32m---> 16\u001b[0m \u001b[39mfor\u001b[39;49;00m images, labels \u001b[39min\u001b[39;49;00m train_loader:\n\u001b[0;32m     17\u001b[0m     images, labels \u001b[39m=\u001b[39;49m images\u001b[39m.\u001b[39;49mto(device), labels\u001b[39m.\u001b[39;49mto(device)\n\u001b[0;32m     18\u001b[0m     optimizer\u001b[39m.\u001b[39;49mzero_grad()\n",
            "File \u001b[1;32mc:\\Python312\\Lib\\site-packages\\torch\\utils\\data\\dataloader.py:631\u001b[0m, in \u001b[0;36m_BaseDataLoaderIter.__next__\u001b[1;34m(self)\u001b[0m\n\u001b[0;32m    628\u001b[0m \u001b[39mif\u001b[39;00m \u001b[39mself\u001b[39m\u001b[39m.\u001b[39m_sampler_iter \u001b[39mis\u001b[39;00m \u001b[39mNone\u001b[39;00m:\n\u001b[0;32m    629\u001b[0m     \u001b[39m# TODO(https://github.com/pytorch/pytorch/issues/76750)\u001b[39;00m\n\u001b[0;32m    630\u001b[0m     \u001b[39mself\u001b[39m\u001b[39m.\u001b[39m_reset()  \u001b[39m# type: ignore[call-arg]\u001b[39;00m\n\u001b[1;32m--> 631\u001b[0m data \u001b[39m=\u001b[39m \u001b[39mself\u001b[39;49m\u001b[39m.\u001b[39;49m_next_data()\n\u001b[0;32m    632\u001b[0m \u001b[39mself\u001b[39m\u001b[39m.\u001b[39m_num_yielded \u001b[39m+\u001b[39m\u001b[39m=\u001b[39m \u001b[39m1\u001b[39m\n\u001b[0;32m    633\u001b[0m \u001b[39mif\u001b[39;00m \u001b[39mself\u001b[39m\u001b[39m.\u001b[39m_dataset_kind \u001b[39m==\u001b[39m _DatasetKind\u001b[39m.\u001b[39mIterable \u001b[39mand\u001b[39;00m \\\n\u001b[0;32m    634\u001b[0m         \u001b[39mself\u001b[39m\u001b[39m.\u001b[39m_IterableDataset_len_called \u001b[39mis\u001b[39;00m \u001b[39mnot\u001b[39;00m \u001b[39mNone\u001b[39;00m \u001b[39mand\u001b[39;00m \\\n\u001b[0;32m    635\u001b[0m         \u001b[39mself\u001b[39m\u001b[39m.\u001b[39m_num_yielded \u001b[39m>\u001b[39m \u001b[39mself\u001b[39m\u001b[39m.\u001b[39m_IterableDataset_len_called:\n",
            "File \u001b[1;32mc:\\Python312\\Lib\\site-packages\\torch\\utils\\data\\dataloader.py:1346\u001b[0m, in \u001b[0;36m_MultiProcessingDataLoaderIter._next_data\u001b[1;34m(self)\u001b[0m\n\u001b[0;32m   1344\u001b[0m \u001b[39melse\u001b[39;00m:\n\u001b[0;32m   1345\u001b[0m     \u001b[39mdel\u001b[39;00m \u001b[39mself\u001b[39m\u001b[39m.\u001b[39m_task_info[idx]\n\u001b[1;32m-> 1346\u001b[0m     \u001b[39mreturn\u001b[39;00m \u001b[39mself\u001b[39;49m\u001b[39m.\u001b[39;49m_process_data(data)\n",
            "File \u001b[1;32mc:\\Python312\\Lib\\site-packages\\torch\\utils\\data\\dataloader.py:1372\u001b[0m, in \u001b[0;36m_MultiProcessingDataLoaderIter._process_data\u001b[1;34m(self, data)\u001b[0m\n\u001b[0;32m   1370\u001b[0m \u001b[39mself\u001b[39m\u001b[39m.\u001b[39m_try_put_index()\n\u001b[0;32m   1371\u001b[0m \u001b[39mif\u001b[39;00m \u001b[39misinstance\u001b[39m(data, ExceptionWrapper):\n\u001b[1;32m-> 1372\u001b[0m     data\u001b[39m.\u001b[39;49mreraise()\n\u001b[0;32m   1373\u001b[0m \u001b[39mreturn\u001b[39;00m data\n",
            "File \u001b[1;32mc:\\Python312\\Lib\\site-packages\\torch\\_utils.py:705\u001b[0m, in \u001b[0;36mExceptionWrapper.reraise\u001b[1;34m(self)\u001b[0m\n\u001b[0;32m    701\u001b[0m \u001b[39mexcept\u001b[39;00m \u001b[39mTypeError\u001b[39;00m:\n\u001b[0;32m    702\u001b[0m     \u001b[39m# If the exception takes multiple arguments, don't try to\u001b[39;00m\n\u001b[0;32m    703\u001b[0m     \u001b[39m# instantiate since we don't know how to\u001b[39;00m\n\u001b[0;32m    704\u001b[0m     \u001b[39mraise\u001b[39;00m \u001b[39mRuntimeError\u001b[39;00m(msg) \u001b[39mfrom\u001b[39;00m \u001b[39mNone\u001b[39;00m\n\u001b[1;32m--> 705\u001b[0m \u001b[39mraise\u001b[39;00m exception\n",
            "\u001b[1;31mRuntimeError\u001b[0m: Caught RuntimeError in DataLoader worker process 0.\nOriginal Traceback (most recent call last):\n  File \"c:\\Python312\\Lib\\site-packages\\torch\\utils\\data\\_utils\\worker.py\", line 308, in _worker_loop\n    data = fetcher.fetch(index)  # type: ignore[possibly-undefined]\n           ^^^^^^^^^^^^^^^^^^^^\n  File \"c:\\Python312\\Lib\\site-packages\\torch\\utils\\data\\_utils\\fetch.py\", line 51, in fetch\n    data = [self.dataset[idx] for idx in possibly_batched_index]\n            ~~~~~~~~~~~~^^^^^\n  File \"c:\\Python312\\Lib\\site-packages\\torchvision\\datasets\\cifar.py\", line 119, in __getitem__\n    img = self.transform(img)\n          ^^^^^^^^^^^^^^^^^^^\n  File \"c:\\Python312\\Lib\\site-packages\\torchvision\\transforms\\transforms.py\", line 137, in __call__\n    return F.to_tensor(pic)\n           ^^^^^^^^^^^^^^^^\n  File \"c:\\Python312\\Lib\\site-packages\\torchvision\\transforms\\functional.py\", line 168, in to_tensor\n    img = torch.from_numpy(np.array(pic, mode_to_nptype.get(pic.mode, np.uint8), copy=True))\n          ^^^^^^^^^^^^^^^^^^^^^^^^^^^^^^^^^^^^^^^^^^^^^^^^^^^^^^^^^^^^^^^^^^^^^^^^^^^^^^^^^^\nRuntimeError: Numpy is not available\n"
          ]
        }
      ],
      "source": [
        "import torch.optim as optim\n",
        "\n",
        "# 손실 함수와 최적화 기법 설정\n",
        "criterion = nn.CrossEntropyLoss()\n",
        "optimizer = optim.Adam(rnn_model.parameters(), lr=0.001)\n",
        "\n",
        "# CUDA가 가능한지 확인 후, 가능한 경우 GPU 사용\n",
        "device = torch.device('cuda' if torch.cuda.is_available() else 'cpu')\n",
        "rnn_model.to(device)\n",
        "\n",
        "# 모델 학습\n",
        "num_epochs = 5\n",
        "for epoch in range(num_epochs):\n",
        "    rnn_model.train()\n",
        "    running_loss = 0.0\n",
        "    for images, labels in train_loader:\n",
        "        images, labels = images.to(device), labels.to(device)\n",
        "        optimizer.zero_grad()\n",
        "        outputs = rnn_model(images)\n",
        "        loss = criterion(outputs, labels)\n",
        "        loss.backward()\n",
        "        optimizer.step()\n",
        "        running_loss += loss.item()\n",
        "    print(f\"Epoch {epoch+1}, Loss: {running_loss/len(train_loader)}\")\n",
        "\n",
        "# 모델 평가\n",
        "rnn_model.eval()\n",
        "correct = 0\n",
        "total = 0\n",
        "with torch.no_grad():\n",
        "    for images, labels in test_loader:\n",
        "        images, labels = images.to(device), labels.to(device)\n",
        "        outputs = rnn_model(images)\n",
        "        _, predicted = torch.max(outputs.data, 1)\n",
        "        total += labels.size(0)\n",
        "        correct += (predicted == labels).sum().item()\n",
        "\n",
        "accuracy = 100*correct/total\n",
        "print(f'Test Accuracy: {accuracy:.2f}%')"
      ]
    },
    {
      "cell_type": "markdown",
      "metadata": {
        "id": "HCfiqxZ1M7aK"
      },
      "source": [
        "## 3조. 손실함수, 수치미분(편미분), 경사하강법 - 총 50점"
      ]
    },
    {
      "cell_type": "markdown",
      "metadata": {
        "id": "sknOI4ZhITjS"
      },
      "source": [
        "### 1. 손실함수와 수치미분(편미분)\n"
      ]
    },
    {
      "cell_type": "markdown",
      "metadata": {
        "id": "SrJG4Bo6QuHT"
      },
      "source": [
        "Diabetes 데이터셋을 로드하고, 데이터셋의 첫 번째 특징('age')을 사용하여 목표 변수('target')를 예측하는 단순 선형 회귀 모델을 학습하세요."
      ]
    },
    {
      "cell_type": "code",
      "execution_count": 16,
      "metadata": {
        "id": "qe-Lu4gsQdpv"
      },
      "outputs": [],
      "source": [
        "#문제가 아닙니다.\n",
        "from sklearn.datasets import load_diabetes\n",
        "from sklearn.linear_model import LinearRegression\n",
        "from sklearn.metrics import mean_squared_error\n",
        "from sklearn.metrics import mean_absolute_error\n",
        "import numpy as np\n",
        "\n",
        "# 1. 데이터셋 로드\n",
        "diabetes = load_diabetes()\n",
        "X = diabetes.data[:, np.newaxis, 0]  # 'age' 특성 선택\n",
        "y = diabetes.target\n",
        "\n",
        "# 2. 단순 선형 회귀 모델 학습\n",
        "model = LinearRegression()\n",
        "model.fit(X, y)\n",
        "y_pred = model.predict(X)"
      ]
    },
    {
      "cell_type": "markdown",
      "metadata": {
        "id": "J31Of0vkPndt"
      },
      "source": [
        "1.1) 평균 제곱 오차(MSE)를 계산하는 코드를 완성하시오.(5점)"
      ]
    },
    {
      "cell_type": "code",
      "execution_count": 19,
      "metadata": {
        "colab": {
          "base_uri": "https://localhost:8080/"
        },
        "id": "xWW_APYaPndt",
        "outputId": "cc215e41-6883-452c-bcc8-e71c659550de"
      },
      "outputs": [
        {
          "name": "stdout",
          "output_type": "stream",
          "text": [
            "MSE: 5720.55\n",
            "MAE: 64.55\n"
          ]
        }
      ],
      "source": [
        "# 3. 평균 제곱 오차(MSE) 계산\n",
        "mse = mean_squared_error(y, y_pred)\n",
        "mae = mean_absolute_error(y, y_pred)\n",
        "\n",
        "print(f\"MSE: {mse:.2f}\")\n",
        "print(f\"MAE: {mae:.2f}\")"
      ]
    },
    {
      "cell_type": "markdown",
      "metadata": {
        "id": "IcRC1W0yOZNr"
      },
      "source": [
        "1.2) 평균 절대 오차(MAE)와 평균 제곱 오차(MSE)의 정의와 각 손실함수의 특징을 설명하시오.(5점)"
      ]
    },
    {
      "cell_type": "markdown",
      "metadata": {
        "id": "u9eVWYfzSPVB"
      },
      "source": [
        "평균 제곱 오차(MSE) : 예측값과 실제값 간의 제곱 차이의 평균이다. 큰 오차에 더 민감하여 이상치에 영향을 많이 받는다."
      ]
    },
    {
      "cell_type": "markdown",
      "metadata": {
        "id": "BByrK3ESSOIX"
      },
      "source": [
        "평균 절대 오차(MAE) : 예측값과 실제값 간의 절대값 차이의 평균이다. 직관적으로 이해하기 쉽다."
      ]
    },
    {
      "cell_type": "markdown",
      "metadata": {
        "id": "T6S4t2_iSSmM"
      },
      "source": [
        "특징 :"
      ]
    },
    {
      "cell_type": "markdown",
      "metadata": {
        "id": "6XaadncjPndt"
      },
      "source": [
        "1.3) 위에서 학습한 모델의 예측값에 대해 특정 샘플의 입력값에 대한 손실 함수의 편미분을 계산하는 코드를 완성하시오.(5점)"
      ]
    },
    {
      "cell_type": "code",
      "execution_count": 17,
      "metadata": {
        "colab": {
          "base_uri": "https://localhost:8080/"
        },
        "id": "28c5btWxPndu",
        "outputId": "b30885a1-6918-48a7-98cf-f601fc9ee8c8"
      },
      "outputs": [
        {
          "name": "stdout",
          "output_type": "stream",
          "text": [
            "Numerical derivative of MSE at x_0: 17.50158\n"
          ]
        }
      ],
      "source": [
        "# 함수 정의\n",
        "def mse_loss(y_true, y_pred):\n",
        "    return np.mean((y_true - y_pred) ** 2)\n",
        "\n",
        "# 수치미분 함수 정의\n",
        "def numerical_derivative(f, x, h=0.01):\n",
        "    return (f(x + h) - f(x - h)) / (2 * h)\n",
        "\n",
        "# 특정 입력값 x_0 설정\n",
        "x_0 = X[0][0]\n",
        "\n",
        "# MSE 손실 함수에 대한 편미분 계산\n",
        "def mse_loss_at_x0(x):\n",
        "    X_new = X.copy()\n",
        "    X_new[0, 0] = x\n",
        "    y_pred_new = model.predict(X_new)\n",
        "    return mse_loss(y, y_pred_new)\n",
        "\n",
        "# 중심차분법을 사용한 편미분 계산\n",
        "derivative_at_x0 = numerical_derivative(mse_loss_at_x0, x_0)\n",
        "print(f\"Numerical derivative of MSE at x_0: {derivative_at_x0:.5f}\")"
      ]
    },
    {
      "cell_type": "markdown",
      "metadata": {
        "id": "nfOUGbUcO4Fo"
      },
      "source": [
        "1.4) 수치미분을 사용하여 모델 파라미터를 업데이트하시오. (5점)"
      ]
    },
    {
      "cell_type": "code",
      "execution_count": 20,
      "metadata": {
        "colab": {
          "base_uri": "https://localhost:8080/"
        },
        "id": "l9xMtIXATBFB",
        "outputId": "fe868d34-616d-4ff8-928d-72a29968d9be"
      },
      "outputs": [
        {
          "name": "stdout",
          "output_type": "stream",
          "text": [
            "Updated w: -0.01000\n",
            "Updated b: 3.03267\n"
          ]
        }
      ],
      "source": [
        "# 모델 초기화\n",
        "class SimpleLinearRegression:\n",
        "    def __init__(self):\n",
        "        self.w = 0\n",
        "        self.b = 0\n",
        "\n",
        "    def predict(self, X):\n",
        "        return self.w * X + self.b\n",
        "\n",
        "    def update_params(self, w_grad, b_grad, learning_rate=0.01):\n",
        "        self.w -= learning_rate * w_grad\n",
        "        self.b -= learning_rate * b_grad\n",
        "\n",
        "# 모델 인스턴스 생성\n",
        "simple_model = SimpleLinearRegression()\n",
        "\n",
        "# 손실 함수에 대한 파라미터의 편미분 계산 함수 정의\n",
        "def mse_loss_wrt_params(w, b):\n",
        "    simple_model.w = w\n",
        "    simple_model.b = b\n",
        "    y_pred = simple_model.predict(X)\n",
        "    return mse_loss(y, y_pred)\n",
        "\n",
        "# 수치미분을 사용하여 그래디언트 계산\n",
        "w_grad = numerical_derivative(lambda w: mse_loss_wrt_params(w, simple_model.b), simple_model.w)\n",
        "b_grad = numerical_derivative(lambda b: mse_loss_wrt_params(simple_model.w, b), simple_model.b)\n",
        "\n",
        "# 파라미터 업데이트\n",
        "simple_model.update_params(w_grad, b_grad)\n",
        "\n",
        "# 업데이트된 파라미터 출력\n",
        "print(f\"Updated w: {simple_model.w:.5f}\")\n",
        "print(f\"Updated b: {simple_model.b:.5f}\")\n"
      ]
    },
    {
      "cell_type": "markdown",
      "metadata": {
        "id": "coms8onGd_H0"
      },
      "source": [
        "1.5) 위의 코드를 확장하여 여러 번의 파라미터 업데이트를 수행하는 코드를 완성하시오.(5점)"
      ]
    },
    {
      "cell_type": "code",
      "execution_count": 21,
      "metadata": {
        "colab": {
          "base_uri": "https://localhost:8080/"
        },
        "id": "IvEdR4G7ebfn",
        "outputId": "c7a26e06-095b-4579-ca4e-5fc3b3653b92",
        "scrolled": true
      },
      "outputs": [
        {
          "name": "stdout",
          "output_type": "stream",
          "text": [
            "Iteration 0: Loss = 27283.51056\n",
            "Iteration 10: Loss = 20207.58513\n",
            "Iteration 20: Loss = 15479.65930\n",
            "Iteration 30: Loss = 12320.00508\n",
            "Iteration 40: Loss = 10207.93664\n",
            "Iteration 50: Loss = 8795.73107\n",
            "Iteration 60: Loss = 7851.15686\n",
            "Iteration 70: Loss = 7219.10172\n",
            "Iteration 80: Loss = 6795.95206\n",
            "Iteration 90: Loss = 6512.48610\n",
            "Final Loss: 6338.22516\n",
            "Final w: -1.00772\n",
            "Final b: 131.92611\n"
          ]
        }
      ],
      "source": [
        "# 여러 번의 파라미터 업데이트\n",
        "num_iterations = 100\n",
        "learning_rate = 0.01\n",
        "\n",
        "for i in range(num_iterations):\n",
        "    w_grad = numerical_derivative(lambda w: mse_loss_wrt_params(w, simple_model.b), simple_model.w)\n",
        "    b_grad = numerical_derivative(lambda b: mse_loss_wrt_params(simple_model.w, b), simple_model.b)\n",
        "    simple_model.update_params(w_grad, b_grad, learning_rate=learning_rate)\n",
        "    if i % 10 == 0:\n",
        "        current_loss = mse_loss(y, simple_model.predict(X))\n",
        "        print(f\"Iteration {i}: Loss = {current_loss:.5f}\")\n",
        "\n",
        "# 최종 파라미터와 손실 함수 값 출력\n",
        "final_loss = mse_loss(y, simple_model.predict(X))\n",
        "print(f\"Final Loss: {final_loss:.5f}\")\n",
        "print(f\"Final w: {simple_model.w:.5f}\")\n",
        "print(f\"Final b: {simple_model.b:.5f}\")"
      ]
    },
    {
      "cell_type": "markdown",
      "metadata": {
        "id": "3uuZt7GEM7an"
      },
      "source": [
        "### 2. 기울기 (경사하강법)"
      ]
    },
    {
      "cell_type": "markdown",
      "metadata": {
        "id": "vbubF_2hM7ao"
      },
      "source": [
        "2-1) 경사 하강법이란 무엇인가요? 경사 하강법이 신경망 학습에 어떻게 사용되는지 간단히 설명하세요. (4점)"
      ]
    },
    {
      "cell_type": "markdown",
      "metadata": {
        "id": "QNpYY1NzM7ao"
      },
      "source": [
        "답: 함수의 최소값을 찾기 위해 사용되는 방법으로 역전파 알고리즘을 이용해 기울기 계산을 하고 손실함수로 영향을 확인한다. 이후 기울기에 따라 신경망의 가중치와 편향을 업데이트한다. 이를 반복하며 모델의 성능을 개선한다."
      ]
    },
    {
      "cell_type": "markdown",
      "metadata": {
        "id": "sD4WRcQPM7ap"
      },
      "source": [
        "2-2) 빈칸을 채워 평균 제곱 오차(MSE)를 비용 함수로 사용하는 배치 경사 하강법을 파이썬 코드로 구현하세요. (5점)"
      ]
    },
    {
      "cell_type": "code",
      "execution_count": 22,
      "metadata": {
        "id": "9Q-NjW0jM7ap"
      },
      "outputs": [],
      "source": [
        "# 코드를 그대로 실행하세요\n",
        "\n",
        "import numpy as np\n",
        "\n",
        "# 데이터셋 생성\n",
        "np.random.seed(0)\n",
        "X = 2 * np.random.rand(100, 1)\n",
        "y = 4 + 3 * X + np.random.randn(100, 1)"
      ]
    },
    {
      "cell_type": "code",
      "execution_count": 23,
      "metadata": {
        "id": "z-zFqdIaM7aq",
        "outputId": "6a300f2d-8313-413e-fb3b-88ec6c13bde5"
      },
      "outputs": [
        {
          "name": "stdout",
          "output_type": "stream",
          "text": [
            "최종 파라미터: theta0 = 4.14146131326896, theta1 = 3.040065929195248\n"
          ]
        }
      ],
      "source": [
        "# 배치 경사 하강법 함수 정의\n",
        "def compute_cost(X, y, theta):\n",
        "    m = len(y)\n",
        "    predictions = X.dot(theta)\n",
        "    cost = (1/2*m) * np.sum(np.square(predictions - y))\n",
        "    return cost\n",
        "\n",
        "def batch_gradient_descent(X, y, theta, learning_rate, iterations):\n",
        "    m = len(y)\n",
        "    cost_history = np.zeros(iterations)\n",
        "\n",
        "    for i in range(iterations):\n",
        "        predictions = X.dot(theta)\n",
        "        theta = theta - (learning_rate / m)*(X.T.dot((predictions - y)))\n",
        "        cost_history[i] = compute_cost(X, y, theta)\n",
        "\n",
        "    return theta, cost_history\n",
        "\n",
        "# 데이터 준비 (바이어스 항 추가)\n",
        "X_b = np.c_[np.ones((len(X), 1)), X]\n",
        "theta = np.random.randn(2, 1)\n",
        "learning_rate = 0.01\n",
        "iterations = 1000\n",
        "\n",
        "# 배치 경사 하강법 실행\n",
        "theta, cost_history = batch_gradient_descent(X_b, y, theta, learning_rate, iterations)\n",
        "\n",
        "print(f'최종 파라미터: theta0 = {theta[0][0]}, theta1 = {theta[1][0]}')"
      ]
    },
    {
      "cell_type": "markdown",
      "metadata": {
        "id": "0RpQ2RVRM7ar"
      },
      "source": [
        "2-3) load_diabetes 데이터셋을 사용하여 확률적 경사 하강법을 구현하세요. 각 에포크(epoch)마다 비용 함수 값을 계산하고 이를 시각화하세요. (5점)"
      ]
    },
    {
      "cell_type": "code",
      "execution_count": 24,
      "metadata": {
        "id": "aouX1hHCM7as"
      },
      "outputs": [],
      "source": [
        "# 코드를 그대로 실행하세요\n",
        "\n",
        "from sklearn.datasets import load_diabetes\n",
        "import numpy as np\n",
        "import matplotlib.pyplot as plt\n",
        "\n",
        "# 데이터셋 불러오기\n",
        "diabetes = load_diabetes()\n",
        "X = diabetes.data\n",
        "y = diabetes.target.reshape(-1, 1)\n",
        "\n",
        "# 데이터 표준화\n",
        "X = (X - np.mean(X, axis=0)) / np.std(X, axis=0)\n",
        "\n",
        "# 데이터 준비 (바이어스 항 추가)\n",
        "X_b = np.c_[np.ones((X.shape[0], 1)), X]\n",
        "\n",
        "# 초기화\n",
        "theta = np.random.randn(X_b.shape[1], 1)\n",
        "learning_rate = 0.01\n",
        "iterations = 1000"
      ]
    },
    {
      "cell_type": "code",
      "execution_count": 25,
      "metadata": {
        "id": "mS2iKBSlM7as",
        "outputId": "dafd5dac-3a2a-4dfc-f573-5fa3f10cabdc"
      },
      "outputs": [
        {
          "data": {
            "image/png": "[encoded data removed]",
            "text/plain": [
              "<Figure size 640x480 with 1 Axes>"
            ]
          },
          "metadata": {},
          "output_type": "display_data"
        }
      ],
      "source": [
        "# 비용 함수 정의\n",
        "def compute_cost(X, y, theta):\n",
        "    m = len(y)\n",
        "    predictions = X.dot(theta)\n",
        "    cost = (1/2*m) * np.sum(np.square(predictions- y))\n",
        "    return cost\n",
        "\n",
        "# 확률적 경사 하강법 함수 정의\n",
        "def stochastic_gradient_descent(X, y, theta, learning_rate, iterations):\n",
        "    m = len(y)\n",
        "    cost_history = np.zeros(iterations)\n",
        "\n",
        "    for i in range(iterations):\n",
        "        for j in range(m):\n",
        "            rand_index = np.random.randint(m)\n",
        "            X_i = X[rand_index:rand_index+1]\n",
        "            y_i = y[rand_index:rand_index+1]\n",
        "            gradients = 2 * X_i.T.dot(X_i.dot(theta) - y_i)\n",
        "            theta = theta - learning_rate * gradients\n",
        "        cost_history[i] = compute_cost(X, y, theta)\n",
        "\n",
        "    return theta, cost_history\n",
        "\n",
        "# 확률적 경사 하강법 실행\n",
        "theta, cost_history = stochastic_gradient_descent(X_b, y, theta, learning_rate, iterations)\n",
        "\n",
        "# 비용 함수 시각화\n",
        "plt.plot(cost_history)\n",
        "plt.xlabel('Iterations')\n",
        "plt.ylabel('Cost')\n",
        "plt.title('Cost over Iterations')\n",
        "plt.show()"
      ]
    },
    {
      "cell_type": "markdown",
      "metadata": {
        "id": "TmQaCjDKM7au"
      },
      "source": [
        "2-4) load_wine 데이터셋의 첫 번째 두 특징을 사용하여 미니 배치 경사 하강법을 구현하세요. 각 에포크(epoch)마다 비용 함수 값을 계산하고 이를 시각화하세요. (6점)"
      ]
    },
    {
      "cell_type": "code",
      "execution_count": 26,
      "metadata": {
        "id": "3H4TB8f4M7au"
      },
      "outputs": [],
      "source": [
        "# 여기부터 문제입니다\n",
        "\n",
        "from sklearn.datasets import load_wine\n",
        "import numpy as np\n",
        "import matplotlib.pyplot as plt\n",
        "\n",
        "\n",
        "wine = load_wine()\n",
        "X = wine.data[:, :2]\n",
        "y = (wine.target == 0).astype(int).reshape(-1, 1)"
      ]
    },
    {
      "cell_type": "code",
      "execution_count": 27,
      "metadata": {
        "id": "9-h0KCkvM7av",
        "outputId": "32a0bc6d-857f-4cde-86c1-60faa420f427"
      },
      "outputs": [
        {
          "name": "stderr",
          "output_type": "stream",
          "text": [
            "C:\\Users\\Public\\Documents\\ESTsoft\\CreatorTemp\\ipykernel_10644\\313753645.py:29: DeprecationWarning: Conversion of an array with ndim > 0 to a scalar is deprecated, and will error in future. Ensure you extract a single element from your array before performing this operation. (Deprecated NumPy 1.25.)\n",
            "  cost_history[i] = compute_cost(X, y, theta)\n"
          ]
        },
        {
          "data": {
            "image/png": "[encoded data removed]",
            "text/plain": [
              "<Figure size 640x480 with 1 Axes>"
            ]
          },
          "metadata": {},
          "output_type": "display_data"
        }
      ],
      "source": [
        "# 시그모이드 함수\n",
        "def sigmoid(z):\n",
        "    return 1 / (1 + np.exp(-z))\n",
        "\n",
        "# 비용 함수 정의\n",
        "def compute_cost(X, y, theta):\n",
        "    m = len(y)\n",
        "    h = sigmoid(X.dot(theta))\n",
        "    epsilon = 1e-5\n",
        "    cost = -(1/m) * (y.T.dot(np.log(h + epsilon)) + (1 - y).T.dot(np.log(1 - h + epsilon)))\n",
        "    return cost\n",
        "\n",
        "# 미니 배치 경사 하강법 함수 정의\n",
        "def mini_batch_gradient_descent(X, y, theta, learning_rate, iterations, batch_size):\n",
        "    m = len(y)\n",
        "    cost_history = np.zeros(iterations)\n",
        "\n",
        "    for i in range(iterations):\n",
        "        indices = np.random.permutation(m)\n",
        "        X_shuffled = X[indices]\n",
        "        y_shuffled = y[indices]\n",
        "\n",
        "        for j in range(0, m, batch_size):\n",
        "            X_i = X_shuffled[j:j+batch_size]\n",
        "            y_i = y_shuffled[j:j+batch_size]\n",
        "            gradients = (1/batch_size) * X_i.T.dot(sigmoid(X_i.dot(theta)) - y_i)\n",
        "            theta -= learning_rate * gradients\n",
        "\n",
        "        cost_history[i] = compute_cost(X, y, theta)\n",
        "\n",
        "    return theta, cost_history\n",
        "\n",
        "# 데이터 준비 (바이어스 항 추가)\n",
        "X_b = np.c_[np.ones((len(X), 1)), X]\n",
        "\n",
        "# 초기화\n",
        "theta = np.zeros((X_b.shape[1], 1))\n",
        "learning_rate = 0.01\n",
        "iterations = 1000\n",
        "batch_size = 20\n",
        "\n",
        "# 미니 배치 경사 하강법 실행\n",
        "theta, cost_history = mini_batch_gradient_descent(X_b, y, theta, learning_rate, iterations, batch_size)\n",
        "\n",
        "# 비용 함수 시각화\n",
        "plt.plot(cost_history)\n",
        "plt.xlabel('Iterations')\n",
        "plt.ylabel('Cost')\n",
        "plt.title('Cost over Iterations')\n",
        "plt.show()"
      ]
    },
    {
      "cell_type": "markdown",
      "metadata": {
        "id": "ZDW_0WHaM7aw"
      },
      "source": [
        "2-5) 4번 문제에서 미니 배치 경사 하강법으로 학습한 모델을 사용하여 load_wine 데이터셋의 첫 번째 두 특징에 대한 예측을 수행하고, 모델의 정확도를 계산하세요. (5점)"
      ]
    },
    {
      "cell_type": "code",
      "execution_count": 28,
      "metadata": {
        "id": "oM133PjkM7aw",
        "outputId": "ce6436a1-56ef-4152-c6ef-6e03e4d9b30d"
      },
      "outputs": [
        {
          "name": "stdout",
          "output_type": "stream",
          "text": [
            "모델의 정확도: 71.91%\n"
          ]
        }
      ],
      "source": [
        "from sklearn.metrics import accuracy_score\n",
        "\n",
        "# 예측 함수 정의\n",
        "def predict(X, theta):\n",
        "    return sigmoid(X.dot(theta)) >= 0.5\n",
        "\n",
        "# 예측 및 정확도 계산\n",
        "y_pred = predict(X_b, theta)\n",
        "accuracy = accuracy_score(y, y_pred)\n",
        "print(f'모델의 정확도: {accuracy * 100:.2f}%')"
      ]
    }
  ],
  "metadata": {
    "colab": {
      "provenance": []
    },
    "kernelspec": {
      "display_name": "Python 3.12.4 64-bit",
      "language": "python",
      "name": "python3"
    },
    "language_info": {
      "codemirror_mode": {
        "name": "ipython",
        "version": 3
      },
      "file_extension": ".py",
      "mimetype": "text/x-python",
      "name": "python",
      "nbconvert_exporter": "python",
      "pygments_lexer": "ipython3",
      "version": "3.12.4"
    },
    "vscode": {
      "interpreter": {
        "hash": "3fcbd7240ee8f908d933dc7f71e8c42a1a91163b70ede8dcff5146d4087436c7"
      }
    }
  },
  "nbformat": 4,
  "nbformat_minor": 0
}
