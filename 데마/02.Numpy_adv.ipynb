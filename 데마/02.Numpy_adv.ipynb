{
 "cells": [
  {
   "cell_type": "markdown",
   "metadata": {},
   "source": [
    "아래 강의 노트는 [Python for data Analysis 책](https://github.com/wesm/pydata-book)4장을 기반으로 번역 및 편집하여 페이지 구성함  \n",
    "<img src =\"https://image.yes24.com/goods/73268296/800x0\" width=5%>\n",
    "\n",
    " **무단 배포를 금지 합니다.** \n",
    "\n",
    "***"
   ]
  },
  {
   "cell_type": "markdown",
   "metadata": {},
   "source": [
    "# 고급 배열 조작기법\n",
    "## 1. 배열 재형성\n",
    "```reshape``` 를 이용해 새로운 모양을 나태는 튜플을 넘기기"
   ]
  },
  {
   "cell_type": "code",
   "execution_count": 1,
   "metadata": {
    "scrolled": true
   },
   "outputs": [
    {
     "name": "stdout",
     "output_type": "stream",
     "text": [
      "[0 1 2 3 4 5 6 7]\n",
      "[[0 1]\n",
      " [2 3]\n",
      " [4 5]\n",
      " [6 7]]\n"
     ]
    }
   ],
   "source": [
    "import numpy as np\n",
    "arr = np.arange(8)\n",
    "print(arr)\n",
    "arr= arr.reshape((4, 2))\n",
    "print(arr)"
   ]
  },
  {
   "cell_type": "markdown",
   "metadata": {},
   "source": [
    "다차원 배열 또한 재형성 가능"
   ]
  },
  {
   "cell_type": "code",
   "execution_count": 2,
   "metadata": {},
   "outputs": [
    {
     "data": {
      "text/plain": [
       "array([[0, 1, 2, 3],\n",
       "       [4, 5, 6, 7]])"
      ]
     },
     "execution_count": 2,
     "metadata": {},
     "output_type": "execute_result"
    }
   ],
   "source": [
    "arr.reshape((4, 2)).reshape((2, 4))"
   ]
  },
  {
   "cell_type": "markdown",
   "metadata": {},
   "source": [
    "reshpae에 넘기는 값중 하나가 -1 가능    \n",
    "원본 데이터를 참조하여 적절한 값으로 추론"
   ]
  },
  {
   "cell_type": "code",
   "execution_count": 3,
   "metadata": {},
   "outputs": [
    {
     "data": {
      "text/plain": [
       "array([[[ 0],\n",
       "        [ 1],\n",
       "        [ 2],\n",
       "        [ 3],\n",
       "        [ 4]],\n",
       "\n",
       "       [[ 5],\n",
       "        [ 6],\n",
       "        [ 7],\n",
       "        [ 8],\n",
       "        [ 9]],\n",
       "\n",
       "       [[10],\n",
       "        [11],\n",
       "        [12],\n",
       "        [13],\n",
       "        [14]]])"
      ]
     },
     "execution_count": 3,
     "metadata": {},
     "output_type": "execute_result"
    }
   ],
   "source": [
    "arr = np.arange(15)#0~14\n",
    "arr=arr.reshape((3, 5, -1)) # 3 x 5 x1\n",
    "arr"
   ]
  },
  {
   "cell_type": "code",
   "execution_count": 4,
   "metadata": {},
   "outputs": [
    {
     "data": {
      "text/plain": [
       "array([[ 0,  1,  2,  3,  4],\n",
       "       [ 5,  6,  7,  8,  9],\n",
       "       [10, 11, 12, 13, 14]])"
      ]
     },
     "execution_count": 4,
     "metadata": {},
     "output_type": "execute_result"
    }
   ],
   "source": [
    "arr.reshape((3, -1))"
   ]
  },
  {
   "cell_type": "markdown",
   "metadata": {},
   "source": [
    "다차원 배열을 낮은 차원으로 **평탄화(flattening raveling)** 가능 "
   ]
  },
  {
   "cell_type": "code",
   "execution_count": 5,
   "metadata": {},
   "outputs": [
    {
     "data": {
      "text/plain": [
       "array([[ 0,  1,  2],\n",
       "       [ 3,  4,  5],\n",
       "       [ 6,  7,  8],\n",
       "       [ 9, 10, 11],\n",
       "       [12, 13, 14]])"
      ]
     },
     "execution_count": 5,
     "metadata": {},
     "output_type": "execute_result"
    }
   ],
   "source": [
    "arr = np.arange(15).reshape((5, 3))\n",
    "arr"
   ]
  },
  {
   "cell_type": "code",
   "execution_count": 6,
   "metadata": {},
   "outputs": [
    {
     "data": {
      "text/plain": [
       "array([ 0,  1,  2,  3,  4,  5,  6,  7,  8,  9, 10, 11, 12, 13, 14])"
      ]
     },
     "execution_count": 6,
     "metadata": {},
     "output_type": "execute_result"
    }
   ],
   "source": [
    "arr = arr.ravel()\n",
    "arr"
   ]
  },
  {
   "cell_type": "code",
   "execution_count": 7,
   "metadata": {},
   "outputs": [
    {
     "data": {
      "text/plain": [
       "array([ 0,  1,  2,  3,  4,  5,  6,  7,  8,  9, 10, 11, 12, 13, 14])"
      ]
     },
     "execution_count": 7,
     "metadata": {},
     "output_type": "execute_result"
    }
   ],
   "source": [
    "arr = np.arange(15).reshape((5, 3))\n",
    "arr.flatten()"
   ]
  },
  {
   "cell_type": "markdown",
   "metadata": {},
   "source": [
    "## 2.  배열 이어 붙이고 나누기"
   ]
  },
  {
   "cell_type": "code",
   "execution_count": 8,
   "metadata": {},
   "outputs": [],
   "source": [
    "arr1 = np.array([[1, 2, 3], [4, 5, 6]]) # 2X3\n",
    "arr2 = np.array([[7, 8, 9], [10, 11, 12]])  #2x3"
   ]
  },
  {
   "cell_type": "code",
   "execution_count": 9,
   "metadata": {},
   "outputs": [
    {
     "data": {
      "text/plain": [
       "array([[ 1,  2,  3],\n",
       "       [ 4,  5,  6],\n",
       "       [ 7,  8,  9],\n",
       "       [10, 11, 12]])"
      ]
     },
     "execution_count": 9,
     "metadata": {},
     "output_type": "execute_result"
    }
   ],
   "source": [
    "np.concatenate([arr1, arr2], axis=0) # 4 x 3"
   ]
  },
  {
   "cell_type": "code",
   "execution_count": 10,
   "metadata": {},
   "outputs": [
    {
     "data": {
      "text/plain": [
       "array([[ 1,  2,  3,  7,  8,  9],\n",
       "       [ 4,  5,  6, 10, 11, 12]])"
      ]
     },
     "execution_count": 10,
     "metadata": {},
     "output_type": "execute_result"
    }
   ],
   "source": [
    "np.concatenate([arr1, arr2], axis=1) # 2 x 6"
   ]
  },
  {
   "cell_type": "code",
   "execution_count": 11,
   "metadata": {},
   "outputs": [
    {
     "data": {
      "text/plain": [
       "array([[ 1,  2,  3],\n",
       "       [ 4,  5,  6],\n",
       "       [ 7,  8,  9],\n",
       "       [10, 11, 12]])"
      ]
     },
     "execution_count": 11,
     "metadata": {},
     "output_type": "execute_result"
    }
   ],
   "source": [
    "np.vstack((arr1, arr2)) #np.concatenate([arr1, arr2], axis=0)"
   ]
  },
  {
   "cell_type": "code",
   "execution_count": 12,
   "metadata": {},
   "outputs": [
    {
     "data": {
      "text/plain": [
       "array([[ 1,  2,  3,  7,  8,  9],\n",
       "       [ 4,  5,  6, 10, 11, 12]])"
      ]
     },
     "execution_count": 12,
     "metadata": {},
     "output_type": "execute_result"
    }
   ],
   "source": [
    "np.hstack((arr1, arr2)) #np.concatenate([arr1, arr2], axis=1)"
   ]
  },
  {
   "cell_type": "markdown",
   "metadata": {},
   "source": [
    "```split``` 매서드를 사용하면 하나의 배열을 축을 따라 여러개의 배열로 나눌 수 있음\n",
    "여기에서 [2,3]은 split되는 인덱스를 의미 "
   ]
  },
  {
   "cell_type": "code",
   "execution_count": 2,
   "metadata": {},
   "outputs": [],
   "source": [
    "import numpy as np"
   ]
  },
  {
   "cell_type": "code",
   "execution_count": 3,
   "metadata": {},
   "outputs": [
    {
     "name": "stdout",
     "output_type": "stream",
     "text": [
      "[[-1.36445626  1.36636545]\n",
      " [-0.27903898  1.13883515]\n",
      " [ 1.79797219 -0.44815998]\n",
      " [ 1.42853957 -0.65986392]\n",
      " [-0.88109154  0.42092222]]\n"
     ]
    }
   ],
   "source": [
    "arr = np.random.randn(5, 2)\n",
    "print(arr)\n",
    "first, second, third = np.split(arr, [1, 2])"
   ]
  },
  {
   "cell_type": "code",
   "execution_count": 4,
   "metadata": {},
   "outputs": [
    {
     "data": {
      "text/plain": [
       "array([[-1.36445626,  1.36636545]])"
      ]
     },
     "execution_count": 4,
     "metadata": {},
     "output_type": "execute_result"
    }
   ],
   "source": [
    "first"
   ]
  },
  {
   "cell_type": "code",
   "execution_count": 15,
   "metadata": {},
   "outputs": [
    {
     "data": {
      "text/plain": [
       "array([[-0.19249557, -0.21311584]])"
      ]
     },
     "execution_count": 15,
     "metadata": {},
     "output_type": "execute_result"
    }
   ],
   "source": [
    "second"
   ]
  },
  {
   "cell_type": "code",
   "execution_count": 16,
   "metadata": {},
   "outputs": [
    {
     "data": {
      "text/plain": [
       "array([[ 1.83917072, -0.50240216],\n",
       "       [-0.22958529, -0.16704125],\n",
       "       [ 0.70771715,  0.09687626]])"
      ]
     },
     "execution_count": 16,
     "metadata": {},
     "output_type": "execute_result"
    }
   ],
   "source": [
    "third"
   ]
  },
  {
   "cell_type": "markdown",
   "metadata": {},
   "source": [
    "## 3. 반복 엘리먼트"
   ]
  },
  {
   "cell_type": "markdown",
   "metadata": {},
   "source": [
    "큰 배열을 만들기 위해 배열을 복사하거나 복제하는 함수로 ```repeat```와 ```tile```이 있다.    \n",
    "```repeat```는 한 배열의 각 원소를 원하는 만큼 복제해서 큰 배열을 생성"
   ]
  },
  {
   "cell_type": "code",
   "execution_count": 1,
   "metadata": {},
   "outputs": [
    {
     "name": "stdout",
     "output_type": "stream",
     "text": [
      "[0 1 2]\n"
     ]
    },
    {
     "data": {
      "text/plain": [
       "array([0, 0, 0, 1, 1, 1, 2, 2, 2])"
      ]
     },
     "execution_count": 1,
     "metadata": {},
     "output_type": "execute_result"
    }
   ],
   "source": [
    "arr = np.arange(3)  # 0 1 2 \n",
    "print(arr)\n",
    "arr.repeat(3) # 000 111 222 "
   ]
  },
  {
   "cell_type": "code",
   "execution_count": 2,
   "metadata": {},
   "outputs": [
    {
     "name": "stdout",
     "output_type": "stream",
     "text": [
      "[[ 1.11533109  0.55882597]\n",
      " [-0.05660742 -1.78747451]]\n"
     ]
    },
    {
     "data": {
      "text/plain": [
       "array([[ 1.11533109,  1.11533109,  0.55882597,  0.55882597],\n",
       "       [ 1.11533109,  1.11533109,  0.55882597,  0.55882597],\n",
       "       [-0.05660742, -0.05660742, -1.78747451, -1.78747451],\n",
       "       [-0.05660742, -0.05660742, -1.78747451, -1.78747451]])"
      ]
     },
     "execution_count": 2,
     "metadata": {},
     "output_type": "execute_result"
    }
   ],
   "source": [
    "arr = np.random.randn(2, 2)\n",
    "print(arr)\n",
    "arr = arr.repeat(2, axis=0)\n",
    "arr.repeat(2, axis=1)\n",
    "\n"
   ]
  },
  {
   "cell_type": "markdown",
   "metadata": {},
   "source": [
    "```tile```은  축을 따라 배열을 복사해서 쌓는 함수 <br>타일을 이어 붙이듯이 같은 내용의 배열을 이어 붙이기"
   ]
  },
  {
   "cell_type": "code",
   "execution_count": 4,
   "metadata": {},
   "outputs": [
    {
     "name": "stdout",
     "output_type": "stream",
     "text": [
      "[[0.04061595 0.13505418]\n",
      " [0.42147568 1.13623832]]\n"
     ]
    },
    {
     "data": {
      "text/plain": [
       "array([[0.04061595, 0.13505418, 0.04061595, 0.13505418],\n",
       "       [0.42147568, 1.13623832, 0.42147568, 1.13623832],\n",
       "       [0.04061595, 0.13505418, 0.04061595, 0.13505418],\n",
       "       [0.42147568, 1.13623832, 0.42147568, 1.13623832]])"
      ]
     },
     "execution_count": 4,
     "metadata": {},
     "output_type": "execute_result"
    }
   ],
   "source": [
    "import numpy as np\n",
    "arr = np.random.randn(2, 2)\n",
    "print(arr)\n",
    "np.tile(arr, (2, 2))"
   ]
  },
  {
   "cell_type": "code",
   "execution_count": 5,
   "metadata": {},
   "outputs": [
    {
     "data": {
      "text/plain": [
       "array([[0.04061595, 0.13505418, 0.04061595, 0.13505418],\n",
       "       [0.42147568, 1.13623832, 0.42147568, 1.13623832],\n",
       "       [0.04061595, 0.13505418, 0.04061595, 0.13505418],\n",
       "       [0.42147568, 1.13623832, 0.42147568, 1.13623832]])"
      ]
     },
     "execution_count": 5,
     "metadata": {},
     "output_type": "execute_result"
    }
   ],
   "source": [
    "np.tile(arr,(2, 2))"
   ]
  },
  {
   "cell_type": "markdown",
   "metadata": {},
   "source": [
    "## 4. 브로드캐스팅 <br>\n",
    "\n",
    "다른 모양의 배열 간의 산술연산을 어떻게 수행 하는 지 설명   \n",
    "**브로드 캐스팅 규칙:**   \n",
    "이어지는 각 차원에 대해 축의 길이가 일치 하거나 둘중 하나가 길이가 1이라면 두 배열을 브로드캐스팅 호환이다.   \n",
    "브로드캐트닝은 누락된 혹은 길이가 1인 차원에 대해 수행   \n",
    "<img src=\"https://i.pinimg.com/736x/95/db/fa/95dbfa11a4f650c55823da7111f1c2ef.jpg\" width=50%> "
   ]
  },
  {
   "cell_type": "code",
   "execution_count": 5,
   "metadata": {},
   "outputs": [
    {
     "name": "stdout",
     "output_type": "stream",
     "text": [
      "[[ 5. -9.  5.]\n",
      " [11.  2.  3.]\n",
      " [ 4.  7.  1.]\n",
      " [ 8. -3. 11.]]\n",
      "arr2\n",
      "\n",
      " [  5.  -7. -10.]\n"
     ]
    },
    {
     "data": {
      "text/plain": [
       "array([[ 10., -16.,  -5.],\n",
       "       [ 16.,  -5.,  -7.],\n",
       "       [  9.,   0.,  -9.],\n",
       "       [ 13., -10.,   1.]])"
      ]
     },
     "execution_count": 5,
     "metadata": {},
     "output_type": "execute_result"
    }
   ],
   "source": [
    "arr1 = np.around(np.random.randn(4, 3)*10)\n",
    "print(arr1)\n",
    "arr2 =np.around(np.random.randn(3,)*10) \n",
    "print(\"arr2\\n\\n\",arr2)\n",
    "arr1 + arr2"
   ]
  },
  {
   "cell_type": "markdown",
   "metadata": {},
   "source": [
    "아래 예제는 4x3행렬을 만들고 각 행에 대한 평균값을 뺀다고 가정 "
   ]
  },
  {
   "cell_type": "code",
   "execution_count": 3,
   "metadata": {},
   "outputs": [
    {
     "name": "stdout",
     "output_type": "stream",
     "text": [
      "[[ 25.   5.  -8.]\n",
      " [-11. -19.  -8.]\n",
      " [ -7. -13.   6.]\n",
      " [ -8. -14.  -6.]]\n",
      "[  7.33333333 -12.66666667  -4.66666667  -9.33333333]\n",
      "(4,)\n"
     ]
    }
   ],
   "source": [
    "arr1 = np.around(np.random.randn(4, 3)*10)\n",
    "print(arr1)\n",
    "row_mean = arr1.mean(1)\n",
    "print(row_mean)\n",
    "print(row_mean.shape)\n"
   ]
  },
  {
   "cell_type": "markdown",
   "metadata": {},
   "source": [
    "<img src=\"https://i.pinimg.com/736x/95/db/fa/95dbfa11a4f650c55823da7111f1c2ef.jpg\" width=50%>   \n",
    "아래는 3차원 배열의 0번축에 대해 2차원 배열의 값을 더하는 과정\n",
    "<img src=\"https://t1.daumcdn.net/cfile/tistory/992C603359DA68C815\" width=50%>"
   ]
  },
  {
   "cell_type": "markdown",
   "metadata": {},
   "source": [
    "다차원의 배열에서 브로드캐스팅은 규칙을 잘 따라야 계산 <br><br>\n",
    "아래는 차원이 맞지 않을 경우에 대한 에러"
   ]
  },
  {
   "cell_type": "code",
   "execution_count": 4,
   "metadata": {},
   "outputs": [
    {
     "ename": "ValueError",
     "evalue": "operands could not be broadcast together with shapes (4,3) (4,) ",
     "output_type": "error",
     "traceback": [
      "\u001b[0;31m---------------------------------------------------------------------------\u001b[0m",
      "\u001b[0;31mValueError\u001b[0m                                Traceback (most recent call last)",
      "Cell \u001b[0;32mIn[4], line 3\u001b[0m\n\u001b[1;32m      1\u001b[0m dim_main_sub \u001b[38;5;241m=\u001b[39m arr1 \u001b[38;5;241m-\u001b[39m row_mean\u001b[38;5;241m.\u001b[39mreshape(\u001b[38;5;241m4\u001b[39m,\u001b[38;5;241m1\u001b[39m) \u001b[38;5;66;03m#아래는 차원이 맞은 브로드캐스팅\u001b[39;00m\n\u001b[1;32m      2\u001b[0m dim_main_sub\n\u001b[0;32m----> 3\u001b[0m dim_main_sub \u001b[38;5;241m=\u001b[39m \u001b[43marr1\u001b[49m\u001b[43m \u001b[49m\u001b[38;5;241;43m-\u001b[39;49m\u001b[43m \u001b[49m\u001b[43mrow_mean\u001b[49m \u001b[38;5;66;03m#아래는 차원이 맞지 않을 경우에 대한 에러\u001b[39;00m\n",
      "\u001b[0;31mValueError\u001b[0m: operands could not be broadcast together with shapes (4,3) (4,) "
     ]
    }
   ],
   "source": [
    "dim_main_sub = arr1 - row_mean.reshape(4,1) #아래는 차원이 맞은 브로드캐스팅\n",
    "dim_main_sub\n",
    "dim_main_sub = arr1 - row_mean #아래는 차원이 맞지 않을 경우에 대한 에러"
   ]
  },
  {
   "cell_type": "markdown",
   "metadata": {},
   "source": [
    "<img src=\"http://www.astroml.org/_images/fig_broadcast_visual_1.png\">"
   ]
  },
  {
   "cell_type": "code",
   "execution_count": 9,
   "metadata": {},
   "outputs": [
    {
     "data": {
      "text/plain": [
       "array([0, 2, 4])"
      ]
     },
     "execution_count": 9,
     "metadata": {},
     "output_type": "execute_result"
    }
   ],
   "source": [
    "np.arange(3)+np.arange(3)"
   ]
  },
  {
   "cell_type": "markdown",
   "metadata": {},
   "source": [
    "## 5 .배열 데이터의 파일 입출력\n",
    "* ```np.save(arr_name, arr)``` : arr_name으로 지정하여 배열 arr을 디스크에 저장\n",
    "    * 압축되지 않은 원시 바이너리 형식의 .npy 파일로 저장됨\n",
    "* ```np.load('arr_name.npy')``` : 배열을 불러옴\n",
    "* ```np.savez('arr_name', a=arr, b=arr)``` : 여러 배열을 압축된 형식으로 저장\n",
    "    + 저장하려는 배열을 키워드 인자 형태로 전달\n",
    "    +각각의 배열을 필요할 때 불러올 수 있도록 사전 형식의 객체에 저장함"
   ]
  },
  {
   "cell_type": "code",
   "execution_count": null,
   "metadata": {},
   "outputs": [],
   "source": [
    "# 배열 데이터의 파일 입출력\n",
    "def fileIO_array():\n",
    "    arr = np.arange(10)\n",
    "    np.save(\"some_array\", arr) # 바이너리 포맷 파일로 데이터 저장\n",
    "    ld = np.load(\"some_array.npy\") # load, save 메소드로 파일 입출력 처리 가능\n",
    "    print(ld)\n",
    "    \n",
    "    # savez로 압축되지 않은 묶음 형식으로 다중 배열을 저장\n",
    "    np.savez(\"array_archive.npz\", a=arr, b=arr) # a와 b에 배열 저장\n",
    "    arch = np.load(\"array_archive.npz\") # 배열 데이터는 사전 형식의 객체로 불러옴\n",
    "    print(arch['b']) # b에 저장한 배열 출력"
   ]
  },
  {
   "cell_type": "markdown",
   "metadata": {},
   "source": [
    "## 6. 선형 대수 (Linear Algebra)"
   ]
  },
  {
   "cell_type": "markdown",
   "metadata": {},
   "source": [
    "* 배열 기반 프로그래밍에서 선형 대수는 매우 중요 (행렬 곱셈, 분할, 행렬식, 정사각 행렬 수학 등의 선형대수\n",
    "* 행렬의 곱셈은 * 가 아닌 ```np.dot()``` 함수를 사용하자\n",
    "* 파이썬 v3.5 이후부터 행렬곱 연산자로 @ 사용 가능 ```print(x @ np.ones(3))```"
   ]
  },
  {
   "cell_type": "code",
   "execution_count": 7,
   "metadata": {},
   "outputs": [
    {
     "name": "stdout",
     "output_type": "stream",
     "text": [
      "[[ 28  64]\n",
      " [ 67 181]]\n",
      "[ 6. 15.]\n"
     ]
    }
   ],
   "source": [
    "x = np.array([[1,2,3],[4,5,6]])\n",
    "y = np.array([[6,23],[-1,7],[8,9]])\n",
    "\n",
    "ret = x.dot(y) # x와 y의 행렬 곱  => ret = np.dot(x,y)와 동일\n",
    "print(ret)\n",
    "\n",
    "print(x @ np.ones(3))"
   ]
  },
  {
   "cell_type": "markdown",
   "metadata": {},
   "source": [
    "## 7. 난수 생성 (Random Number Generation)\n",
    "* ```numpy.random``` 모듈은 파이썬 내장 random 함수를 보강하여, 다양한 종류의 확률분포로부터 효과적으로 표본값을 생성하는데 주로 사용됨\n",
    "* 한 번에 하나의 값만 생성하는 파이썬 ```random``` 모듈과 다르게 ```numpy.random```은 매우 큰 크기의 표본을 생성하는데 빠르다\n",
    "* ```normal()``` 을 사용해 표준정규분포로부터 4x4 크기의 표본을 생성해보자."
   ]
  },
  {
   "cell_type": "code",
   "execution_count": 11,
   "metadata": {},
   "outputs": [
    {
     "name": "stdout",
     "output_type": "stream",
     "text": [
      "[[ 1.48018637 -1.47789221  1.01840079  0.11999494]\n",
      " [ 0.52227278 -0.32700703  0.15563268  1.4348711 ]\n",
      " [ 0.06319012 -0.15518642  0.08579881  1.07648217]\n",
      " [ 0.47172334  0.16681384 -0.77381811 -1.72136348]]\n"
     ]
    }
   ],
   "source": [
    "samples = np.random.normal(size=(4,4))\n",
    "print(samples)"
   ]
  },
  {
   "cell_type": "markdown",
   "metadata": {},
   "source": [
    "#### Random Points (계단 오르내리기 예제)\n",
    "\n",
    "* 배열 연산의 활용을 보여주는 간단한 애플리케이션을 구현해보자.\n",
    "\n",
    "* 계단 중간에서 같은 확률로 한 계단 올라가거나 내려간다.\n",
    "\n",
    "* 순수 파이썬으로 내장 random 모듈을 사용한 경우"
   ]
  },
  {
   "cell_type": "code",
   "execution_count": 20,
   "metadata": {},
   "outputs": [
    {
     "data": {
      "image/png": "[encoded data removed]",
      "text/plain": [
       "<Figure size 640x480 with 1 Axes>"
      ]
     },
     "metadata": {},
     "output_type": "display_data"
    }
   ],
   "source": [
    "import matplotlib.pyplot as plt\n",
    "import numpy as np\n",
    "import random\n",
    "\n",
    "position = 0\n",
    "walk = [position]\n",
    "steps = 1000\n",
    "for i in range(steps):\n",
    "    step = 1 if random.randint(0,1) else -1\n",
    "    position += step\n",
    "    walk.append(position)\n",
    "\n",
    "    \n",
    "    \n",
    "plt.plot(walk[:100])\n",
    "plt.show()\n"
   ]
  },
  {
   "cell_type": "markdown",
   "metadata": {},
   "source": [
    "np.random 모듈을 사용해 1000번 +1. -1 수행한 결과를 한번에 저장하고 누적합 계산하기"
   ]
  },
  {
   "cell_type": "code",
   "execution_count": 21,
   "metadata": {},
   "outputs": [
    {
     "data": {
      "image/png": "[encoded data removed]",
      "text/plain": [
       "<Figure size 640x480 with 1 Axes>"
      ]
     },
     "metadata": {},
     "output_type": "display_data"
    }
   ],
   "source": [
    "nsteps = 2000\n",
    "# line 1: \n",
    "steps = np.random.randint(0, 2, size=nsteps)\n",
    "# line 2\n",
    "steps[steps==0] = -1\n",
    "# line 3\n",
    "walk = steps.cumsum()\n",
    "plt.plot(walk[:100])\n",
    "plt.show()\n"
   ]
  }
 ],
 "metadata": {
  "kernelspec": {
   "display_name": "Python 3",
   "language": "python",
   "name": "python3"
  },
  "language_info": {
   "codemirror_mode": {
    "name": "ipython",
    "version": 3
   },
   "file_extension": ".py",
   "mimetype": "text/x-python",
   "name": "python",
   "nbconvert_exporter": "python",
   "pygments_lexer": "ipython3",
   "version": "3.10.10"
  },
  "varInspector": {
   "cols": {
    "lenName": 16,
    "lenType": 16,
    "lenVar": 40
   },
   "kernels_config": {
    "python": {
     "delete_cmd_postfix": "",
     "delete_cmd_prefix": "del ",
     "library": "var_list.py",
     "varRefreshCmd": "print(var_dic_list())"
    },
    "r": {
     "delete_cmd_postfix": ") ",
     "delete_cmd_prefix": "rm(",
     "library": "var_list.r",
     "varRefreshCmd": "cat(var_dic_list()) "
    }
   },
   "types_to_exclude": [
    "module",
    "function",
    "builtin_function_or_method",
    "instance",
    "_Feature"
   ],
   "window_display": false
  }
 },
 "nbformat": 4,
 "nbformat_minor": 4
}
