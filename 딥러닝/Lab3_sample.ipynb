{
 "cells": [
  {
   "cell_type": "markdown",
   "metadata": {},
   "source": [
    "# Class 활용"
   ]
  },
  {
   "cell_type": "code",
   "execution_count": null,
   "metadata": {},
   "outputs": [],
   "source": [
    "\n",
    "# 먼저 불러오기\n",
    "\n",
    "from sklearn import datasets, metrics\n",
    "from sklearn.model_selection import train_test_split\n",
    "from sklearn.naive_bayes import GaussianNB\n",
    "from sklearn.tree import DecisionTreeClassifier\n",
    "from sklearn.ensemble import AdaBoostClassifier\n",
    "import matplotlib.pyplot as plt\n",
    "# 모델을 자동으로 평가하는 클래스\n",
    "\n",
    "class ModelComparator:\n",
    "    model = [GaussianNB(), DecisionTreeClassifier(), AdaBoostClassifier()]\n",
    "\n",
    "    def __init__(self, X, y):\n",
    "        self.X_train, self.X_test, self.y_train,self.y_test = train_test_split(X,y,test_size=0.2,random_state=4)\n",
    "    \n",
    "    def compare_model(self):\n",
    "\n",
    "        for m in self.model:\n",
    "            m.fit(self.X_train, self.y_train)\n",
    "            print(\"Model: \", m, \", Score:\", metrics.accuracy_score(self.y_test, m.predict(self.X_test)))\n",
    "\n",
    "# iris data \n",
    "iris = datasets.load_iris()\n",
    "\n",
    "X = iris.data\n",
    "y = iris.target\n",
    "\n",
    "irisCompare = ModelComparator(X, y)\n",
    "irisCompare.compare_model()\n",
    "\n",
    "\n",
    "# digit  data\n",
    "digit = datasets.load_digits()\n",
    "X = digit.data\n",
    "y = digit.target\n",
    "\n",
    "digitCompare = ModelComparator(X, y)\n",
    "digitCompare.compare_model()"
   ]
  },
  {
   "cell_type": "markdown",
   "metadata": {},
   "source": [
    "# 단순 함수 사용"
   ]
  },
  {
   "cell_type": "code",
   "execution_count": null,
   "metadata": {},
   "outputs": [],
   "source": [
    "# 데이터 분할\n",
    "def load_data():\n",
    "    iris = datasets.load_iris()\n",
    "    X = iris.data\n",
    "    y = iris.target\n",
    "    return train_test_split(X, y, test_size=0.2, random_state=4)\n",
    "# 모델 생성 및 학습\n",
    "def model_prediction(model, X_train, X_test, y_train, y_test, title):\n",
    "    model.fit(X_train, y_train)\n",
    "    y_pred = model.predict(X_test)\n",
    "    score = metrics.accuracy_score(y_test, y_pred)\n",
    "    print(title, score)\n",
    "def main():\n",
    "    X_train,X_test,y_train,y_test = load_data()\n",
    "    \n",
    "    model = KNeighborsClassifier(n_neighbors=6)\n",
    "    model_prediction(model, X_train,X_test,y_train,y_test, \"Result Of KNeighborsClassifier():\")\n",
    "\n",
    "    model = GaussianNB()\n",
    "    model_prediction(model, X_train,X_test,y_train,y_test, \"Result Of GaussianNB():\")\n",
    "\n",
    "    model = DecisionTreeClassifier()\n",
    "    model_prediction(model, X_train,X_test,y_train,y_test, \"Result Of DecisionTreeClassifier():\")\n",
    "    \n",
    "    model = AdaBoostClassifier(algorithm='SAMME')\n",
    "    model_prediction(model, X_train,X_test,y_train,y_test, \"Result Of AdaBoost():\")\n",
    "if __name__ == \"__main__\":\n",
    "    main()\n",
    "        "
   ]
  }
 ],
 "metadata": {
  "language_info": {
   "name": "python"
  }
 },
 "nbformat": 4,
 "nbformat_minor": 2
}
