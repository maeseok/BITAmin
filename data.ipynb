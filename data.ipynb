{
 "cells": [
  {
   "cell_type": "code",
   "execution_count": 1,
   "metadata": {},
   "outputs": [
    {
     "name": "stdout",
     "output_type": "stream",
     "text": [
      "(19374, 15)\n",
      "wav_id     0\n",
      "발화문        0\n",
      "상황         0\n",
      "1번 감정      0\n",
      "1번 감정세기    0\n",
      "2번 감정      0\n",
      "2번 감정세기    0\n",
      "3번 감정      0\n",
      "3번 감정세기    0\n",
      "4번 감정      0\n",
      "4번감정세기     0\n",
      "5번 감정      0\n",
      "5번 감정세기    0\n",
      "나이         0\n",
      "성별         0\n",
      "dtype: int64\n"
     ]
    },
    {
     "data": {
      "text/plain": [
       "happiness    4548\n",
       "angry        3263\n",
       "neutral      3253\n",
       "sadness      2848\n",
       "disgust      2321\n",
       "surprise     1755\n",
       "fear         1386\n",
       "Name: 상황, dtype: int64"
      ]
     },
     "execution_count": 1,
     "metadata": {},
     "output_type": "execute_result"
    }
   ],
   "source": [
    "import pandas as pd\n",
    "\n",
    "data = pd.read_csv('./5차년도_2차.csv', encoding='CP949')\n",
    "\n",
    "# 데이터 shape\n",
    "print(data.shape)\n",
    "# 전체 감정의 수\n",
    "emotion_counts = data['상황'].value_counts()\n",
    "emotion_counts"
   ]
  },
  {
   "cell_type": "markdown",
   "metadata": {},
   "source": [
    "##### 아마 5명이 해당 음성에 대해 주관적으로 평가한 것 같음 -> 구체적으로 진행하면 복잡해지기에 우선 상황을 기준을 해당 감정이라고 생각하고 진행 "
   ]
  },
  {
   "cell_type": "code",
   "execution_count": 22,
   "metadata": {},
   "outputs": [
    {
     "name": "stdout",
     "output_type": "stream",
     "text": [
      "0.0715391762155466\n"
     ]
    }
   ],
   "source": [
    "# 두려움은 약 7%\n",
    "fear_data = data[data['상황']=='fear']\n",
    "print(len(fear_data)/len(data))"
   ]
  },
  {
   "cell_type": "code",
   "execution_count": 4,
   "metadata": {},
   "outputs": [],
   "source": [
    "data['1번 감정'] = data['1번 감정'].apply(str.lower)\n",
    "data['2번 감정'] = data['2번 감정'].apply(str.lower)\n",
    "data['3번 감정'] = data['3번 감정'].apply(str.lower)\n",
    "data['4번 감정'] = data['4번 감정'].apply(str.lower)\n",
    "data['5번 감정'] = data['5번 감정'].apply(str.lower)"
   ]
  },
  {
   "cell_type": "code",
   "execution_count": 9,
   "metadata": {},
   "outputs": [
    {
     "data": {
      "text/html": [
       "<div>\n",
       "<style scoped>\n",
       "    .dataframe tbody tr th:only-of-type {\n",
       "        vertical-align: middle;\n",
       "    }\n",
       "\n",
       "    .dataframe tbody tr th {\n",
       "        vertical-align: top;\n",
       "    }\n",
       "\n",
       "    .dataframe thead th {\n",
       "        text-align: right;\n",
       "    }\n",
       "</style>\n",
       "<table border=\"1\" class=\"dataframe\">\n",
       "  <thead>\n",
       "    <tr style=\"text-align: right;\">\n",
       "      <th></th>\n",
       "      <th>wav_id</th>\n",
       "      <th>발화문</th>\n",
       "      <th>상황</th>\n",
       "    </tr>\n",
       "  </thead>\n",
       "  <tbody>\n",
       "    <tr>\n",
       "      <th>0</th>\n",
       "      <td>5f4141e29dd513131eacee2f</td>\n",
       "      <td>헐! 나 이벤트에 당첨 됐어.</td>\n",
       "      <td>happiness</td>\n",
       "    </tr>\n",
       "    <tr>\n",
       "      <th>1</th>\n",
       "      <td>5f4141f59dd513131eacee30</td>\n",
       "      <td>내가 좋아하는 인플루언서가 이벤트를 하더라고. 그래서 그냥 신청 한번 해봤지.</td>\n",
       "      <td>happiness</td>\n",
       "    </tr>\n",
       "    <tr>\n",
       "      <th>2</th>\n",
       "      <td>5f4142119dd513131eacee31</td>\n",
       "      <td>한 명 뽑는 거였는데, 그게 바로 내가 된 거야.</td>\n",
       "      <td>happiness</td>\n",
       "    </tr>\n",
       "    <tr>\n",
       "      <th>3</th>\n",
       "      <td>5f4142279dd513131eacee32</td>\n",
       "      <td>당연히 마음에 드는 선물이니깐, 이벤트에 내가 신청 한번 해본 거지. 비싼 거야. ...</td>\n",
       "      <td>happiness</td>\n",
       "    </tr>\n",
       "    <tr>\n",
       "      <th>4</th>\n",
       "      <td>5f3c9ed98a3c1005aa97c4bd</td>\n",
       "      <td>에피타이저 정말 좋아해. 그 것도 괜찮은 생각인 것 같애.</td>\n",
       "      <td>happiness</td>\n",
       "    </tr>\n",
       "    <tr>\n",
       "      <th>...</th>\n",
       "      <td>...</td>\n",
       "      <td>...</td>\n",
       "      <td>...</td>\n",
       "    </tr>\n",
       "    <tr>\n",
       "      <th>19369</th>\n",
       "      <td>5fbe313c44697678c497c05a</td>\n",
       "      <td>나 엘리베이터에 갇혔어.</td>\n",
       "      <td>sadness</td>\n",
       "    </tr>\n",
       "    <tr>\n",
       "      <th>19370</th>\n",
       "      <td>5fbe251044697678c497bfb8</td>\n",
       "      <td>하지만 기분이 나쁜 걸 어떡해?</td>\n",
       "      <td>sadness</td>\n",
       "    </tr>\n",
       "    <tr>\n",
       "      <th>19371</th>\n",
       "      <td>5fbe31584c55eb78bd7cee7f</td>\n",
       "      <td>자취방 엘리베이턴데 정전인가봐.</td>\n",
       "      <td>sadness</td>\n",
       "    </tr>\n",
       "    <tr>\n",
       "      <th>19372</th>\n",
       "      <td>5fbe2f8544697678c497c047</td>\n",
       "      <td>나 드디어 프로젝트 끝났어!</td>\n",
       "      <td>sadness</td>\n",
       "    </tr>\n",
       "    <tr>\n",
       "      <th>19373</th>\n",
       "      <td>5fbe36714c55eb78bd7ceea3</td>\n",
       "      <td>걱정해줘서 고마워.</td>\n",
       "      <td>angry</td>\n",
       "    </tr>\n",
       "  </tbody>\n",
       "</table>\n",
       "<p>19374 rows × 3 columns</p>\n",
       "</div>"
      ],
      "text/plain": [
       "                         wav_id  \\\n",
       "0      5f4141e29dd513131eacee2f   \n",
       "1      5f4141f59dd513131eacee30   \n",
       "2      5f4142119dd513131eacee31   \n",
       "3      5f4142279dd513131eacee32   \n",
       "4      5f3c9ed98a3c1005aa97c4bd   \n",
       "...                         ...   \n",
       "19369  5fbe313c44697678c497c05a   \n",
       "19370  5fbe251044697678c497bfb8   \n",
       "19371  5fbe31584c55eb78bd7cee7f   \n",
       "19372  5fbe2f8544697678c497c047   \n",
       "19373  5fbe36714c55eb78bd7ceea3   \n",
       "\n",
       "                                                     발화문         상황  \n",
       "0                                       헐! 나 이벤트에 당첨 됐어.  happiness  \n",
       "1            내가 좋아하는 인플루언서가 이벤트를 하더라고. 그래서 그냥 신청 한번 해봤지.  happiness  \n",
       "2                            한 명 뽑는 거였는데, 그게 바로 내가 된 거야.  happiness  \n",
       "3      당연히 마음에 드는 선물이니깐, 이벤트에 내가 신청 한번 해본 거지. 비싼 거야. ...  happiness  \n",
       "4                       에피타이저 정말 좋아해. 그 것도 괜찮은 생각인 것 같애.  happiness  \n",
       "...                                                  ...        ...  \n",
       "19369                                      나 엘리베이터에 갇혔어.    sadness  \n",
       "19370                                  하지만 기분이 나쁜 걸 어떡해?    sadness  \n",
       "19371                                  자취방 엘리베이턴데 정전인가봐.    sadness  \n",
       "19372                                    나 드디어 프로젝트 끝났어!    sadness  \n",
       "19373                                         걱정해줘서 고마워.      angry  \n",
       "\n",
       "[19374 rows x 3 columns]"
      ]
     },
     "execution_count": 9,
     "metadata": {},
     "output_type": "execute_result"
    }
   ],
   "source": [
    "def get_keys(dic): #returns a key for max values in dic\n",
    "  key_list = list(dic.keys())\n",
    "  val_list = list(dic.values())\n",
    "  pos = val_list.index(max(val_list))\n",
    "  return key_list[pos]\n",
    "  \n",
    "final_label = []\n",
    "for i in range(len(data)):\n",
    "  sentiments = {'angry':0, 'sadness':0, 'happiness':0, 'fear': 0, 'disgust':0, 'surprise':0, 'neutral':0}\n",
    "  sentiments[data.iloc[i]['1번 감정']] += data.iloc[i]['1번 감정세기']\n",
    "  sentiments[data.iloc[i]['2번 감정']] += data.iloc[i]['2번 감정세기']\n",
    "  sentiments[data.iloc[i]['3번 감정']] += data.iloc[i]['3번 감정세기']\n",
    "  sentiments[data.iloc[i]['4번 감정']] += data.iloc[i]['4번감정세기']\n",
    "  sentiments[data.iloc[i]['5번 감정']] += data.iloc[i]['5번 감정세기']\n",
    "\n",
    "  final_label.append(get_keys(sentiments))\n",
    "  \n",
    "final_label_df = pd.DataFrame(final_label, columns=['상황'])\n",
    "new_data = pd.concat([data[['wav_id', '발화문']], final_label_df], axis = 1)\n",
    "new_data"
   ]
  },
  {
   "cell_type": "markdown",
   "metadata": {},
   "source": [
    "### 감정 label마다 감정 세기를 더하여 감정 세기가 제일 큰 감정을 해당 발화문의 감정 label로 설정"
   ]
  },
  {
   "cell_type": "code",
   "execution_count": 10,
   "metadata": {},
   "outputs": [
    {
     "data": {
      "text/plain": [
       "sadness      6981\n",
       "happiness    4710\n",
       "angry        3804\n",
       "disgust      1384\n",
       "surprise     1343\n",
       "fear         1152\n",
       "Name: 상황, dtype: int64"
      ]
     },
     "execution_count": 10,
     "metadata": {},
     "output_type": "execute_result"
    }
   ],
   "source": [
    "emotion_counts = new_data['상황'].value_counts()\n",
    "emotion_counts"
   ]
  },
  {
   "cell_type": "markdown",
   "metadata": {},
   "source": [
    "### 기존 1386에서 1152로 fear 감소한 것을 알 수 있음"
   ]
  },
  {
   "cell_type": "code",
   "execution_count": 11,
   "metadata": {},
   "outputs": [
    {
     "data": {
      "text/html": [
       "<div>\n",
       "<style scoped>\n",
       "    .dataframe tbody tr th:only-of-type {\n",
       "        vertical-align: middle;\n",
       "    }\n",
       "\n",
       "    .dataframe tbody tr th {\n",
       "        vertical-align: top;\n",
       "    }\n",
       "\n",
       "    .dataframe thead th {\n",
       "        text-align: right;\n",
       "    }\n",
       "</style>\n",
       "<table border=\"1\" class=\"dataframe\">\n",
       "  <thead>\n",
       "    <tr style=\"text-align: right;\">\n",
       "      <th></th>\n",
       "      <th>wav_id</th>\n",
       "      <th>발화문</th>\n",
       "      <th>상황</th>\n",
       "    </tr>\n",
       "  </thead>\n",
       "  <tbody>\n",
       "    <tr>\n",
       "      <th>0</th>\n",
       "      <td>5f414b109dd513131eacee8d</td>\n",
       "      <td>나 아무래도 혼자 갇힌 것 같애.</td>\n",
       "      <td>fear</td>\n",
       "    </tr>\n",
       "    <tr>\n",
       "      <th>1</th>\n",
       "      <td>5f414b269dd513131eacee8e</td>\n",
       "      <td>자고 일어났더니 온 마을이 다 물바다야. 나 혼자 있어. 무서워.</td>\n",
       "      <td>fear</td>\n",
       "    </tr>\n",
       "    <tr>\n",
       "      <th>2</th>\n",
       "      <td>5f414b409dd513131eacee8f</td>\n",
       "      <td>내가 잠이 들면 업어가도 몰라. 그래서 재난 문자랑 피하라는 전화도 못 받고, 그냥...</td>\n",
       "      <td>fear</td>\n",
       "    </tr>\n",
       "    <tr>\n",
       "      <th>3</th>\n",
       "      <td>5f414b609dd513131eacee90</td>\n",
       "      <td>우리 집 주위에 다 물로 차 있어. 나갈 수가 없어.</td>\n",
       "      <td>fear</td>\n",
       "    </tr>\n",
       "    <tr>\n",
       "      <th>4</th>\n",
       "      <td>5f41d9c39dd513131eacef07</td>\n",
       "      <td>나 아무래도 갇힌 거 같아!</td>\n",
       "      <td>fear</td>\n",
       "    </tr>\n",
       "    <tr>\n",
       "      <th>...</th>\n",
       "      <td>...</td>\n",
       "      <td>...</td>\n",
       "      <td>...</td>\n",
       "    </tr>\n",
       "    <tr>\n",
       "      <th>2299</th>\n",
       "      <td>5fb896864c55eb78bd7cdd41</td>\n",
       "      <td>아예 그냥 사람들도 막 몰려있으니까 짭새가 무슨 일로 떴지? 궁금했어.</td>\n",
       "      <td>angry</td>\n",
       "    </tr>\n",
       "    <tr>\n",
       "      <th>2300</th>\n",
       "      <td>5f71d3f2f8fac448cc0a629b</td>\n",
       "      <td>할 수 없지, 뭐. 언젠간 깨끗해지겠지.</td>\n",
       "      <td>sadness</td>\n",
       "    </tr>\n",
       "    <tr>\n",
       "      <th>2301</th>\n",
       "      <td>5fbc8322cb503578af9ee73a</td>\n",
       "      <td>다음에는 더 기록을 단축할려고.</td>\n",
       "      <td>sadness</td>\n",
       "    </tr>\n",
       "    <tr>\n",
       "      <th>2302</th>\n",
       "      <td>5f5f8cda3bd6941613f6d3ae</td>\n",
       "      <td>그런 건 아닌 것 같아.</td>\n",
       "      <td>sadness</td>\n",
       "    </tr>\n",
       "    <tr>\n",
       "      <th>2303</th>\n",
       "      <td>5f6fffd4111dfd48d40fd370</td>\n",
       "      <td>내가 막 달려가서 해피를 안았기 때문에 다행히 아무 일도 안생겼어.</td>\n",
       "      <td>surprise</td>\n",
       "    </tr>\n",
       "  </tbody>\n",
       "</table>\n",
       "<p>2304 rows × 3 columns</p>\n",
       "</div>"
      ],
      "text/plain": [
       "                        wav_id  \\\n",
       "0     5f414b109dd513131eacee8d   \n",
       "1     5f414b269dd513131eacee8e   \n",
       "2     5f414b409dd513131eacee8f   \n",
       "3     5f414b609dd513131eacee90   \n",
       "4     5f41d9c39dd513131eacef07   \n",
       "...                        ...   \n",
       "2299  5fb896864c55eb78bd7cdd41   \n",
       "2300  5f71d3f2f8fac448cc0a629b   \n",
       "2301  5fbc8322cb503578af9ee73a   \n",
       "2302  5f5f8cda3bd6941613f6d3ae   \n",
       "2303  5f6fffd4111dfd48d40fd370   \n",
       "\n",
       "                                                    발화문        상황  \n",
       "0                                    나 아무래도 혼자 갇힌 것 같애.      fear  \n",
       "1                  자고 일어났더니 온 마을이 다 물바다야. 나 혼자 있어. 무서워.      fear  \n",
       "2     내가 잠이 들면 업어가도 몰라. 그래서 재난 문자랑 피하라는 전화도 못 받고, 그냥...      fear  \n",
       "3                         우리 집 주위에 다 물로 차 있어. 나갈 수가 없어.      fear  \n",
       "4                                       나 아무래도 갇힌 거 같아!      fear  \n",
       "...                                                 ...       ...  \n",
       "2299            아예 그냥 사람들도 막 몰려있으니까 짭새가 무슨 일로 떴지? 궁금했어.     angry  \n",
       "2300                             할 수 없지, 뭐. 언젠간 깨끗해지겠지.   sadness  \n",
       "2301                                  다음에는 더 기록을 단축할려고.   sadness  \n",
       "2302                                      그런 건 아닌 것 같아.   sadness  \n",
       "2303              내가 막 달려가서 해피를 안았기 때문에 다행히 아무 일도 안생겼어.  surprise  \n",
       "\n",
       "[2304 rows x 3 columns]"
      ]
     },
     "execution_count": 11,
     "metadata": {},
     "output_type": "execute_result"
    }
   ],
   "source": [
    "# Separate fear and non-fear samples\n",
    "fear_samples = new_data[new_data['상황'] == 'fear']\n",
    "non_fear_samples = new_data[new_data['상황'] != 'fear']\n",
    "\n",
    "# Randomly sample 1152 non-fear instances\n",
    "non_fear_sampled = non_fear_samples.sample(n=1152, random_state=42)\n",
    "\n",
    "# Combine fear and sampled non-fear instances into a new balanced dataset\n",
    "balanced_data = pd.concat([fear_samples, non_fear_sampled], ignore_index=True)\n",
    "\n",
    "# Verify the balanced dataset's distribution and size\n",
    "balanced_data_info = balanced_data['상황'].value_counts(), balanced_data.shape\n",
    "balanced_data_info\n",
    "\n",
    "balanced_data"
   ]
  },
  {
   "cell_type": "code",
   "execution_count": 12,
   "metadata": {},
   "outputs": [
    {
     "name": "stdout",
     "output_type": "stream",
     "text": [
      "Train 데이터셋 크기: (1842, 3)\n",
      "Test 데이터셋 크기: (462, 3)\n"
     ]
    }
   ],
   "source": [
    "from sklearn.model_selection import train_test_split\n",
    "\n",
    "# 불안과 비불안 데이터를 각각 분리\n",
    "fear_samples = balanced_data[balanced_data['상황'] == 'fear']\n",
    "non_fear_samples = balanced_data[balanced_data['상황'] != 'fear']\n",
    "\n",
    "# 각 데이터를 80:20으로 분할\n",
    "fear_train, fear_test = train_test_split(fear_samples, test_size=0.2, random_state=42)\n",
    "non_fear_train, non_fear_test = train_test_split(non_fear_samples, test_size=0.2, random_state=42)\n",
    "\n",
    "# Train과 Test 데이터셋을 결합하여 1:1 비율 유지\n",
    "train_data = pd.concat([fear_train, non_fear_train], ignore_index=True)\n",
    "test_data = pd.concat([fear_test, non_fear_test], ignore_index=True)\n",
    "\n",
    "# 각각의 데이터셋을 CSV 파일로 저장\n",
    "train_data.to_csv('final_balanced_train_data.csv', index=False, encoding='CP949')\n",
    "test_data.to_csv('final_balanced_test_data.csv', index=False, encoding='CP949')\n",
    "# 결과 확인\n",
    "print(\"Train 데이터셋 크기:\", train_data.shape)\n",
    "print(\"Test 데이터셋 크기:\", test_data.shape)"
   ]
  },
  {
   "cell_type": "code",
   "execution_count": 22,
   "metadata": {},
   "outputs": [
    {
     "name": "stdout",
     "output_type": "stream",
     "text": [
      "선택된 파일들이 ./test_data 폴더로 이동되었습니다.\n"
     ]
    }
   ],
   "source": [
    "import os\n",
    "import pandas as pd\n",
    "import shutil\n",
    "\n",
    "# 경로 설정\n",
    "test_data_folder = './final_balanced_test_data.csv'\n",
    "wav_folder = './train_data'\n",
    "test_folder = './final_test_data'\n",
    "\n",
    "# train_data 폴더가 없다면 생성\n",
    "os.makedirs(test_folder, exist_ok=True)\n",
    "\n",
    "# CSV 파일에서 wav_id 열을 불러오기\n",
    "data = pd.read_csv(test_data_folder, encoding='CP949')\n",
    "wav_ids = data['wav_id'].astype(str).tolist()  # 모든 값을 문자열로 변환\n",
    "\n",
    "# 파일 옮기기\n",
    "for wav_id in wav_ids:\n",
    "    wav_file = f\"{wav_id}.wav\"\n",
    "    wav_path = os.path.join(wav_folder, wav_file)\n",
    "    \n",
    "    # 파일이 존재하면 train_data 폴더로 이동\n",
    "    if os.path.exists(wav_path):\n",
    "        shutil.move(wav_path, test_folder)\n",
    "\n",
    "print(\"선택된 파일들이 ./test_data 폴더로 이동되었습니다.\")\n"
   ]
  }
 ],
 "metadata": {
  "kernelspec": {
   "display_name": "Python 3.10.7 64-bit",
   "language": "python",
   "name": "python3"
  },
  "language_info": {
   "codemirror_mode": {
    "name": "ipython",
    "version": 3
   },
   "file_extension": ".py",
   "mimetype": "text/x-python",
   "name": "python",
   "nbconvert_exporter": "python",
   "pygments_lexer": "ipython3",
   "version": "3.10.7"
  },
  "orig_nbformat": 4,
  "vscode": {
   "interpreter": {
    "hash": "e726dfcfd2aa7c89c8dbc4c560c1e1f3c16eb0fa359096469343a30c0228cb32"
   }
  }
 },
 "nbformat": 4,
 "nbformat_minor": 2
}
