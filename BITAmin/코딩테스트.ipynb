{
 "cells": [
  {
   "cell_type": "markdown",
   "metadata": {},
   "source": [
    "# 문제1 - 30점"
   ]
  },
  {
   "cell_type": "markdown",
   "metadata": {},
   "source": [
    "* Num 리스트의 값을 각각 하나씩 문자로 변환하여 Str 리스트에 저장한다.\n",
    "* Str 리스트의 값을 각각 하나씩 int형으로 변환하여 Res 리스트에 저장한다.\n",
    "* 이 과정 중 오류가 발생하면 \"오류 발생\"이라는 문구가 출력되게 작성한다.\n",
    "* hint: for,try, except문 사용"
   ]
  },
  {
   "cell_type": "code",
   "execution_count": 6,
   "metadata": {},
   "outputs": [
    {
     "name": "stdout",
     "output_type": "stream",
     "text": [
      "<class 'int'>\n",
      "['1', '20', '15', '67', 'TimeSeries']\n",
      "오류 발생\n"
     ]
    }
   ],
   "source": [
    "Num=[1,20,15,67,\"TimeSeries\"]\n",
    "\n"
   ]
  },
  {
   "cell_type": "markdown",
   "metadata": {},
   "source": [
    "# 문제2 - 30점"
   ]
  },
  {
   "cell_type": "markdown",
   "metadata": {},
   "source": [
    "* 총 10명의 학생이 기록한 수학, 영어 점수는 아래와 같습니다.\n",
    "\n",
    "* 학생의 수학, 영어 점수를 합산한 평균을 구하고, 점수가 높은 순서대로 정렬한 후 결과값으로 **점수가 높은 5명의 점수를 출력**하세요.\n",
    "\n",
    "* 리스트 순서대로 학생 한 명의 점수입니다.\n",
    "* hint: for문 사용"
   ]
  },
  {
   "cell_type": "code",
   "execution_count": null,
   "metadata": {},
   "outputs": [],
   "source": [
    "english = [84, 76, 86, 90, 73, 85, 81, 71, 89, 100]\n",
    "math = [72, 76, 86, 71, 69, 96, 74, 83, 87, 68]\n",
    "\n",
    "#답"
   ]
  },
  {
   "cell_type": "markdown",
   "metadata": {},
   "source": [
    "# 문제3 - 30점"
   ]
  },
  {
   "cell_type": "markdown",
   "metadata": {},
   "source": [
    "* 다음은 2022년 7월 26일 오후 2시 기준, 원화 환율입니다.\n",
    "\n",
    "  (미국:1309.70$, 유럽연합:1339.30€, 중국:193.84¥, 영국:1579.96£)\n",
    "* 환전하려는 금액을 입력 받고, 나라를 입력 받아서 환율을 **소수점 2자리**로 출력하세요. \n",
    "* Hint: 환전 금액과 나라 입력 시 input 함수를, 국가별 환율 계산에는 조건문을 사용하세요.\n",
    "\n",
    "<답안 예시>\n",
    "\n",
    "환전 금액(원화):8000\n",
    "\n",
    "국가 선택(미국/유럽연합/중국/영국):미국\n",
    "\n",
    "6.11\n"
   ]
  },
  {
   "cell_type": "code",
   "execution_count": null,
   "metadata": {},
   "outputs": [],
   "source": [
    "#답"
   ]
  },
  {
   "cell_type": "markdown",
   "metadata": {},
   "source": [
    "# 문제4 - 50점"
   ]
  },
  {
   "cell_type": "markdown",
   "metadata": {},
   "source": [
    "* 피보나치 수열은 [1, 1, 2, 3, 5, 8, 13, 21, 34, 55, ...]와 같이\n",
    "\n",
    "   f(t) = f(t-1) + f(t-2)로 구성되는 수열을 말합니다.\n",
    "* fib(n)를 실행하면 n번째 피보나치의 수가 반환될 수 있게 함수를 작성하시오.\n",
    "\n",
    "* EX) fib(6) 실행 시 8이 결과로 반환되어야 함.\n",
    "\n",
    "\n",
    " \n",
    "부분 점수 있음\n",
    "\n",
    "(재귀함수로 작성 시 가산점)"
   ]
  },
  {
   "cell_type": "code",
   "execution_count": null,
   "metadata": {},
   "outputs": [],
   "source": [
    "#함수 내용 (작성해야하는 내용)\n",
    "\n",
    "\n",
    "\n",
    "#출력해야 되는 내용\n",
    "print(fib(100))\n",
    "\n"
   ]
  }
 ],
 "metadata": {
  "kernelspec": {
   "display_name": "Python 3.10.7 64-bit",
   "language": "python",
   "name": "python3"
  },
  "language_info": {
   "codemirror_mode": {
    "name": "ipython",
    "version": 3
   },
   "file_extension": ".py",
   "mimetype": "text/x-python",
   "name": "python",
   "nbconvert_exporter": "python",
   "pygments_lexer": "ipython3",
   "version": "3.10.7"
  },
  "orig_nbformat": 4,
  "vscode": {
   "interpreter": {
    "hash": "e726dfcfd2aa7c89c8dbc4c560c1e1f3c16eb0fa359096469343a30c0228cb32"
   }
  }
 },
 "nbformat": 4,
 "nbformat_minor": 2
}
