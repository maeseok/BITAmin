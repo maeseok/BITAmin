{
 "cells": [
  {
   "cell_type": "markdown",
   "metadata": {},
   "source": [
    "# 문제1 - 25점"
   ]
  },
  {
   "cell_type": "markdown",
   "metadata": {},
   "source": [
    "구구단 9단을 짝수번째만 출력하시오.\n",
    "\n",
    "조건 : for문 사용\n",
    "\n",
    "<답안 예시>\n",
    "\n",
    "9x2=18 9x4=36 9x6=54 9x8=72"
   ]
  },
  {
   "cell_type": "code",
   "execution_count": 15,
   "metadata": {},
   "outputs": [
    {
     "name": "stdout",
     "output_type": "stream",
     "text": [
      "9 X 1 = 9\n",
      "9 X 2 = 18\n",
      "9 X 3 = 27\n",
      "9 X 4 = 36\n",
      "9 X 5 = 45\n",
      "9 X 6 = 54\n",
      "9 X 7 = 63\n",
      "9 X 8 = 72\n",
      "9 X 9 = 81\n"
     ]
    }
   ],
   "source": [
    "for i in range(1,10):\n",
    "    print(\"9 X\",i,\"=\",str(9*i))"
   ]
  },
  {
   "cell_type": "markdown",
   "metadata": {},
   "source": [
    "# 문제2 - 25점"
   ]
  },
  {
   "cell_type": "markdown",
   "metadata": {},
   "source": [
    "![n](./캡처.JPG)\n",
    "사진과 같은 별 모양을 출력하시오"
   ]
  },
  {
   "cell_type": "code",
   "execution_count": 17,
   "metadata": {},
   "outputs": [
    {
     "name": "stdout",
     "output_type": "stream",
     "text": [
      "*****\n",
      " ****\n",
      "  ***\n",
      "   **\n",
      "    *\n"
     ]
    }
   ],
   "source": [
    "for i in range(5):\n",
    "    print(\" \"*i+\"*\"*(5-i))"
   ]
  },
  {
   "cell_type": "markdown",
   "metadata": {},
   "source": [
    "# 문제3 - 25점"
   ]
  },
  {
   "cell_type": "markdown",
   "metadata": {},
   "source": [
    "* 다음은 2022년 7월 26일 오후 2시 기준, 원화 환율입니다.\n",
    "\n",
    "  (미국:1309.70$, 유럽연합:1339.30€, 중국:193.84¥, 영국:1579.96£)\n",
    "* 환전하려는 금액을 입력 받고, 나라를 입력 받아서 환율을 **소수점 2자리**로 출력하세요. \n",
    "* Hint: 환전 금액과 나라 입력 시 input 함수를, 국가별 환율 계산에는 조건문을 사용하세요.\n",
    "\n",
    "<답안 예시>\n",
    "\n",
    "환전 금액(원화):8000\n",
    "\n",
    "국가 선택(미국/유럽연합/중국/영국):미국\n",
    "\n",
    "6.11\n"
   ]
  },
  {
   "cell_type": "code",
   "execution_count": 23,
   "metadata": {},
   "outputs": [
    {
     "name": "stdout",
     "output_type": "stream",
     "text": [
      "6.11\n"
     ]
    }
   ],
   "source": [
    "money = input(\"환전 금액(원화):\")\n",
    "val = input(\"국가 선택(미국/유럽연합/중국/영국):\")\n",
    "res=0\n",
    "if val==\"미국\":\n",
    "    res=int(money)/1309.70"
   ]
  },
  {
   "cell_type": "markdown",
   "metadata": {},
   "source": [
    "# 문제4 - 25점"
   ]
  },
  {
   "cell_type": "markdown",
   "metadata": {},
   "source": [
    "* 범위 1과 50 사이의 소수(prime number)을 출력하는 코드를 작성하세요.\n",
    "\n",
    "* Hint: for 반복문을 사용해주세요. \n",
    "\n",
    "<답안 예시>\n",
    "1 과 10 사이의 소수: \n",
    "\n",
    "2\n",
    "3\n",
    "5\n"
   ]
  },
  {
   "cell_type": "code",
   "execution_count": null,
   "metadata": {},
   "outputs": [],
   "source": [
    "#함수 내용 (작성해야하는 내용)\n",
    "\n",
    "\n",
    "\n",
    "#출력해야 되는 내용\n",
    "print(Prime())\n"
   ]
  }
 ],
 "metadata": {
  "kernelspec": {
   "display_name": "Python 3.10.7 64-bit",
   "language": "python",
   "name": "python3"
  },
  "language_info": {
   "codemirror_mode": {
    "name": "ipython",
    "version": 3
   },
   "file_extension": ".py",
   "mimetype": "text/x-python",
   "name": "python",
   "nbconvert_exporter": "python",
   "pygments_lexer": "ipython3",
   "version": "3.10.10"
  },
  "orig_nbformat": 4,
  "vscode": {
   "interpreter": {
    "hash": "e726dfcfd2aa7c89c8dbc4c560c1e1f3c16eb0fa359096469343a30c0228cb32"
   }
  }
 },
 "nbformat": 4,
 "nbformat_minor": 2
}
