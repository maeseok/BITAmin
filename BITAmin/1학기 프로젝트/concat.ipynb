{
 "cells": [
  {
   "cell_type": "code",
   "execution_count": 48,
   "metadata": {},
   "outputs": [
    {
     "name": "stdout",
     "output_type": "stream",
     "text": [
      "             dialect_form             standard_form  form_len 노래 제목\n",
      "0             고찌 글라 고찌 가게             같이 가자. 함께 가자.        13  고찌글라\n",
      "1       느영 고찌 글민 지꺼짐이 열배여        너와 함께 하면 즐거움이 열배야.        18   NaN\n",
      "2             고찌 글라 고찌 가게             같이 가자. 함께 가자.        13   NaN\n",
      "3       느영 고찌 글민 지꺼짐이 백배여        너와 함께 하면 즐거움이 백배야.        18   NaN\n",
      "4    영도 곱닥헌 날 공기 좋고 사람 좋고  이렇게 아름다운 날. 공기 좋고 사람 좋고.        24   NaN\n",
      "..                    ...                       ...       ...   ...\n",
      "529           기억하지는 마라줄래영               기억하지는 말아줄래요        11   NaN\n",
      "530           아직도 잘 모르겟저                 아직도 잘 모르겠어        10   NaN\n",
      "531               당신의 흔적이                   당신의 흔적이         7   NaN\n",
      "532              지울 수 업시                    지울 수 없이         7   NaN\n",
      "533                   소중해                       소중해         3   NaN\n",
      "\n",
      "[534 rows x 4 columns]\n",
      "0                 같이 가자. 함께 가자.\n",
      "1            너와 함께 하면 즐거움이 열배야.\n",
      "2                 같이 가자. 함께 가자.\n",
      "3            너와 함께 하면 즐거움이 백배야.\n",
      "4      이렇게 아름다운 날. 공기 좋고 사람 좋고.\n",
      "                 ...           \n",
      "529                 기억하지는 말아줄래요\n",
      "530                  아직도 잘 모르겠어\n",
      "531                     당신의 흔적이\n",
      "532                     지울 수 없이\n",
      "533                         소중해\n",
      "Name: standard_form, Length: 534, dtype: object\n"
     ]
    }
   ],
   "source": [
    "import os\n",
    "import csv\n",
    "import pandas as pd\n",
    "import glob\n",
    "\n",
    "merged_df = pd.read_excel('jeju.xlsx')\n",
    "\n",
    "print(merged_df)\n",
    "print(merged_df['standard_form'])"
   ]
  },
  {
   "cell_type": "code",
   "execution_count": 49,
   "metadata": {},
   "outputs": [],
   "source": [
    "# 불용어 제거 - 감정표현\n",
    "merged_df['standard_form'] = merged_df['standard_form'].apply(lambda x: str(x).replace('(', ''))\n",
    "merged_df['standard_form'] = merged_df['standard_form'].apply(lambda x: str(x).replace(')', ''))\n",
    "merged_df['standard_form'] = merged_df['standard_form'].apply(lambda x: str(x).replace('#', ''))\n",
    "merged_df['standard_form'] = merged_df['standard_form'].apply(lambda x: str(x).replace('{laughing}', ''))\n",
    "merged_df['standard_form'] = merged_df['standard_form'].apply(lambda x: str(x).replace('{laughing5}', ''))\n",
    "merged_df['standard_form'] = merged_df['standard_form'].apply(lambda x: str(x).replace('{laughing6}', ''))\n",
    "merged_df['standard_form'] = merged_df['standard_form'].apply(lambda x: str(x).replace('{applauding}', ''))\n",
    "merged_df['standard_form'] = merged_df['standard_form'].apply(lambda x: str(x).replace('{clearing}', ''))\n",
    "merged_df['standard_form'] = merged_df['standard_form'].apply(lambda x: str(x).replace('{singing}', ''))\n",
    "\n",
    "merged_df['dialect_form'] = merged_df['dialect_form'].apply(lambda x: str(x).replace('(', ''))\n",
    "merged_df['dialect_form'] = merged_df['dialect_form'].apply(lambda x: str(x).replace(')', ''))\n",
    "merged_df['dialect_form'] = merged_df['dialect_form'].apply(lambda x: str(x).replace('#', ''))\n",
    "merged_df['dialect_form'] = merged_df['dialect_form'].apply(lambda x: str(x).replace('{laughing}', ''))\n",
    "merged_df['dialect_form'] = merged_df['dialect_form'].apply(lambda x: str(x).replace('{laughing5}', ''))\n",
    "merged_df['dialect_form'] = merged_df['dialect_form'].apply(lambda x: str(x).replace('{laughing6}', ''))\n",
    "merged_df['dialect_form'] = merged_df['dialect_form'].apply(lambda x: str(x).replace('{applauding}', ''))\n",
    "merged_df['dialect_form'] = merged_df['dialect_form'].apply(lambda x: str(x).replace('{clearing}', ''))\n",
    "merged_df['dialect_form'] = merged_df['dialect_form'].apply(lambda x: str(x).replace('{singing}', ''))"
   ]
  },
  {
   "cell_type": "code",
   "execution_count": 51,
   "metadata": {},
   "outputs": [
    {
     "name": "stdout",
     "output_type": "stream",
     "text": [
      "             dialect_form             standard_form  form_len 노래 제목  isDialect\n",
      "0             고찌 글라 고찌 가게             같이 가자. 함께 가자.        13  고찌글라       True\n",
      "1       느영 고찌 글민 지꺼짐이 열배여        너와 함께 하면 즐거움이 열배야.        18   NaN       True\n",
      "2             고찌 글라 고찌 가게             같이 가자. 함께 가자.        13   NaN       True\n",
      "3       느영 고찌 글민 지꺼짐이 백배여        너와 함께 하면 즐거움이 백배야.        18   NaN       True\n",
      "4    영도 곱닥헌 날 공기 좋고 사람 좋고  이렇게 아름다운 날. 공기 좋고 사람 좋고.        24   NaN       True\n",
      "..                    ...                       ...       ...   ...        ...\n",
      "529           기억하지는 마라줄래영               기억하지는 말아줄래요        11   NaN       True\n",
      "530           아직도 잘 모르겟저                 아직도 잘 모르겠어        10   NaN       True\n",
      "531               당신의 흔적이                   당신의 흔적이         7   NaN      False\n",
      "532              지울 수 업시                    지울 수 없이         7   NaN       True\n",
      "533                   소중해                       소중해         3   NaN      False\n",
      "\n",
      "[534 rows x 5 columns]\n"
     ]
    }
   ],
   "source": [
    "# 불용어 제거 - 이름\n",
    "import numpy as np\n",
    "for i in range(1, 101):\n",
    "    merged_df['standard_form'] = merged_df['standard_form'].apply(lambda x: str(x).replace(f'&name{i}&', ''))\n",
    "    merged_df['dialect_form'] = merged_df['dialect_form'].apply(lambda x: str(x).replace(f'&name{i}&', ''))\n",
    "\n",
    "    merged_df['standard_form'] = merged_df['standard_form'].apply(lambda x: str(x).replace(f'&company-name{i}&', ''))\n",
    "    merged_df['dialect_form'] = merged_df['dialect_form'].apply(lambda x: str(x).replace(f'&company-name{i}&', ''))\n",
    "\n",
    "\n",
    "merged_df['standard_form'] = merged_df['standard_form'].apply(lambda x: str(x).replace('&name&', ''))\n",
    "merged_df['dialect_form'] = merged_df['dialect_form'].apply(lambda x: str(x).replace('&name&', ''))\n",
    "merged_df['standard_form'] = merged_df['standard_form'].apply(lambda x: str(x).replace('&name5 &', ''))\n",
    "merged_df['dialect_form'] = merged_df['dialect_form'].apply(lambda x: str(x).replace('&name5 &', ''))\n",
    "merged_df['standard_form'] = merged_df['standard_form'].apply(lambda x: str(x).replace('&namE5&', ''))\n",
    "merged_df['dialect_form'] = merged_df['dialect_form'].apply(lambda x: str(x).replace('&namE5&', ''))\n",
    "merged_df['standard_form'] = merged_df['standard_form'].apply(lambda x: str(x).replace('&name3$', ''))\n",
    "merged_df['dialect_form'] = merged_df['dialect_form'].apply(lambda x: str(x).replace('&name3$', ''))\n",
    "merged_df['standard_form'] = merged_df['standard_form'].apply(lambda x: str(x).replace('@name@', ''))\n",
    "merged_df['dialect_form'] = merged_df['dialect_form'].apply(lambda x: str(x).replace('@name@', ''))\n",
    "merged_df['standard_form'] = merged_df['standard_form'].apply(lambda x: str(x).replace('@name3', ''))\n",
    "merged_df['dialect_form'] = merged_df['dialect_form'].apply(lambda x: str(x).replace('@name3', ''))\n",
    "merged_df['standard_form'] = merged_df['standard_form'].apply(lambda x: str(x).replace('&name@', ''))\n",
    "merged_df['dialect_form'] = merged_df['dialect_form'].apply(lambda x: str(x).replace('&name@', ''))\n",
    "merged_df['standard_form'] = merged_df['standard_form'].apply(lambda x: str(x).replace('&company-name&', ''))\n",
    "merged_df['dialect_form'] = merged_df['dialect_form'].apply(lambda x: str(x).replace('&company-name&', ''))\n",
    "merged_df['standard_form'] = merged_df['standard_form'].apply(lambda x: str(x).replace('&compny-name2&', ''))\n",
    "merged_df['dialect_form'] = merged_df['dialect_form'].apply(lambda x: str(x).replace('&compny-name2&', ''))\n",
    "merged_df['isDialect'] = np.where(merged_df['standard_form'] != merged_df['dialect_form'], True,False)\n",
    "print(merged_df)"
   ]
  },
  {
   "cell_type": "code",
   "execution_count": 54,
   "metadata": {},
   "outputs": [],
   "source": [
    "\n",
    "# Let's define a function to process the standard_form and dialect_form columns as described\n",
    "def preprocess_forms(row):\n",
    "    # Split the sentence into tokens based on whitespace\n",
    "    dialect_tokens = row['dialect_form'].split()\n",
    "    standard_tokens = row['standard_form'].split()\n",
    "\n",
    "    # For tokens that contain a '/', choose the part before '/' for dialect_form\n",
    "    # and the part after '/' for standard_form\n",
    "    row['dialect_form'] = ' '.join(token.split('/')[0] if '/' in token else token for token in dialect_tokens)\n",
    "    row['standard_form'] = ' '.join(token.split('/')[1] if '/' in token else token for token in standard_tokens)\n",
    "\n",
    "    return row\n",
    "\n",
    "# Apply the preprocess function to each row in the DataFrame\n",
    "processed_df = merged_df.apply(preprocess_forms, axis=1)\n",
    "processed_df.to_excel('jeju1.xlsx', index=False)"
   ]
  },
  {
   "cell_type": "code",
   "execution_count": 55,
   "metadata": {},
   "outputs": [],
   "source": [
    "# Initialize an empty list to store DataFrames\n",
    "dataframes = []\n",
    "df = pd.read_csv(\"./okt_drop4-100000.csv\")\n",
    "#print(df)\n",
    "dataframes.append(df)\n",
    "df2 = pd.read_excel(\"./jeju1.xlsx\")\n",
    "dataframes.append(df2)\n",
    "\n",
    "# Concatenate all the DataFrames into a single one\n",
    "merged_df = pd.concat(dataframes, ignore_index=True)"
   ]
  },
  {
   "cell_type": "code",
   "execution_count": 57,
   "metadata": {},
   "outputs": [
    {
     "name": "stdout",
     "output_type": "stream",
     "text": [
      "        Unnamed: 0  speaker_id                                     form   \n",
      "0              5.0         1.0       그래서 우리 신년계획은 (어떵)/(어떻게) (짠?)/(짰어?)  \\\n",
      "1              8.0         2.0                 일단 (이)/(#이) 그때 일찍 모여야 돼.   \n",
      "2             10.0         2.0                 아 저 그거 그건 안 (정핸.)/(정했어.)   \n",
      "3             11.0         2.0        아 그거 말고 그거 말고 일단 그거 &name4& 오빠 생일   \n",
      "4             12.0         1.0  아 잠깐만 지금 신년 파티 전에 &name4& 오빠 생일 있는거 아니?   \n",
      "...            ...         ...                                      ...   \n",
      "100529         NaN         NaN                                      NaN   \n",
      "100530         NaN         NaN                                      NaN   \n",
      "100531         NaN         NaN                                      NaN   \n",
      "100532         NaN         NaN                                      NaN   \n",
      "100533         NaN         NaN                                      NaN   \n",
      "\n",
      "                             standard_form   \n",
      "0                  그래서 우리 신년 계획 은 어떻게 짰어 ?  \\\n",
      "1                      일단 이 그때 일찍 모 여야 돼 .   \n",
      "2                       아 저 그거 그건 안 정 했어 .   \n",
      "3                아 그거 말고 그거 말고 일단 그거 오빠 생일   \n",
      "4       아 잠깐 만 지금 신년 파티 전 에 오빠 생일 있는거 아니 ?   \n",
      "...                                    ...   \n",
      "100529                         기억하지는 말아줄래요   \n",
      "100530                          아직도 잘 모르겠어   \n",
      "100531                             당신의 흔적이   \n",
      "100532                             지울 수 없이   \n",
      "100533                                 소중해   \n",
      "\n",
      "                              dialect_form  isDialect  form_len 노래 제목  \n",
      "0                    그래서 우리 신년 계획 은 어떵 짠 ?       True       NaN   NaN  \n",
      "1                      일단 이 그때 일찍 모 여야 돼 .       True       NaN   NaN  \n",
      "2                         아 저 그거 그건 안 정핸 .       True       NaN   NaN  \n",
      "3                아 그거 말고 그거 말고 일단 그거 오빠 생일      False       NaN   NaN  \n",
      "4       아 잠깐 만 지금 신년 파티 전 에 오빠 생일 있는거 아니 ?      False       NaN   NaN  \n",
      "...                                    ...        ...       ...   ...  \n",
      "100529                         기억하지는 마라줄래영       True      11.0   NaN  \n",
      "100530                          아직도 잘 모르겟저       True      10.0   NaN  \n",
      "100531                             당신의 흔적이      False       7.0   NaN  \n",
      "100532                             지울 수 업시       True       7.0   NaN  \n",
      "100533                                 소중해      False       3.0   NaN  \n",
      "\n",
      "[100534 rows x 8 columns]\n"
     ]
    }
   ],
   "source": [
    "print(merged_df)\n",
    "merged_df.to_excel('okt10_ver1.xlsx', index=False)"
   ]
  }
 ],
 "metadata": {
  "kernelspec": {
   "display_name": "Python 3",
   "language": "python",
   "name": "python3"
  },
  "language_info": {
   "codemirror_mode": {
    "name": "ipython",
    "version": 3
   },
   "file_extension": ".py",
   "mimetype": "text/x-python",
   "name": "python",
   "nbconvert_exporter": "python",
   "pygments_lexer": "ipython3",
   "version": "3.10.10"
  }
 },
 "nbformat": 4,
 "nbformat_minor": 2
}
