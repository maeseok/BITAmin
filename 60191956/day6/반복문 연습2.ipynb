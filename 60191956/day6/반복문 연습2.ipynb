{
 "cells": [
  {
   "cell_type": "markdown",
   "id": "f8f7a6ee-0a20-4864-8a09-c1eeafc0f599",
   "metadata": {},
   "source": [
    "## 프로그램 : 반복문 연습 - while, for 연습\n",
    "## 작 성 자 : 이형석, 2024-07-01"
   ]
  },
  {
   "cell_type": "markdown",
   "id": "ea590db8-5c9a-486e-9508-589fba1144c6",
   "metadata": {},
   "source": [
    "<< while 반복 제어 연습 >>"
   ]
  },
  {
   "cell_type": "code",
   "execution_count": 2,
   "id": "9155f053-80b3-4b4e-91e4-b96c6d3db30d",
   "metadata": {},
   "outputs": [
    {
     "name": "stdin",
     "output_type": "stream",
     "text": [
      "비밀번호?  #1234*\n"
     ]
    },
    {
     "name": "stdout",
     "output_type": "stream",
     "text": [
      "어서오세요, 문이 열렸습니다!\n"
     ]
    }
   ],
   "source": [
    "pwd = input('비밀번호? ')\n",
    "while pwd != '#1234*':\n",
    "    pwd = input('비밀번호? ')\n",
    "print('어서오세요, 문이 열렸습니다!')\n"
   ]
  },
  {
   "cell_type": "code",
   "execution_count": 3,
   "id": "99612419-a596-4ea1-b7d7-d95525082c31",
   "metadata": {},
   "outputs": [
    {
     "name": "stdin",
     "output_type": "stream",
     "text": [
      "비밀번호?  12\n",
      "비밀번호?  12\n",
      "비밀번호?  34\n",
      "비밀번호?  1234\n",
      "비밀번호?  #1234*\n"
     ]
    },
    {
     "name": "stdout",
     "output_type": "stream",
     "text": [
      "어서오세요, 문이 열렸습니다!\n"
     ]
    }
   ],
   "source": [
    "pwd = ''\n",
    "while pwd != '#1234*':\n",
    "    pwd = input('비밀번호? ')\n",
    "print('어서오세요, 문이 열렸습니다!')"
   ]
  },
  {
   "cell_type": "markdown",
   "id": "35677394-6127-49fb-943c-d8b8e603f428",
   "metadata": {},
   "source": [
    "횟수 반복 - while 구문으로 할 경우"
   ]
  },
  {
   "cell_type": "code",
   "execution_count": 5,
   "id": "0c090a65-a2f5-41d8-b3dc-acdd7b5615f5",
   "metadata": {},
   "outputs": [
    {
     "name": "stdout",
     "output_type": "stream",
     "text": [
      "1\n",
      "2\n",
      "3\n",
      "4\n",
      "5\n"
     ]
    }
   ],
   "source": [
    "count = 0\n",
    "while count < 5:\n",
    "    count += 1 \n",
    "    print(count)"
   ]
  },
  {
   "cell_type": "code",
   "execution_count": 6,
   "id": "c9a354f3-06da-402b-b594-a013e6a27b58",
   "metadata": {},
   "outputs": [
    {
     "name": "stdout",
     "output_type": "stream",
     "text": [
      "hello wolrd\n",
      "hello wolrd\n",
      "hello wolrd\n",
      "hello wolrd\n",
      "hello wolrd\n",
      "hello wolrd\n",
      "hello wolrd\n",
      "hello wolrd\n",
      "hello wolrd\n",
      "hello wolrd\n"
     ]
    }
   ],
   "source": [
    "count = 0 \n",
    "while count < 10:\n",
    "    count += 1\n",
    "    print('hello wolrd')"
   ]
  },
  {
   "cell_type": "markdown",
   "id": "4c1fa2bd-e9e0-4712-b35a-f8b2a89ee392",
   "metadata": {},
   "source": [
    "<< for 변수 in 시퀀스 - 시퀀스가 정수인 이용 예제 >>"
   ]
  },
  {
   "cell_type": "code",
   "execution_count": 10,
   "id": "5ebb4834-c029-478d-b73b-93627da925de",
   "metadata": {},
   "outputs": [
    {
     "name": "stdout",
     "output_type": "stream",
     "text": [
      "h\n",
      "e\n",
      "l\n",
      "l\n",
      "o\n",
      "for 구문이 완료되었습니다.\n"
     ]
    }
   ],
   "source": [
    "msg = 'hello'\n",
    "for ch in msg:\n",
    "    print(f'{ch}')\n",
    "print('for 구문이 완료되었습니다.')"
   ]
  },
  {
   "cell_type": "markdown",
   "id": "d8c5b7c7-e7a2-4eed-bf41-df371e94a7f2",
   "metadata": {},
   "source": [
    "<< for 변수 in 시퀀스 - 시퀀스가 리스트를 이용 예제 >>"
   ]
  },
  {
   "cell_type": "code",
   "execution_count": 12,
   "id": "f0c51e7d-3fbc-46ec-b0cb-8e8b1835d7f6",
   "metadata": {},
   "outputs": [
    {
     "name": "stdout",
     "output_type": "stream",
     "text": [
      "1 : 방문을 환영합니다. \n",
      "2 : 방문을 환영합니다. \n",
      "3 : 방문을 환영합니다. \n",
      "4 : 방문을 환영합니다. \n",
      "5 : 방문을 환영합니다. \n",
      "\n",
      "for 구문이 완료되었습니다. \n"
     ]
    }
   ],
   "source": [
    "for i in [1,2,3,4,5]:\n",
    "    print(f'{i} : 방문을 환영합니다. ')\n",
    "print('\\nfor 구문이 완료되었습니다. ')"
   ]
  },
  {
   "cell_type": "markdown",
   "id": "0c3104e9-aef0-421a-a04f-169cc7647d96",
   "metadata": {},
   "source": [
    "<< 구구단 출력 >>"
   ]
  },
  {
   "cell_type": "code",
   "execution_count": 13,
   "id": "9ff12f89-ca9b-4f9b-897e-aa926896aa9d",
   "metadata": {},
   "outputs": [
    {
     "name": "stdout",
     "output_type": "stream",
     "text": [
      "9 x 1 = 9\n",
      "9 x 2 = 18\n",
      "9 x 3 = 27\n",
      "9 x 4 = 36\n",
      "9 x 5 = 45\n"
     ]
    }
   ],
   "source": [
    "for i in [1,2,3,4,5]:\n",
    "    print(f'9 x {i} = {9*i}')"
   ]
  },
  {
   "cell_type": "markdown",
   "id": "a05bdb5e-1eca-497e-a520-49f21f984ef5",
   "metadata": {},
   "source": [
    "<< for 변수 in 시퀀스 - 시퀀스가 range() 함수 이용 - 초기값, 끝값+1, 스텝 >>"
   ]
  },
  {
   "cell_type": "code",
   "execution_count": 17,
   "id": "2e1a04e4-7f11-488a-8a62-85a84bb23008",
   "metadata": {},
   "outputs": [
    {
     "name": "stdout",
     "output_type": "stream",
     "text": [
      "1 2 3 4 5 6 7 8 9 10 "
     ]
    }
   ],
   "source": [
    "for i in range(1, 11, 1):\n",
    "    print(f'{i}', end=' ')"
   ]
  },
  {
   "cell_type": "code",
   "execution_count": 18,
   "id": "9cabe658-06c1-4990-90d7-1a332e8260b4",
   "metadata": {},
   "outputs": [
    {
     "name": "stdout",
     "output_type": "stream",
     "text": [
      "10 9 8 7 6 5 4 3 2 1 "
     ]
    }
   ],
   "source": [
    "for i in range(10, 0, -1):\n",
    "    print(f'{i}', end=' ')"
   ]
  },
  {
   "cell_type": "code",
   "execution_count": 19,
   "id": "14825833-448b-4b97-bb22-c5b54a8e79b5",
   "metadata": {},
   "outputs": [
    {
     "name": "stdout",
     "output_type": "stream",
     "text": [
      "1 3 5 7 9 "
     ]
    }
   ],
   "source": [
    "for i in range(1, 11, 2):\n",
    "    print(f'{i}', end=' ')"
   ]
  },
  {
   "cell_type": "code",
   "execution_count": 24,
   "id": "4b82592e-f7d0-47d6-b0cd-92ce8e6fa3a9",
   "metadata": {},
   "outputs": [
    {
     "name": "stdout",
     "output_type": "stream",
     "text": [
      "1부터 10까지 정수의 합은 55이다.\n"
     ]
    }
   ],
   "source": [
    "total = 0\n",
    "for n in range(0,11):\n",
    "    total+=n\n",
    "print(f'1부터 10까지 정수의 합은 {total}이다.')"
   ]
  },
  {
   "cell_type": "code",
   "execution_count": 25,
   "id": "a1e1c3ca-de89-4daa-b914-0e0ed405be0f",
   "metadata": {},
   "outputs": [
    {
     "name": "stdout",
     "output_type": "stream",
     "text": [
      "1부터 10까지 짝수 정수의 합은 30이다.\n"
     ]
    }
   ],
   "source": [
    "total = 0\n",
    "for n in range(0,11,2):\n",
    "    total+=n\n",
    "print(f'1부터 10까지 짝수 정수의 합은 {total}이다.')"
   ]
  },
  {
   "cell_type": "code",
   "execution_count": 26,
   "id": "72022b98-1d35-459b-a06a-60c8cc84f104",
   "metadata": {},
   "outputs": [
    {
     "name": "stdout",
     "output_type": "stream",
     "text": [
      "1부터 10까지 홀수 정수의 합은 25이다.\n"
     ]
    }
   ],
   "source": [
    "total = 0\n",
    "for n in range(1,11,2):\n",
    "    total+=n\n",
    "print(f'1부터 10까지 홀수 정수의 합은 {total}이다.')"
   ]
  },
  {
   "cell_type": "code",
   "execution_count": 27,
   "id": "220fb149-5efd-4f54-9641-7b53ffb335cc",
   "metadata": {},
   "outputs": [
    {
     "name": "stdout",
     "output_type": "stream",
     "text": [
      "1부터 10까지 짝수 정수의 합은 30이다.\n"
     ]
    }
   ],
   "source": [
    "total = 0\n",
    "for n in range(0,11):\n",
    "    if n%2==0:\n",
    "        total+=n\n",
    "print(f'1부터 10까지 짝수 정수의 합은 {total}이다.')"
   ]
  },
  {
   "cell_type": "code",
   "execution_count": 28,
   "id": "294cd63d-ae17-40c9-b5c2-46440689a937",
   "metadata": {},
   "outputs": [
    {
     "name": "stdout",
     "output_type": "stream",
     "text": [
      "1부터 10까지 홀수 정수의 합은 25이다.\n"
     ]
    }
   ],
   "source": [
    "total = 0\n",
    "for n in range(0,11):\n",
    "    if n%2!=0:\n",
    "        total+=n\n",
    "print(f'1부터 10까지 홀수 정수의 합은 {total}이다.')"
   ]
  },
  {
   "cell_type": "code",
   "execution_count": null,
   "id": "55268b4b-eee0-46ea-8fa0-2c2637af3b22",
   "metadata": {},
   "outputs": [],
   "source": []
  }
 ],
 "metadata": {
  "kernelspec": {
   "display_name": "Python 3 (ipykernel)",
   "language": "python",
   "name": "python3"
  },
  "language_info": {
   "codemirror_mode": {
    "name": "ipython",
    "version": 3
   },
   "file_extension": ".py",
   "mimetype": "text/x-python",
   "name": "python",
   "nbconvert_exporter": "python",
   "pygments_lexer": "ipython3",
   "version": "3.10.6"
  }
 },
 "nbformat": 4,
 "nbformat_minor": 5
}
