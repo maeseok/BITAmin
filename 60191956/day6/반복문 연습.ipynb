{
 "cells": [
  {
   "cell_type": "markdown",
   "id": "507aa3e4-22d0-437b-b80f-165744cdf24f",
   "metadata": {},
   "source": [
    "# 조건부 연습\n",
    "## if-else 연습\n",
    "### 짝수-홀수 연습"
   ]
  },
  {
   "cell_type": "code",
   "execution_count": 1,
   "id": "5da33c99-071c-499e-8387-789c69869afb",
   "metadata": {},
   "outputs": [
    {
     "name": "stdout",
     "output_type": "stream",
     "text": [
      "hellowrold\n"
     ]
    }
   ],
   "source": [
    "print('hellowrold')"
   ]
  },
  {
   "cell_type": "code",
   "execution_count": 2,
   "id": "b4129d76-7653-498d-a3d9-542b06cd0add",
   "metadata": {},
   "outputs": [
    {
     "name": "stdout",
     "output_type": "stream",
     "text": [
      "5는 홀수\n"
     ]
    }
   ],
   "source": [
    "number = 5\n",
    "if number %2 ==0 :\n",
    "    print(f'{number}는 짝수')\n",
    "else:\n",
    "    print(f'{number}는 홀수')"
   ]
  },
  {
   "cell_type": "code",
   "execution_count": 3,
   "id": "b9fcd4fa-1f55-4d82-be1a-78e7093ea8a7",
   "metadata": {},
   "outputs": [
    {
     "name": "stdout",
     "output_type": "stream",
     "text": [
      "5는 양수\n"
     ]
    }
   ],
   "source": [
    "if number>=0:\n",
    "    print(f'{number}는 양수')\n",
    "else:\n",
    "    print(f'{number}는 음수')"
   ]
  },
  {
   "cell_type": "markdown",
   "id": "98f66f31-a96a-49dd-867f-e5c0426f2303",
   "metadata": {},
   "source": [
    "<< 다양한 논리 연산 연습 >>"
   ]
  },
  {
   "cell_type": "code",
   "execution_count": 4,
   "id": "c181e3ca-c96d-44c2-9971-8bb958969ef8",
   "metadata": {},
   "outputs": [
    {
     "name": "stdin",
     "output_type": "stream",
     "text": [
      "당신의 나이는? 20\n"
     ]
    },
    {
     "name": "stdout",
     "output_type": "stream",
     "text": [
      "20는 유요한 나이인가> True\n"
     ]
    }
   ],
   "source": [
    "age = int(input('당신의 나이는?'))\n",
    "result = age >= 0 and age <=120\n",
    "print(f'{age}는 유요한 나이인가> {result}')"
   ]
  },
  {
   "cell_type": "markdown",
   "id": "54826072-41a4-4d07-98d0-fbc4d40aa3bb",
   "metadata": {},
   "source": [
    "<< if~else 연습 >>"
   ]
  },
  {
   "cell_type": "code",
   "execution_count": 5,
   "id": "20017b31-abb9-41da-a0c5-0f7ea5638c77",
   "metadata": {},
   "outputs": [
    {
     "name": "stdin",
     "output_type": "stream",
     "text": [
      "첫 번째 점수는? 10\n",
      "두 번째 점수는? 20\n"
     ]
    },
    {
     "name": "stdout",
     "output_type": "stream",
     "text": [
      "10은 20보다 크지 않다\n"
     ]
    }
   ],
   "source": [
    "a1 = int(input('첫 번째 점수는?'))\n",
    "a2 = int(input('두 번째 점수는?'))\n",
    "\n",
    "if a1 > a2:\n",
    "    print(f'{a1}은 {a2}보다 크다')\n",
    "else:\n",
    "    print(f'{a1}은 {a2}보다 크지 않다')"
   ]
  },
  {
   "cell_type": "markdown",
   "id": "93e31e4c-4707-4c4c-958b-ab5a8cec3cbb",
   "metadata": {},
   "source": [
    "<< if~elif ~ if 연습 >>"
   ]
  },
  {
   "cell_type": "code",
   "execution_count": 8,
   "id": "d6d53ffc-efbc-4b87-ab05-376a4daeea85",
   "metadata": {},
   "outputs": [
    {
     "name": "stdin",
     "output_type": "stream",
     "text": [
      "점수를 입력하시오: 85\n"
     ]
    },
    {
     "name": "stdout",
     "output_type": "stream",
     "text": [
      "B학점 입니다.\n"
     ]
    }
   ],
   "source": [
    "score = int(input(\"점수를 입력하시오:\")) \n",
    "if score >= 90: \n",
    "    print('A학점 입니다.') \n",
    "elif score >= 80: \n",
    "    print('B학점 입니다.') \n",
    "elif score >= 70: \n",
    "    print('C학점 입니다.') \n",
    "elif score >= 60: \n",
    "    print('D학점 입니다.') \n",
    "else: \n",
    "    print('F학점 입니다.')"
   ]
  },
  {
   "cell_type": "markdown",
   "id": "ec343bba-7cf3-4acc-9175-77ad48d2a4f3",
   "metadata": {},
   "source": []
  }
 ],
 "metadata": {
  "kernelspec": {
   "display_name": "Python 3 (ipykernel)",
   "language": "python",
   "name": "python3"
  },
  "language_info": {
   "codemirror_mode": {
    "name": "ipython",
    "version": 3
   },
   "file_extension": ".py",
   "mimetype": "text/x-python",
   "name": "python",
   "nbconvert_exporter": "python",
   "pygments_lexer": "ipython3",
   "version": "3.10.6"
  }
 },
 "nbformat": 4,
 "nbformat_minor": 5
}
